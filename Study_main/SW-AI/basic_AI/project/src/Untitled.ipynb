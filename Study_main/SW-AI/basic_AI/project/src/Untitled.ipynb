{
 "cells": [
  {
   "cell_type": "code",
   "execution_count": 1,
   "metadata": {},
   "outputs": [],
   "source": [
    "import requests\n",
    "import os\n",
    "import json"
   ]
  },
  {
   "cell_type": "code",
   "execution_count": 11,
   "metadata": {},
   "outputs": [],
   "source": [
    "api_key = '1760236283:AAFcjOBmTOM8MPWNUZrhDfGN52-ToK4YAfw'"
   ]
  },
  {
   "cell_type": "code",
   "execution_count": 3,
   "metadata": {},
   "outputs": [],
   "source": [
    "token = os.getenv(api_key)"
   ]
  },
  {
   "cell_type": "code",
   "execution_count": 4,
   "metadata": {},
   "outputs": [
    {
     "name": "stdout",
     "output_type": "stream",
     "text": [
      "{'ok': False, 'error_code': 404, 'description': 'Not Found'}\n"
     ]
    }
   ],
   "source": [
    "url = 'https://api.telegram.org/bot{}/getUpdates'.format(token)\n",
    "response = json.loads(requests.get(url).text) # json으로 받기\n",
    "print(response)"
   ]
  },
  {
   "cell_type": "code",
   "execution_count": null,
   "metadata": {},
   "outputs": [
    {
     "name": "stderr",
     "output_type": "stream",
     "text": [
      "D:\\anaconda\\lib\\site-packages\\ipykernel_launcher.py:35: TelegramDeprecationWarning: The argument `clean` of `start_polling` is deprecated. Please use `drop_pending_updates` instead.\n",
      "No error handlers are registered, logging exception.\n",
      "Traceback (most recent call last):\n",
      "  File \"<ipython-input-9-caa33d245c0e>\", line 7, in check_id\n",
      "    id = update.message.chat.id\n",
      "AttributeError: 'CallbackContext' object has no attribute 'message'\n",
      "\n",
      "During handling of the above exception, another exception occurred:\n",
      "\n",
      "Traceback (most recent call last):\n",
      "  File \"D:\\anaconda\\lib\\site-packages\\telegram\\ext\\dispatcher.py\", line 447, in process_update\n",
      "    handler.handle_update(update, self, check, context)\n",
      "  File \"D:\\anaconda\\lib\\site-packages\\telegram\\ext\\handler.py\", line 160, in handle_update\n",
      "    return self.callback(update, context)\n",
      "  File \"<ipython-input-9-caa33d245c0e>\", line 24, in start_command\n",
      "    id = check_id(bot, update)\n",
      "  File \"<ipython-input-9-caa33d245c0e>\", line 11, in check_id\n",
      "    id = update.channel_post.chat.id\n",
      "AttributeError: 'CallbackContext' object has no attribute 'channel_post'\n"
     ]
    }
   ],
   "source": [
    "from telegram.ext import Updater, CommandHandler # import modules\n",
    "\n",
    "TOKEN = api_key#WEBLOCTEST_BOT TOKEN KEY\n",
    "\n",
    "def check_id(bot, update):\n",
    "    try:\n",
    "        id = update.message.chat.id\n",
    "        print('Chat ID', id)\n",
    "        return id\n",
    "    except:\n",
    "        id = update.channel_post.chat.id\n",
    "        return id\n",
    "\n",
    "def check_nickname(bot, update):\n",
    "    try:\n",
    "        nickname = update.message.from_user.first_name\n",
    "        print('Chat NickName', nickname)\n",
    "        return nickname\n",
    "    except:\n",
    "        nickname = update.channel_post.from_user.first_name\n",
    "        return nickname\n",
    "\n",
    "def start_command(bot, update):\n",
    "    id = check_id(bot, update)\n",
    "    nickname = check_nickname(bot, update)\n",
    "    bot.send_message(chat_id=id, text=\"안녕하세요 \" + nickname +\"! 새로운 챗봇입니다!\\n\\n\")\n",
    "\n",
    "updater = Updater(TOKEN)\n",
    "\n",
    "updater.dispatcher.add_handler(CommandHandler('start', start_command))\n",
    "\n",
    "updater.start_polling(poll_interval=0.0,\n",
    "                          timeout=10,\n",
    "                          clean=False,\n",
    "                          bootstrap_retries=0)\n",
    "updater.idle()\n",
    "\n"
   ]
  },
  {
   "cell_type": "code",
   "execution_count": null,
   "metadata": {},
   "outputs": [
    {
     "name": "stdout",
     "output_type": "stream",
     "text": [
      "start telegram chat bot\n"
     ]
    },
    {
     "name": "stderr",
     "output_type": "stream",
     "text": [
      "D:\\anaconda\\lib\\site-packages\\ipykernel_launcher.py:42: TelegramDeprecationWarning: The argument `clean` of `start_polling` is deprecated. Please use `drop_pending_updates` instead.\n"
     ]
    }
   ],
   "source": [
    "from telegram.ext import Updater, MessageHandler, Filters, CommandHandler  # import modules\n",
    "import os\n",
    "\n",
    "my_token = api_key\n",
    "\n",
    "print('start telegram chat bot')\n",
    "path = \"C:\\\\Users\\\\user\\\\Desktop\\\\3_1\\\\SW-AI\\\\basic_AI\\\\project\\\\src\\\\DB\"\n",
    "dir_now = os.path.dirname(os.path.abspath(path))  # real path to dirname\n",
    "\n",
    "\n",
    "# message reply function\n",
    "def get_message(update, context) :\n",
    "    update.message.reply_text(\"got text\")\n",
    "    update.message.reply_text(update.message.text)\n",
    "\n",
    "\n",
    "# help reply function\n",
    "def help_command(update, context) :\n",
    "    update.message.reply_text(\"무엇을 도와드릴까요?\")\n",
    "\n",
    "\n",
    "# photo reply function\n",
    "def get_photo(update, context) :\n",
    "    file_path = os.path.join(dir_now, 'from_telegram.png')\n",
    "    photo_id = update.message.photo[-1].file_id  # photo 번호가 높을수록 화질이 좋음\n",
    "    photo_file = context.bot.getFile(photo_id)\n",
    "    photo_file.download(file_path)\n",
    "    update.message.reply_text('photo saved')\n",
    "\n",
    "\n",
    "updater = Updater(my_token, use_context=True)\n",
    "\n",
    "message_handler = MessageHandler(Filters.text & (~Filters.command), get_message) # 메세지중에서 command 제외\n",
    "updater.dispatcher.add_handler(message_handler)\n",
    "\n",
    "help_handler = CommandHandler('help', help_command)\n",
    "updater.dispatcher.add_handler(help_handler)\n",
    "\n",
    "photo_handler = MessageHandler(Filters.photo, get_photo)\n",
    "updater.dispatcher.add_handler(photo_handler)\n",
    "\n",
    "updater.start_polling(timeout=3, clean=True)\n",
    "updater.idle()"
   ]
  },
  {
   "cell_type": "code",
   "execution_count": null,
   "metadata": {},
   "outputs": [],
   "source": []
  }
 ],
 "metadata": {
  "kernelspec": {
   "display_name": "Python 3",
   "language": "python",
   "name": "python3"
  },
  "language_info": {
   "codemirror_mode": {
    "name": "ipython",
    "version": 3
   },
   "file_extension": ".py",
   "mimetype": "text/x-python",
   "name": "python",
   "nbconvert_exporter": "python",
   "pygments_lexer": "ipython3",
   "version": "3.7.1"
  }
 },
 "nbformat": 4,
 "nbformat_minor": 2
}
