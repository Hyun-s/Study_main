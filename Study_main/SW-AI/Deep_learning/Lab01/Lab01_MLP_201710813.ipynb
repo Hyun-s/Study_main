{
 "cells": [
  {
   "cell_type": "code",
   "execution_count": 1,
   "id": "separated-reducing",
   "metadata": {},
   "outputs": [],
   "source": [
    "import numpy as np\n",
    "import matplotlib.pyplot as plt\n",
    "%matplotlib inline\n",
    "\n",
    "import torch\n",
    "import torchvision.datasets as dset\n",
    "import torchvision.transforms as transforms\n",
    "\n",
    "from math import exp"
   ]
  },
  {
   "cell_type": "code",
   "execution_count": 2,
   "id": "supreme-origin",
   "metadata": {},
   "outputs": [],
   "source": [
    "mnist_test =dset.MNIST(\"\",train=False, transform=transforms.ToTensor(),\n",
    "                      target_transform=None, download=True)"
   ]
  },
  {
   "cell_type": "code",
   "execution_count": 3,
   "id": "turkish-africa",
   "metadata": {},
   "outputs": [
    {
     "name": "stdout",
     "output_type": "stream",
     "text": [
      "len of mnist_test: 10000\n",
      "image data shape:  torch.Size([1, 28, 28])\n",
      "label:  7\n"
     ]
    },
    {
     "data": {
      "text/plain": [
       "<function matplotlib.pyplot.show(close=None, block=None)>"
      ]
     },
     "execution_count": 3,
     "metadata": {},
     "output_type": "execute_result"
    },
    {
     "data": {
      "image/png": "[encoded data removed]",
      "text/plain": [
       "<Figure size 432x288 with 1 Axes>"
      ]
     },
     "metadata": {
      "needs_background": "light"
     },
     "output_type": "display_data"
    }
   ],
   "source": [
    "print(\"len of mnist_test:\", len(mnist_test))\n",
    "\n",
    "image, label = mnist_test.__getitem__(0)\n",
    "print(\"image data shape: \", image.size()) # dimesion check\n",
    "print(\"label: \", label)\n",
    "\n",
    "img = image.numpy()\n",
    "plt.title(\"lable: %d\"%label)\n",
    "plt.imshow(img[0], cmap='gray')\n",
    "plt.show"
   ]
  },
  {
   "cell_type": "code",
   "execution_count": 4,
   "id": "quality-uzbekistan",
   "metadata": {},
   "outputs": [],
   "source": [
    "# def sigmoid_func(x):\n",
    "#     return 1/(1+exp(-x))\n",
    "\n",
    "# def sigmoid(x):\n",
    "#     x2 = map(sigmoid_func,x)\n",
    "#     x2 = np.fromiter(x2,dtype = np.float32)\n",
    "#     return x2\n",
    "def sigmoid(x):\n",
    "    return 1/(1+np.exp(x))\n",
    "def softmax(x):\n",
    "    x2 = [exp(i)/sum(list(map(exp,x))) for i in x]\n",
    "    return x2"
   ]
  },
  {
   "cell_type": "code",
   "execution_count": 5,
   "id": "informed-sound",
   "metadata": {},
   "outputs": [],
   "source": [
    "class MyMLP:\n",
    "    def __init__(self, n_input, n_hidden1, n_hidden2, n_output):\n",
    "        self.W1 = np.zeros((n_hidden1, n_input), dtype=np.float32)\n",
    "        self.b1 = np.zeros((n_hidden1,), dtype=np.float32)\n",
    "        \n",
    "        self.W2 = np.zeros((n_hidden2, n_hidden1), dtype=np.float32)\n",
    "        self.b2= np.zeros((n_hidden2,), dtype=np.float32)\n",
    "        \n",
    "        self.W3 = np.zeros((n_output, n_hidden2), dtype=np.float32)\n",
    "        self.b3 = np.zeros((n_output,), dtype=np.float32)\n",
    "        \n",
    "    def __call__(self, x):\n",
    "        x = x.reshape(-1)\n",
    "        \n",
    "        h1 = sigmoid(np.dot(self.W1, x) + self.b1)\n",
    "        h2 = np.dot(self.W2, h1) + self.b2\n",
    "        out = np.dot(self.W3, h2) + self.b3\n",
    "        \n",
    "        return softmax(out)"
   ]
  },
  {
   "cell_type": "code",
   "execution_count": 6,
   "id": "furnished-lyric",
   "metadata": {},
   "outputs": [],
   "source": [
    "model = MyMLP(28*28, 256, 128, 10)"
   ]
  },
  {
   "cell_type": "code",
   "execution_count": 7,
   "id": "convinced-territory",
   "metadata": {},
   "outputs": [
    {
     "name": "stdout",
     "output_type": "stream",
     "text": [
      "(256, 784) (256,)\n",
      "(128, 256) (128,)\n",
      "(10, 128) (10,)\n"
     ]
    }
   ],
   "source": [
    "print(model.W1.shape, model.b1.shape)\n",
    "print(model.W2.shape, model.b2.shape)\n",
    "print(model.W3.shape, model.b3.shape)"
   ]
  },
  {
   "cell_type": "code",
   "execution_count": 8,
   "id": "exempt-begin",
   "metadata": {},
   "outputs": [],
   "source": [
    "weights = np.load('/home/ec2-user/SageMaker/DL/mlp_weight.npz')\n",
    "\n",
    "model.W1 = weights['W1']\n",
    "model.b1 = weights['b1']\n",
    "model.W2 = weights['W2']\n",
    "model.b2 = weights['b2']\n",
    "model.W3 = weights['W3']\n",
    "model.b3 = weights['b3']"
   ]
  },
  {
   "cell_type": "code",
   "execution_count": 9,
   "id": "atlantic-recycling",
   "metadata": {},
   "outputs": [
    {
     "name": "stdout",
     "output_type": "stream",
     "text": [
      "(256, 784) (256,)\n",
      "(128, 256) (128,)\n",
      "(10, 128) (10,)\n"
     ]
    }
   ],
   "source": [
    "print(model.W1.shape, model.b1.shape)\n",
    "print(model.W2.shape, model.b2.shape)\n",
    "print(model.W3.shape, model.b3.shape)"
   ]
  },
  {
   "cell_type": "code",
   "execution_count": 10,
   "id": "optimum-power",
   "metadata": {},
   "outputs": [
    {
     "data": {
      "image/png": "[encoded data removed]",
      "text/plain": [
       "<Figure size 432x288 with 1 Axes>"
      ]
     },
     "metadata": {
      "needs_background": "light"
     },
     "output_type": "display_data"
    },
    {
     "data": {
      "image/png": "[encoded data removed]",
      "text/plain": [
       "<Figure size 432x288 with 1 Axes>"
      ]
     },
     "metadata": {
      "needs_background": "light"
     },
     "output_type": "display_data"
    },
    {
     "data": {
      "image/png": "[encoded data removed]",
      "text/plain": [
       "<Figure size 432x288 with 1 Axes>"
      ]
     },
     "metadata": {
      "needs_background": "light"
     },
     "output_type": "display_data"
    },
    {
     "data": {
      "image/png": "[encoded data removed]",
      "text/plain": [
       "<Figure size 432x288 with 1 Axes>"
      ]
     },
     "metadata": {
      "needs_background": "light"
     },
     "output_type": "display_data"
    },
    {
     "data": {
      "image/png": "[encoded data removed]",
      "text/plain": [
       "<Figure size 432x288 with 1 Axes>"
      ]
     },
     "metadata": {
      "needs_background": "light"
     },
     "output_type": "display_data"
    },
    {
     "data": {
      "image/png": "[encoded data removed]",
      "text/plain": [
       "<Figure size 432x288 with 1 Axes>"
      ]
     },
     "metadata": {
      "needs_background": "light"
     },
     "output_type": "display_data"
    },
    {
     "data": {
      "image/png": "[encoded data removed]",
      "text/plain": [
       "<Figure size 432x288 with 1 Axes>"
      ]
     },
     "metadata": {
      "needs_background": "light"
     },
     "output_type": "display_data"
    },
    {
     "data": {
      "image/png": "[encoded data removed]",
      "text/plain": [
       "<Figure size 432x288 with 1 Axes>"
      ]
     },
     "metadata": {
      "needs_background": "light"
     },
     "output_type": "display_data"
    },
    {
     "data": {
      "image/png": "[encoded data removed]",
      "text/plain": [
       "<Figure size 432x288 with 1 Axes>"
      ]
     },
     "metadata": {
      "needs_background": "light"
     },
     "output_type": "display_data"
    },
    {
     "data": {
      "image/png": "[encoded data removed]",
      "text/plain": [
       "<Figure size 432x288 with 1 Axes>"
      ]
     },
     "metadata": {
      "needs_background": "light"
     },
     "output_type": "display_data"
    },
    {
     "name": "stdout",
     "output_type": "stream",
     "text": [
      "Accuracy: 0.05\n"
     ]
    }
   ],
   "source": [
    "mysum = 0 \n",
    "\n",
    "m= len(mnist_test)\n",
    "cnt = 0\n",
    "for i in range(m):\n",
    "    image, label = mnist_test.__getitem__(i)\n",
    "    output = model(image)\n",
    "    \n",
    "    if(i%1000==0):\n",
    "        img = image.numpy()\n",
    "        pred_label = np.argmax(output)\n",
    "        plt.title(\"pred: %d, label: %d\"%(pred_label, label))\n",
    "        plt.imshow(img[0],cmap='gray')\n",
    "        plt.show()\n",
    "        \n",
    "    cnt += 1\n",
    "    mysum += (np.argmax(output) == label)\n",
    "    \n",
    "print(\"Accuracy: %.2f\"%((float(mysum) / cnt) * 100.0))"
   ]
  }
 ],
 "metadata": {
  "kernelspec": {
   "display_name": "conda_pytorch_p36",
   "language": "python",
   "name": "conda_pytorch_p36"
  },
  "language_info": {
   "codemirror_mode": {
    "name": "ipython",
    "version": 3
   },
   "file_extension": ".py",
   "mimetype": "text/x-python",
   "name": "python",
   "nbconvert_exporter": "python",
   "pygments_lexer": "ipython3",
   "version": "3.6.13"
  }
 },
 "nbformat": 4,
 "nbformat_minor": 5
}
