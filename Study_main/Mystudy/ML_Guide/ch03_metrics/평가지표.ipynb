{
 "cells": [
  {
   "cell_type": "markdown",
   "id": "856b70a7",
   "metadata": {},
   "source": [
    "# 평가"
   ]
  },
  {
   "cell_type": "markdown",
   "id": "d8e5d0f1",
   "metadata": {},
   "source": [
    "## 정확도"
   ]
  },
  {
   "cell_type": "code",
   "execution_count": 1,
   "id": "910be0bc",
   "metadata": {
    "ExecuteTime": {
     "end_time": "2021-07-21T06:38:35.696081Z",
     "start_time": "2021-07-21T06:38:29.708010Z"
    }
   },
   "outputs": [
    {
     "name": "stdout",
     "output_type": "stream",
     "text": [
      "importing Jupyter notebook from titanic_sklearn_clf.ipynb\n",
      "\n",
      " ### 학습 데이터 정보 ### \n",
      "\n",
      "<class 'pandas.core.frame.DataFrame'>\n",
      "RangeIndex: 891 entries, 0 to 890\n",
      "Data columns (total 12 columns):\n",
      " #   Column       Non-Null Count  Dtype  \n",
      "---  ------       --------------  -----  \n",
      " 0   PassengerId  891 non-null    int64  \n",
      " 1   Survived     891 non-null    int64  \n",
      " 2   Pclass       891 non-null    int64  \n",
      " 3   Name         891 non-null    object \n",
      " 4   Sex          891 non-null    object \n",
      " 5   Age          714 non-null    float64\n",
      " 6   SibSp        891 non-null    int64  \n",
      " 7   Parch        891 non-null    int64  \n",
      " 8   Ticket       891 non-null    object \n",
      " 9   Fare         891 non-null    float64\n",
      " 10  Cabin        204 non-null    object \n",
      " 11  Embarked     889 non-null    object \n",
      "dtypes: float64(2), int64(5), object(5)\n",
      "memory usage: 83.7+ KB\n",
      "None\n",
      "PassengerId      0\n",
      "Survived         0\n",
      "Pclass           0\n",
      "Name             0\n",
      "Sex              0\n",
      "Age            177\n",
      "SibSp            0\n",
      "Parch            0\n",
      "Ticket           0\n",
      "Fare             0\n",
      "Cabin          687\n",
      "Embarked         2\n",
      "dtype: int64\n",
      "Sex distribution:\n",
      " male      577\n",
      "female    314\n",
      "Name: Sex, dtype: int64\n",
      "\n",
      "Cabin distribution:\n",
      " B96 B98        4\n",
      "G6             4\n",
      "C23 C25 C27    4\n",
      "D              3\n",
      "C22 C26        3\n",
      "              ..\n",
      "B102           1\n",
      "D45            1\n",
      "C7             1\n",
      "D9             1\n",
      "E49            1\n",
      "Name: Cabin, Length: 147, dtype: int64\n",
      "\n",
      "Embarked distribution:\n",
      " S    644\n",
      "C    168\n",
      "Q     77\n",
      "Name: Embarked, dtype: int64\n",
      "DT 정확도:0.7877\n",
      "RF 정확도:0.8547\n",
      "LR 정확도:0.8492\n",
      "교차 검증 0 정확도: 0.7542\n",
      "교차 검증 1 정확도: 0.7809\n",
      "교차 검증 2 정확도: 0.7865\n",
      "교차 검증 3 정확도: 0.7697\n",
      "교차 검증 4 정확도: 0.8202\n",
      "평균 정확도: 0.7823\n",
      "교차 검증 0 정확도: 0.7430\n",
      "교차 검증 1 정확도: 0.7753\n",
      "교차 검증 2 정확도: 0.7921\n",
      "교차 검증 3 정확도: 0.7865\n",
      "교차 검증 4 정확도: 0.8427\n",
      "평균 정확도: 0.7879\n",
      "GSCV params: {'max_depth': 3, 'min_samples_leaf': 5, 'min_samples_split': 2}\n",
      "GSCV acc: 0.7992\n",
      "Best acc in DT_CLF: 0.8715\n"
     ]
    },
    {
     "data": {
      "image/png": "[encoded data removed]",
      "text/plain": [
       "<Figure size 432x288 with 1 Axes>"
      ]
     },
     "metadata": {
      "needs_background": "light"
     },
     "output_type": "display_data"
    },
    {
     "data": {
      "image/png": "[encoded data removed]",
      "text/plain": [
       "<Figure size 720x432 with 1 Axes>"
      ]
     },
     "metadata": {
      "needs_background": "light"
     },
     "output_type": "display_data"
    },
    {
     "data": {
      "image/png": "[encoded data removed]",
      "text/plain": [
       "<Figure size 720x432 with 1 Axes>"
      ]
     },
     "metadata": {
      "needs_background": "light"
     },
     "output_type": "display_data"
    }
   ],
   "source": [
    "import import_ipynb\n",
    "import titanic_sklearn_clf as tsc"
   ]
  },
  {
   "cell_type": "markdown",
   "id": "bae6d2f1",
   "metadata": {},
   "source": [
    "- Sex 가 1일때 0 아니면 1"
   ]
  },
  {
   "cell_type": "code",
   "execution_count": 2,
   "id": "7cc5342e",
   "metadata": {
    "ExecuteTime": {
     "end_time": "2021-07-21T06:38:35.729629Z",
     "start_time": "2021-07-21T06:38:35.715719Z"
    }
   },
   "outputs": [],
   "source": [
    "from sklearn.base import BaseEstimator\n",
    "\n",
    "class MyDummyClassifier(BaseEstimator):\n",
    "    def fit(self,X,y=None):\n",
    "        pass\n",
    "    \n",
    "    def predict(self,X):\n",
    "        pred = np.zeros((X.shape[0],1))\n",
    "        for i in range(X.shape[0]):\n",
    "            if X['Sex'].iloc[i] == 1:\n",
    "                pred[i] = 0\n",
    "            else:\n",
    "                pred[i] = 1\n",
    "        return pred"
   ]
  },
  {
   "cell_type": "code",
   "execution_count": 3,
   "id": "eb7ea457",
   "metadata": {
    "ExecuteTime": {
     "end_time": "2021-07-21T06:38:35.776516Z",
     "start_time": "2021-07-21T06:38:35.747529Z"
    }
   },
   "outputs": [],
   "source": [
    "import pandas as pd\n",
    "from sklearn.model_selection import train_test_split\n",
    "from sklearn.metrics import accuracy_score\n",
    "\n",
    "train = pd.read_csv('./titanic/train.csv')\n",
    "y = train['Survived']\n",
    "x = train.drop('Survived',axis=1)\n",
    "x = tsc.transform_features(x)\n",
    "\n",
    "X_train,X_test,y_train,y_test = train_test_split(x,y,test_size=0.2,random_state=0)"
   ]
  },
  {
   "cell_type": "code",
   "execution_count": 4,
   "id": "4f25d0bb",
   "metadata": {
    "ExecuteTime": {
     "end_time": "2021-07-21T06:38:35.870908Z",
     "start_time": "2021-07-21T06:38:35.856839Z"
    }
   },
   "outputs": [
    {
     "name": "stdout",
     "output_type": "stream",
     "text": [
      "ACC : 0.7877\n"
     ]
    }
   ],
   "source": [
    "myclf = MyDummyClassifier()\n",
    "myclf.fit(X_train,y_train)\n",
    "\n",
    "mypred = myclf.predict(X_test)\n",
    "print('ACC : {0:.4f}'.format(accuracy_score(y_test,mypred)))"
   ]
  },
  {
   "cell_type": "markdown",
   "id": "a0238dfc",
   "metadata": {
    "ExecuteTime": {
     "end_time": "2021-07-14T05:16:18.161995Z",
     "start_time": "2021-07-14T05:16:18.154066Z"
    }
   },
   "source": [
    "### mnist를 7인지만 분류하는 이진분류로"
   ]
  },
  {
   "cell_type": "code",
   "execution_count": 5,
   "id": "15432a8d",
   "metadata": {
    "ExecuteTime": {
     "end_time": "2021-07-21T06:38:36.112283Z",
     "start_time": "2021-07-21T06:38:35.903033Z"
    }
   },
   "outputs": [],
   "source": [
    "from sklearn.datasets import load_digits\n",
    "from sklearn.model_selection import train_test_split\n",
    "from sklearn.base import BaseEstimator\n",
    "from sklearn.metrics import accuracy_score\n",
    "import numpy as np\n",
    "import pandas as pd\n",
    "\n",
    "class MyFakeClassifier(BaseEstimator):\n",
    "    def fit(self,X,y):\n",
    "        pass\n",
    "    \n",
    "    def predict(self,X):\n",
    "        return np.zeros((len(X),1),dtype=bool)\n",
    "    \n",
    "digits = load_digits()\n",
    "\n",
    "y = (digits.target == 7).astype(int)\n",
    "X_train,X_test,y_train,y_test = train_test_split(digits.data, y, random_state=11)"
   ]
  },
  {
   "cell_type": "code",
   "execution_count": 6,
   "id": "2c8edc0e",
   "metadata": {
    "ExecuteTime": {
     "end_time": "2021-07-21T06:38:36.158994Z",
     "start_time": "2021-07-21T06:38:36.144765Z"
    }
   },
   "outputs": [
    {
     "name": "stdout",
     "output_type": "stream",
     "text": [
      "0,1 distribution\n",
      "0    405\n",
      "1     45\n",
      "dtype: int64\n",
      "ACC : 0.9000\n"
     ]
    }
   ],
   "source": [
    "print('0,1 distribution')\n",
    "print(pd.Series(y_test).value_counts())\n",
    "\n",
    "fakeclf = MyFakeClassifier()\n",
    "fakeclf.fit(X_train, y_train)\n",
    "\n",
    "fakepred = fakeclf.predict(X_test)\n",
    "print('ACC : {0:.4f}'.format(accuracy_score(y_test,fakepred)))"
   ]
  },
  {
   "cell_type": "markdown",
   "id": "5f9eab51",
   "metadata": {},
   "source": [
    "# 정밀도와 재현율"
   ]
  },
  {
   "cell_type": "markdown",
   "id": "748c660e",
   "metadata": {},
   "source": [
    "## 정밀도(precision) = ${TP \\over (FP + TP)}$  \n",
    "실제 음성인 데이터 예측을 양성으로 잘못 판단하면 안되는 경우"
   ]
  },
  {
   "cell_type": "markdown",
   "id": "34d2599a",
   "metadata": {},
   "source": [
    "## 재현율(recall) ${TP \\over (FN+ TP)}$  \n",
    "실제 양성인 데이터예측을 음성으로 잘못 판단하면 안되는 경우"
   ]
  },
  {
   "cell_type": "code",
   "execution_count": 7,
   "id": "1db02251",
   "metadata": {
    "ExecuteTime": {
     "end_time": "2021-07-21T06:38:36.205354Z",
     "start_time": "2021-07-21T06:38:36.191154Z"
    }
   },
   "outputs": [],
   "source": [
    "import import_ipynb\n",
    "from titanic_sklearn_clf import transform_features\n",
    "\n",
    "import pandas as pd\n",
    "from sklearn.metrics import accuracy_score, precision_score, recall_score, confusion_matrix\n",
    "from sklearn.model_selection import train_test_split\n",
    "from sklearn.linear_model import LogisticRegression"
   ]
  },
  {
   "cell_type": "code",
   "execution_count": 8,
   "id": "a7072a80",
   "metadata": {
    "ExecuteTime": {
     "end_time": "2021-07-21T06:38:36.252387Z",
     "start_time": "2021-07-21T06:38:36.237878Z"
    }
   },
   "outputs": [],
   "source": [
    "def get_clf_eval(y_test,pred):\n",
    "    confusion = confusion_matrix(y_test,pred)\n",
    "    accuracy = accuracy_score(y_test,pred)\n",
    "    precision = precision_score(y_test,pred)\n",
    "    recall = recall_score(y_test,pred)\n",
    "    print('confusion matrix')\n",
    "    print(confusion)\n",
    "    print('acc:{0:.4f}, precision:{1:.4f}, recall:{2:.4f}'.format(accuracy,precision,recall))"
   ]
  },
  {
   "cell_type": "code",
   "execution_count": 9,
   "id": "781d2cd3",
   "metadata": {
    "ExecuteTime": {
     "end_time": "2021-07-21T06:38:36.331006Z",
     "start_time": "2021-07-21T06:38:36.284408Z"
    }
   },
   "outputs": [
    {
     "name": "stdout",
     "output_type": "stream",
     "text": [
      "confusion matrix\n",
      "[[91 14]\n",
      " [18 56]]\n",
      "acc:0.8212, precision:0.8000, recall:0.7568\n"
     ]
    }
   ],
   "source": [
    "titanic_df = pd.read_csv('titanic/train.csv')\n",
    "\n",
    "y_titanic_df = titanic_df['Survived']\n",
    "x_titanic_df = titanic_df.drop('Survived',axis=1)\n",
    "x_titanic_df = transform_features(x_titanic_df)\n",
    "\n",
    "x_train, x_test, y_train, y_test = train_test_split(x_titanic_df,y_titanic_df,\n",
    "                                                   test_size=0.2, random_state=42)\n",
    "\n",
    "lr_clf = LogisticRegression(max_iter=1000)\n",
    "\n",
    "lr_clf.fit(x_train,y_train)\n",
    "pred = lr_clf.predict(x_test)\n",
    "get_clf_eval(y_test,pred)"
   ]
  },
  {
   "cell_type": "markdown",
   "id": "ccfe27f2",
   "metadata": {},
   "source": [
    "각 클래스 확률 반환(pred_proba)"
   ]
  },
  {
   "cell_type": "code",
   "execution_count": 10,
   "id": "a58d8873",
   "metadata": {
    "ExecuteTime": {
     "end_time": "2021-07-21T06:38:36.410108Z",
     "start_time": "2021-07-21T06:38:36.395661Z"
    }
   },
   "outputs": [
    {
     "name": "stdout",
     "output_type": "stream",
     "text": [
      "pred_proba 결과:  (179, 2)\n",
      "3개 샘플 [[0.88826362 0.11173638]\n",
      " [0.79595771 0.20404229]\n",
      " [0.8592828  0.1407172 ]]\n",
      "[[0.88826362 0.11173638 0.        ]\n",
      " [0.79595771 0.20404229 0.        ]\n",
      " [0.8592828  0.1407172  0.        ]]\n"
     ]
    }
   ],
   "source": [
    "pred_proba = lr_clf.predict_proba(x_test)\n",
    "pred = lr_clf.predict(x_test)\n",
    "\n",
    "print('pred_proba 결과: ', pred_proba.shape)\n",
    "print('3개 샘플',pred_proba[:3])\n",
    "pred_proba_result = np.concatenate([pred_proba,pred.reshape(-1,1)],axis=1)\n",
    "print(pred_proba_result[:3])"
   ]
  },
  {
   "cell_type": "markdown",
   "id": "cc1ca000",
   "metadata": {},
   "source": [
    "threshold 기준 분류하기"
   ]
  },
  {
   "cell_type": "code",
   "execution_count": 11,
   "id": "2d7cbde7",
   "metadata": {
    "ExecuteTime": {
     "end_time": "2021-07-21T06:38:36.487142Z",
     "start_time": "2021-07-21T06:38:36.472627Z"
    }
   },
   "outputs": [
    {
     "name": "stdout",
     "output_type": "stream",
     "text": [
      "[[0. 0. 1.]\n",
      " [1. 0. 0.]\n",
      " [0. 0. 1.]]\n"
     ]
    }
   ],
   "source": [
    "from sklearn.preprocessing import Binarizer\n",
    "\n",
    "x = [[1,-1, 2],\n",
    "     [2, 0, 0],\n",
    "     [0,1.1,1.2]]\n",
    "\n",
    "binarizer = Binarizer(threshold=1.1)\n",
    "print(binarizer.fit_transform(x))"
   ]
  },
  {
   "cell_type": "code",
   "execution_count": 12,
   "id": "240c3a00",
   "metadata": {
    "ExecuteTime": {
     "end_time": "2021-07-21T06:38:36.581731Z",
     "start_time": "2021-07-21T06:38:36.552638Z"
    }
   },
   "outputs": [
    {
     "name": "stdout",
     "output_type": "stream",
     "text": [
      "confusion matrix\n",
      "[[91 14]\n",
      " [18 56]]\n",
      "acc:0.8212, precision:0.8000, recall:0.7568\n"
     ]
    }
   ],
   "source": [
    "custom_threshold = 0.5\n",
    "pred_proba_1 = pred_proba[:,1].reshape(-1,1)\n",
    "\n",
    "binarizer = Binarizer(threshold=custom_threshold)\n",
    "custom_pred = binarizer.fit_transform(pred_proba_1)\n",
    "\n",
    "get_clf_eval(y_test,custom_pred)"
   ]
  },
  {
   "cell_type": "code",
   "execution_count": 13,
   "id": "7202d831",
   "metadata": {
    "ExecuteTime": {
     "end_time": "2021-07-21T06:38:36.661858Z",
     "start_time": "2021-07-21T06:38:36.646727Z"
    }
   },
   "outputs": [
    {
     "name": "stdout",
     "output_type": "stream",
     "text": [
      "confusion matrix\n",
      "[[85 20]\n",
      " [16 58]]\n",
      "acc:0.7989, precision:0.7436, recall:0.7838\n"
     ]
    }
   ],
   "source": [
    "custom_threshold = 0.4\n",
    "pred_proba_1 = pred_proba[:,1].reshape(-1,1)\n",
    "\n",
    "binarizer = Binarizer(threshold=custom_threshold)\n",
    "custom_pred = binarizer.fit_transform(pred_proba_1)\n",
    "\n",
    "get_clf_eval(y_test,custom_pred)"
   ]
  },
  {
   "cell_type": "markdown",
   "id": "8fdacc58",
   "metadata": {},
   "source": [
    "이와 같이 분류 기준에 따라 값이 변함"
   ]
  },
  {
   "cell_type": "markdown",
   "id": "3ecdff5a",
   "metadata": {},
   "source": [
    "* * * "
   ]
  },
  {
   "cell_type": "markdown",
   "id": "14db1676",
   "metadata": {},
   "source": [
    "sklearn 활용하여 임곗값 별 정밀도, 재현율 구하기"
   ]
  },
  {
   "cell_type": "code",
   "execution_count": 14,
   "id": "d37168de",
   "metadata": {
    "ExecuteTime": {
     "end_time": "2021-07-21T06:39:06.992054Z",
     "start_time": "2021-07-21T06:39:06.972069Z"
    }
   },
   "outputs": [
    {
     "name": "stdout",
     "output_type": "stream",
     "text": [
      "임곗값 배열 shape: (171,)\n",
      "샘플 추출용 임계값 [  0  15  30  45  60  75  90 105 120 135 150 165]\n",
      "샘플용 10개 [0.07 0.11 0.12 0.14 0.17 0.29 0.38 0.56 0.65 0.75 0.88 0.95]\n",
      "임계값 별 정밀도 [0.42  0.453 0.483 0.543 0.598 0.68  0.744 0.806 0.882 0.972 1.    1.   ]\n",
      "임계값 별 재현율 [1.    0.986 0.932 0.932 0.905 0.892 0.824 0.73  0.608 0.473 0.284 0.081]\n"
     ]
    }
   ],
   "source": [
    "from sklearn.metrics import precision_recall_curve\n",
    "\n",
    "pred_proba_class1 = lr_clf.predict_proba(x_test)[:,1]\n",
    "\n",
    "precisions, recalls, thresholds = precision_recall_curve(y_test,pred_proba_class1)\n",
    "print('임곗값 배열 shape:', thresholds.shape)\n",
    "\n",
    "thr_idx = np.arange(0, thresholds.shape[0], 15)\n",
    "print('샘플 추출용 임계값', thr_idx)\n",
    "print('샘플용 10개', np.round(thresholds[thr_idx],2))\n",
    "\n",
    "print('임계값 별 정밀도',np.round(precisions[thr_idx],3))\n",
    "print('임계값 별 재현율',np.round(recalls[thr_idx],3))"
   ]
  },
  {
   "cell_type": "markdown",
   "id": "9b8ed8cd",
   "metadata": {
    "ExecuteTime": {
     "end_time": "2021-07-20T12:45:35.341709Z",
     "start_time": "2021-07-20T12:45:35.328243Z"
    }
   },
   "source": [
    "임계값에 따른 정밀도 재현율 시각화"
   ]
  },
  {
   "cell_type": "code",
   "execution_count": 15,
   "id": "bef2ed72",
   "metadata": {
    "ExecuteTime": {
     "end_time": "2021-07-21T06:39:08.127847Z",
     "start_time": "2021-07-21T06:39:08.001172Z"
    }
   },
   "outputs": [
    {
     "data": {
      "image/png": "[encoded data removed]",
      "text/plain": [
       "<Figure size 576x432 with 1 Axes>"
      ]
     },
     "metadata": {
      "needs_background": "light"
     },
     "output_type": "display_data"
    }
   ],
   "source": [
    "import matplotlib.pyplot as plt\n",
    "import matplotlib.ticker as ticker\n",
    "%matplotlib inline\n",
    "\n",
    "def precision_recall_curve_plot(y_test,pred_proba_c1):\n",
    "    precisions, recalls, thresholds = precision_recall_curve(y_test,pred_proba_c1)\n",
    "    \n",
    "    plt.figure(figsize=(8,6))\n",
    "    threshold_boundary = thresholds.shape[0]\n",
    "    plt.plot(thresholds,precisions[:threshold_boundary],linestyle='--',label='precision')\n",
    "    plt.plot(thresholds,recalls[:threshold_boundary],label='recall')\n",
    "    \n",
    "    start, end = plt.xlim()\n",
    "    plt.xticks(np.round(np.arange(start,end,0.1),2))\n",
    "    \n",
    "    plt.xlabel('threshold value')\n",
    "    plt.ylabel('Precision and Recall value')\n",
    "    plt.legend()\n",
    "    plt.grid()\n",
    "    plt.show()\n",
    "    \n",
    "precision_recall_curve_plot(y_test,lr_clf.predict_proba(x_test)[:,1])"
   ]
  },
  {
   "cell_type": "markdown",
   "id": "d24fcf17",
   "metadata": {},
   "source": [
    "## F1-Score = ${2 \\over {1 \\over recall} + {1 \\over precision}}$"
   ]
  },
  {
   "cell_type": "code",
   "execution_count": 16,
   "id": "900c52f9",
   "metadata": {
    "ExecuteTime": {
     "end_time": "2021-07-21T06:41:15.769862Z",
     "start_time": "2021-07-21T06:41:15.756841Z"
    }
   },
   "outputs": [
    {
     "name": "stdout",
     "output_type": "stream",
     "text": [
      "0.7777777777777778\n"
     ]
    }
   ],
   "source": [
    "from sklearn.metrics import f1_score\n",
    "f1= f1_score(y_test,pred)\n",
    "print(f1)"
   ]
  },
  {
   "cell_type": "code",
   "execution_count": null,
   "id": "ca53fa3e",
   "metadata": {},
   "outputs": [],
   "source": [
    "def get_clf_eval(y_test,pred):\n",
    "    confusion = confusion_matrix(y_test,pred)\n",
    "    accuracy = accuracy_score(y_test,pred)\n",
    "    precision = precision_score(y_test,pred)\n",
    "    recall = recall_score(y_test,pred)\n",
    "    f1 = f1_score(y_test,pred)\n",
    "    print('confusion matrix')\n",
    "    print(confusion)\n",
    "    print('acc: {0:.4f}, prec: {1:.4f}, recall: {2:.4f}, F1: {3:.4f}'.format(accuracy,precision,recall,f1))\n",
    "    \n",
    "thresholds = [0.4,0.45,0.5,0.55,0.6]\n",
    "\n",
    "pred_proba = lr_clf.predict(x_test)\n",
    "get_clf_eval"
   ]
  }
 ],
 "metadata": {
  "kernelspec": {
   "display_name": "Python 3",
   "language": "python",
   "name": "python3"
  },
  "language_info": {
   "codemirror_mode": {
    "name": "ipython",
    "version": 3
   },
   "file_extension": ".py",
   "mimetype": "text/x-python",
   "name": "python",
   "nbconvert_exporter": "python",
   "pygments_lexer": "ipython3",
   "version": "3.8.8"
  },
  "toc": {
   "base_numbering": 1,
   "nav_menu": {},
   "number_sections": true,
   "sideBar": true,
   "skip_h1_title": false,
   "title_cell": "Table of Contents",
   "title_sidebar": "Contents",
   "toc_cell": false,
   "toc_position": {},
   "toc_section_display": true,
   "toc_window_display": false
  },
  "varInspector": {
   "cols": {
    "lenName": 16,
    "lenType": 16,
    "lenVar": 40
   },
   "kernels_config": {
    "python": {
     "delete_cmd_postfix": "",
     "delete_cmd_prefix": "del ",
     "library": "var_list.py",
     "varRefreshCmd": "print(var_dic_list())"
    },
    "r": {
     "delete_cmd_postfix": ") ",
     "delete_cmd_prefix": "rm(",
     "library": "var_list.r",
     "varRefreshCmd": "cat(var_dic_list()) "
    }
   },
   "types_to_exclude": [
    "module",
    "function",
    "builtin_function_or_method",
    "instance",
    "_Feature"
   ],
   "window_display": false
  }
 },
 "nbformat": 4,
 "nbformat_minor": 5
}
