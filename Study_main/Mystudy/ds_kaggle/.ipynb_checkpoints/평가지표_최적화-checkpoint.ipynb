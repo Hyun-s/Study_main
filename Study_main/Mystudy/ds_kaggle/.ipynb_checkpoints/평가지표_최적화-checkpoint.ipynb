{
 "cells": [
  {
   "cell_type": "markdown",
   "id": "cba2fe50",
   "metadata": {},
   "source": [
    "## 2.6.1 BA최적화\n",
    "balenced accuracy = ${1\\over M}\\sum_{m=1}^{M}{r_{m} \\over n_{m}}$  \n",
    "여기서 $\\sum$ 오른쪽의 식은 각 클래스 별 정확도를 의미하며 즉 각 클래스별 정확도의 평균이 된다."
   ]
  },
  {
   "cell_type": "markdown",
   "id": "4f62fb0d",
   "metadata": {},
   "source": [
    "## 2.6.2 mean-F1에서의 임곗값 최적화  \n",
    "mean-F1은 각 id별 f1스코어 계산하는 것  \n",
    "구매 가능성이 높은 상품 ID를 복수 예측하는데, 상황에 따라 최소 임곗값을 다르게 주는것이 좋다."
   ]
  },
  {
   "cell_type": "markdown",
   "id": "d756da54",
   "metadata": {
    "ExecuteTime": {
     "end_time": "2021-08-02T09:32:49.083834Z",
     "start_time": "2021-08-02T09:32:49.060392Z"
    }
   },
   "source": [
    "## 2.6.3 QWK에서의 임곗값 최적화\n",
    "등급 예측하는 문제에서는 분류를 하는 것이 아닌 연속값으로 예측값을 출력한 후 클래스간 임계값을 결정하는 것이 좋다."
   ]
  },
  {
   "cell_type": "markdown",
   "id": "25d78733",
   "metadata": {},
   "source": [
    "## 2.6.4 MAE 최적화  \n",
    "목적함수를 평가지표와 유사한 미분가능(xgboost에서는 2차미분까지 가능)한 함수를 사용해보자  \n",
    "mae와 유사한 함수로는 fair, psuedo-huber함수가 있음  \n",
    "  \n",
    "$Fair = c^{2} \\left({\\left| y - \\hat{y} \\right| \\over c} - ln(1 + {\\left| y - \\hat{y} \\right| \\over c}) \\right)$  \n",
    "  \n",
    "$PseudoHuber = \\delta^2 \\left( \\sqrt{1 + \\left((y - \\hat{y} \\ /\\ \\delta) \\right)} -1 \\right)$"
   ]
  },
  {
   "cell_type": "code",
   "execution_count": 2,
   "id": "fc2cdd03",
   "metadata": {
    "ExecuteTime": {
     "end_time": "2021-08-02T09:49:02.703531Z",
     "start_time": "2021-08-02T09:49:02.672105Z"
    }
   },
   "outputs": [],
   "source": [
    "def fait(preds, dtrain):\n",
    "    x = preds - dtrain.get_labels()\n",
    "    c = 1.\n",
    "    den = abs(x) + c\n",
    "    grad = c*x /den\n",
    "    hess = c*c / den**2\n",
    "    return grad, hess\n",
    "\n",
    "def psuedo_huber(preds, dtrain):\n",
    "    d = preds - dtrain.get_labels()\n",
    "    delta = 1.0\n",
    "    scale = 1+(d/delta)**2\n",
    "    scale_sqrt = np.sqrt(scale)\n",
    "    grad = d/scale_sqrt\n",
    "    hess = 1/scale/scale_sqrt\n",
    "    return grad, hess"
   ]
  },
  {
   "cell_type": "markdown",
   "id": "6f459420",
   "metadata": {},
   "source": [
    "## 2.6.5 MCC의 PR-AUC에 따른 근사, 모델선택  \n",
    "MCC는 극단적인 클래스 불균형에 불안정함.  \n",
    "MCC는 아래와 같이 정밀도, 재현율의 기하평균으로 근사할 수 있다.  \n",
    "$\\sqrt{\\left(Precision\\right) \\times \\left(Recall\\right)}$"
   ]
  },
  {
   "cell_type": "code",
   "execution_count": null,
   "id": "5afe3c25",
   "metadata": {},
   "outputs": [],
   "source": []
  }
 ],
 "metadata": {
  "kernelspec": {
   "display_name": "Python 3",
   "language": "python",
   "name": "python3"
  },
  "language_info": {
   "codemirror_mode": {
    "name": "ipython",
    "version": 3
   },
   "file_extension": ".py",
   "mimetype": "text/x-python",
   "name": "python",
   "nbconvert_exporter": "python",
   "pygments_lexer": "ipython3",
   "version": "3.8.8"
  },
  "toc": {
   "base_numbering": 1,
   "nav_menu": {},
   "number_sections": true,
   "sideBar": true,
   "skip_h1_title": false,
   "title_cell": "Table of Contents",
   "title_sidebar": "Contents",
   "toc_cell": false,
   "toc_position": {},
   "toc_section_display": true,
   "toc_window_display": false
  },
  "varInspector": {
   "cols": {
    "lenName": 16,
    "lenType": 16,
    "lenVar": 40
   },
   "kernels_config": {
    "python": {
     "delete_cmd_postfix": "",
     "delete_cmd_prefix": "del ",
     "library": "var_list.py",
     "varRefreshCmd": "print(var_dic_list())"
    },
    "r": {
     "delete_cmd_postfix": ") ",
     "delete_cmd_prefix": "rm(",
     "library": "var_list.r",
     "varRefreshCmd": "cat(var_dic_list()) "
    }
   },
   "types_to_exclude": [
    "module",
    "function",
    "builtin_function_or_method",
    "instance",
    "_Feature"
   ],
   "window_display": false
  }
 },
 "nbformat": 4,
 "nbformat_minor": 5
}
