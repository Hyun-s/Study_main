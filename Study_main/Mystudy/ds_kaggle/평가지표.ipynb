{
 "cells": [
  {
   "cell_type": "markdown",
   "id": "0ef4b3dd",
   "metadata": {},
   "source": [
    "# F1 Score"
   ]
  },
  {
   "cell_type": "markdown",
   "id": "b6fe8206",
   "metadata": {},
   "source": [
    "## $F1 = {2 \\over ({1 \\over recall}+{1 \\over precision})}$"
   ]
  },
  {
   "cell_type": "markdown",
   "id": "3f2d3a16",
   "metadata": {},
   "source": [
    "## mean-F1  \n",
    "행 단위로 F1 계산후 평균값을 구함"
   ]
  },
  {
   "cell_type": "markdown",
   "id": "38b4d366",
   "metadata": {},
   "source": [
    "## macro-F1  \n",
    "각 클래스별 F1 계산후 평균값을 구함"
   ]
  },
  {
   "cell_type": "markdown",
   "id": "3a0899ea",
   "metadata": {
    "ExecuteTime": {
     "end_time": "2021-07-28T07:03:36.435289Z",
     "start_time": "2021-07-28T07:03:36.413785Z"
    }
   },
   "source": [
    "## micro-F1  \n",
    "행 X 클래스 각 쌍에 대해 Confusion Metrics를 이용해 F1-score 계산"
   ]
  },
  {
   "cell_type": "markdown",
   "id": "7e7b7305",
   "metadata": {},
   "source": [
    "# 매튜상관계수(MCC) = ${TP \\times TN - FP \\times FN \\over \\sqrt{(TP + FP)(TP + FN)(TN + FP)(TN +FN)}}$"
   ]
  },
  {
   "cell_type": "markdown",
   "id": "28ebcdbd",
   "metadata": {},
   "source": [
    "# cross-entropy = logloss = $-{1\\over N}\\sum_{i = 1}^{N}{y_{i}logp_{i}+(1-y_{i})log(1-p_{i})}$"
   ]
  },
  {
   "cell_type": "code",
   "execution_count": 5,
   "id": "b16892fb",
   "metadata": {
    "ExecuteTime": {
     "end_time": "2021-07-28T07:01:20.391033Z",
     "start_time": "2021-07-28T07:01:20.372733Z"
    }
   },
   "outputs": [
    {
     "name": "stdout",
     "output_type": "stream",
     "text": [
      "0.7135581778200728\n"
     ]
    }
   ],
   "source": [
    "from sklearn.metrics import log_loss\n",
    "\n",
    "y_true = [1,0,1,1,0,1]\n",
    "y_prob = [0.1,0.2,0.8,0.8,0.1,0.3]\n",
    "\n",
    "logloss = log_loss(y_true,y_prob)\n",
    "print(logloss)"
   ]
  },
  {
   "cell_type": "markdown",
   "id": "6dbbaa9e",
   "metadata": {},
   "source": [
    "# Multi-class logloss = $-{1\\over N}\\sum_{i = 1}^{N}{\\sum_{m = 1}^{M}{y_{i,m}logp_{i,m}}}$ \n",
    "각 클래스의 예측 활률에 로그를 취함"
   ]
  },
  {
   "cell_type": "markdown",
   "id": "43c5ac07",
   "metadata": {},
   "source": [
    "# QWK    \n",
    "다중 클래스 분류에서 클래스간 순서 관계가 존재할 때 사용(추천 문제에 사용하면 좋을 듯)  \n",
    "- $k = 1 - {\\sum_{i,j}^{}{W_{i,j}o_{i,j}} \\over \\sum_{i,j}^{}{W_{i,j}E_{i,j}}}$  \n",
    "- $O_{i,j}$ 는 실제값 클래스가 i, 예측값 클래스가 j인 행 데이터 수로 행렬로 나열하면 혼동행렬이 됨  \n",
    "- $E_{i,j}$ 는 실제값, 예측값이 서로 독립적인 관계일 떄 혼동행렬의 기대치  \n",
    "- $W_{i,j}$ 는 실제값과 예측값 차이의 제곱"
   ]
  },
  {
   "cell_type": "code",
   "execution_count": 8,
   "id": "a7c6b48c",
   "metadata": {
    "ExecuteTime": {
     "end_time": "2021-07-28T07:29:16.576136Z",
     "start_time": "2021-07-28T07:29:16.554399Z"
    }
   },
   "outputs": [
    {
     "name": "stdout",
     "output_type": "stream",
     "text": [
      "0.6153846153846154\n",
      "0.6153846153846154\n"
     ]
    }
   ],
   "source": [
    "from sklearn.metrics import confusion_matrix, cohen_kappa_score\n",
    "\n",
    "def quadratic_weighted_kappa(c_matrix):\n",
    "    numer = 0.0\n",
    "    denom = 0.0\n",
    "    for i in range(c_matrix.shape[0]):\n",
    "        for j in range(c_matrix.shape[1]):\n",
    "            n = c_matrix.shape[0]\n",
    "            wij = ((i-j)**2)\n",
    "            oij = c_matrix[i,j]\n",
    "            eij = c_matrix[i,:].sum() * c_matrix[:,j].sum() / c_matrix.sum()\n",
    "            numer += wij*oij\n",
    "            denom += wij*eij\n",
    "    return 1.0 - numer/denom\n",
    "\n",
    "y_true = [1,2,3,4,3]\n",
    "y_pred = [2,2,4,4,5]\n",
    "\n",
    "c_matrix = confusion_matrix(y_true,y_pred,labels=[1,2,3,4,5])\n",
    "\n",
    "kappa = quadratic_weighted_kappa(c_matrix)\n",
    "print(kappa)\n",
    "\n",
    "print(cohen_kappa_score(y_true,y_pred,weights='quadratic'))"
   ]
  },
  {
   "cell_type": "markdown",
   "id": "a4b2acd1",
   "metadata": {},
   "source": [
    "# MAP@K = ${1 \\over N}{\\sum_{i = 1}^{N}{({1 \\over min(m_{i},K)}\\sum_{k = 1}^{K}{P_{i}(k)}})}$  \n",
    "- $m_{i}$ 는 행 데이터 i가 속한 클래스의 수  \n",
    "- $P_{i}(k)$ 는 데이터에 대해 k번쨰까지의 예측값으로 계산되는 정밀도\n",
    "추천문제에서 자주 사용하는 지표, 각 데이터가 포함될 가능성이 높을 것으로 예측한 순서대로 K개의 클래스가 예측값  "
   ]
  },
  {
   "cell_type": "code",
   "execution_count": null,
   "id": "4ea1b72a",
   "metadata": {},
   "outputs": [],
   "source": []
  }
 ],
 "metadata": {
  "kernelspec": {
   "display_name": "Python 3",
   "language": "python",
   "name": "python3"
  },
  "language_info": {
   "codemirror_mode": {
    "name": "ipython",
    "version": 3
   },
   "file_extension": ".py",
   "mimetype": "text/x-python",
   "name": "python",
   "nbconvert_exporter": "python",
   "pygments_lexer": "ipython3",
   "version": "3.8.8"
  },
  "toc": {
   "base_numbering": 1,
   "nav_menu": {},
   "number_sections": true,
   "sideBar": true,
   "skip_h1_title": false,
   "title_cell": "Table of Contents",
   "title_sidebar": "Contents",
   "toc_cell": false,
   "toc_position": {},
   "toc_section_display": true,
   "toc_window_display": false
  },
  "varInspector": {
   "cols": {
    "lenName": 16,
    "lenType": 16,
    "lenVar": 40
   },
   "kernels_config": {
    "python": {
     "delete_cmd_postfix": "",
     "delete_cmd_prefix": "del ",
     "library": "var_list.py",
     "varRefreshCmd": "print(var_dic_list())"
    },
    "r": {
     "delete_cmd_postfix": ") ",
     "delete_cmd_prefix": "rm(",
     "library": "var_list.r",
     "varRefreshCmd": "cat(var_dic_list()) "
    }
   },
   "types_to_exclude": [
    "module",
    "function",
    "builtin_function_or_method",
    "instance",
    "_Feature"
   ],
   "window_display": false
  }
 },
 "nbformat": 4,
 "nbformat_minor": 5
}
