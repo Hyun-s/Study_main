{
 "cells": [
  {
   "cell_type": "code",
   "execution_count": null,
   "metadata": {
    "colab": {
     "base_uri": "https://localhost:8080/"
    },
    "id": "EfR0bit3ix_n",
    "outputId": "adabca03-4b27-49cb-fe5c-fa30a9c56380"
   },
   "outputs": [
    {
     "name": "stdout",
     "output_type": "stream",
     "text": [
      "Drive already mounted at /content/drive; to attempt to forcibly remount, call drive.mount(\"/content/drive\", force_remount=True).\n"
     ]
    }
   ],
   "source": [
    "from google.colab import files\n",
    "from google.colab import drive\n",
    "drive.mount('/content/drive')"
   ]
  },
  {
   "cell_type": "code",
   "execution_count": null,
   "metadata": {
    "id": "B4KK4wW_KDC5"
   },
   "outputs": [],
   "source": [
    "import tensorflow as tf\n",
    "import numpy as np\n",
    "import pandas as pd\n",
    "from keras import layers\n",
    "from tensorflow.keras.models import Sequential, Model\n",
    "from tensorflow.keras.layers import (\n",
    "    Conv2D, BatchNormalization, Dropout, MaxPool2D,\n",
    "    Flatten, Dense, Input, Concatenate, LeakyReLU, Add\n",
    ")\n",
    "import tensorflow as tf\n",
    "from tensorflow import keras\n",
    "from tensorflow.keras.preprocessing.image import ImageDataGenerator\n",
    "from tensorflow.keras.callbacks import LearningRateScheduler\n",
    "from sklearn.model_selection import train_test_split\n",
    "import datetime\n",
    "from random import *"
   ]
  },
  {
   "cell_type": "code",
   "execution_count": null,
   "metadata": {
    "id": "pMnZTClUjW6s"
   },
   "outputs": [],
   "source": [
    "train_path ='/content/drive/MyDrive/data/tmp/train.csv'\n",
    "test_path = '/content/drive/MyDrive/data/tmp/test.csv'"
   ]
  },
  {
   "cell_type": "code",
   "execution_count": null,
   "metadata": {
    "id": "XqUDwcK2jX_g"
   },
   "outputs": [],
   "source": [
    "train_img = pd.read_csv(train_path)\n",
    "test_img = pd.read_csv(test_path)"
   ]
  },
  {
   "cell_type": "code",
   "execution_count": null,
   "metadata": {
    "id": "V-GmKMjKazmi"
   },
   "outputs": [],
   "source": [
    "datagen = ImageDataGenerator(\n",
    "        rotation_range=10,  \n",
    "        zoom_range = 0.10,  \n",
    "        width_shift_range=0.1, \n",
    "        height_shift_range=0.1)"
   ]
  },
  {
   "cell_type": "markdown",
   "metadata": {
    "id": "6myPCHFVHRYv"
   },
   "source": [
    "Image 개수가 42000개 임으로 임의로 2000개를 추출"
   ]
  },
  {
   "cell_type": "code",
   "execution_count": null,
   "metadata": {
    "id": "x5DuAGT-hliP"
   },
   "outputs": [],
   "source": [
    "train_bootstrap = pd.DataFrame(columns= train_img.columns)\n",
    "for x in range(2000):\n",
    "    i = randint(0,42000-1)\n",
    "    train_bootstrap.loc[x] = train_img.loc[i]"
   ]
  },
  {
   "cell_type": "markdown",
   "metadata": {
    "id": "jRCFBI0EHWay"
   },
   "source": [
    "0\\~255 -> 0~1"
   ]
  },
  {
   "cell_type": "code",
   "execution_count": null,
   "metadata": {
    "id": "AE0xZgfPa-XW"
   },
   "outputs": [],
   "source": [
    "test = train_bootstrap['label']\n",
    "train = train_bootstrap.drop(['label'],axis=1)\n",
    "train = (train[['pixel'+str(i) for i in range(784)]] / 255.).values.reshape(-1, 28, 28,1)\n",
    "train = train.astype('float32')\n",
    "test = keras.utils.to_categorical(test)"
   ]
  },
  {
   "cell_type": "markdown",
   "metadata": {
    "id": "RN4OX4R2HY33"
   },
   "source": [
    "# α = depth, β = width, γ = resolution \n",
    "efficientnet 의 grid 생성 조건에 맞게 grid 생성(0.1간격으로)"
   ]
  },
  {
   "cell_type": "code",
   "execution_count": null,
   "metadata": {
    "id": "iSw74JEuKGRb"
   },
   "outputs": [],
   "source": [
    "# grid Search\n",
    "# define mkgrid  a*b**2*c**2<=2     1,1,1   1,1,2   ,1,1,3\n",
    "def make_grid(inter = 0.1):\n",
    "  list1 =[]\n",
    "  for idx,x in enumerate(range(10,20,int(inter*10))):\n",
    "    for idy,y in enumerate(range(10,20,int(inter*10))):\n",
    "      for idz,z in enumerate(range(10,20,int(inter*10))):\n",
    "        if x*(y**2)*(z**2)/(10**5)<2:\n",
    "          list1.append( [x/10,y/10,z/10])\n",
    "  return list1\n",
    "list1 = make_grid()"
   ]
  },
  {
   "cell_type": "markdown",
   "metadata": {
    "id": "smPBsZbwHcSc"
   },
   "source": [
    "α, β, γ 를 ∅값에 맞게 model을 scaling"
   ]
  },
  {
   "cell_type": "code",
   "execution_count": null,
   "metadata": {
    "colab": {
     "base_uri": "https://localhost:8080/"
    },
    "id": "cPxXkWnwKMKK",
    "outputId": "5565a294-6cd8-4026-cc1e-74d6ccdee112"
   },
   "outputs": [
    {
     "name": "stderr",
     "output_type": "stream",
     "text": [
      "/usr/local/lib/python3.7/dist-packages/tensorflow/python/keras/engine/training.py:1844: UserWarning: `Model.fit_generator` is deprecated and will be removed in a future version. Please use `Model.fit`, which supports generators.\n",
      "  warnings.warn('`Model.fit_generator` is deprecated and '\n"
     ]
    },
    {
     "name": "stdout",
     "output_type": "stream",
     "text": [
      "1 s time :  0:00:30.926543\n",
      "2 s time :  0:00:23.884623\n",
      "3 s time :  0:00:24.056337\n",
      "4 s time :  0:00:24.259115\n",
      "5 s time :  0:00:24.944435\n",
      "6 s time :  0:00:23.830246\n",
      "7 s time :  0:00:24.282831\n",
      "8 s time :  0:00:24.922064\n",
      "9 s time :  0:00:24.179282\n",
      "10 s time :  0:00:24.211273\n",
      "11 s time :  0:00:24.578037\n",
      "12 s time :  0:00:24.533323\n",
      "13 s time :  0:00:24.020962\n",
      "14 s time :  0:00:24.093342\n",
      "15 s time :  0:00:24.968435\n",
      "16 s time :  0:00:24.816317\n",
      "17 s time :  0:00:24.284275\n",
      "18 s time :  0:00:24.644184\n",
      "19 s time :  0:00:25.358475\n",
      "20 s time :  0:00:24.279769\n",
      "21 s time :  0:00:24.992482\n",
      "22 s time :  0:00:24.317777\n",
      "23 s time :  0:00:24.619365\n",
      "24 s time :  0:00:24.649715\n",
      "25 s time :  0:00:24.960570\n",
      "26 s time :  0:00:24.690351\n",
      "27 s time :  0:00:25.481519\n",
      "28 s time :  0:00:24.990609\n",
      "29 s time :  0:00:24.903831\n",
      "30 s time :  0:00:24.846133\n",
      "31 s time :  0:00:25.390009\n",
      "32 s time :  0:00:24.958948\n",
      "33 s time :  0:00:25.734438\n",
      "34 s time :  0:00:26.362706\n",
      "35 s time :  0:00:25.034481\n",
      "36 s time :  0:00:25.041851\n",
      "37 s time :  0:00:25.345191\n",
      "38 s time :  0:00:25.706674\n",
      "39 s time :  0:00:25.862590\n",
      "40 s time :  0:00:26.011839\n",
      "41 s time :  0:00:26.407642\n",
      "42 s time :  0:00:25.992472\n",
      "43 s time :  0:00:26.421495\n",
      "44 s time :  0:00:26.660912\n",
      "45 s time :  0:00:27.536614\n",
      "46 s time :  0:00:27.475829\n"
     ]
    }
   ],
   "source": [
    "# Simple CNN\n",
    "def makemodel(ls,pi,train,test): \n",
    "  ls = np.array(ls)\n",
    "  ls =ls**pi\n",
    "  idx = 0\n",
    "  acc_list=[]\n",
    "  annealer = LearningRateScheduler(lambda x: 1e-3 * 0.95 ** x)\n",
    "  for x in ls: #ls =[α, β, γ] α = depth, β = width, γ = resolution\n",
    "    idx +=1\n",
    "    input_1 = layers.Input(shape = (28,28,1), name = 'Input1')\n",
    "    img_size = int(28*x[2]) #resolution\n",
    "    head_1 = Sequential([tf.keras.layers.experimental.preprocessing.Resizing(img_size,img_size)])\n",
    "      \n",
    "    input_2 = head_1(input_1)\n",
    "    main = Sequential()\n",
    "    for y in range(int(10*x[0])) : # depth\n",
    "      main.add(tf.keras.layers.Conv2D(int(32*x[1]), kernel_size = 2, activation='relu')) #width\n",
    "      if y%3 == 2: # 3번째 conv 추가 될 때마다 normalization layer를 추가\n",
    "        main.add(tf.keras.layers.BatchNormalization())\n",
    "        main.add(Dropout(0.5))\n",
    "    main.add(Flatten())\n",
    "    main.add(Dropout(0.4))\n",
    "    main.add(Dense(10, activation='softmax'))\n",
    "    output = main(input_2)\n",
    "    \n",
    "    model = Model(inputs = input_1, outputs = output)\n",
    "    model.compile(optimizer=\"adam\", loss=\"categorical_crossentropy\", metrics=[\"accuracy\"])\n",
    "\n",
    "    epochs = 40\n",
    "\n",
    "    X_train2, X_val2, y_train2, y_val2 = train_test_split(\n",
    "        train, test, test_size = 0.1)\n",
    "    start = datetime.datetime.now()\n",
    "    #-------------------------------------\n",
    "    history = model.fit_generator(\n",
    "        datagen.flow(X_train2, y_train2, batch_size=32),\n",
    "        epochs=epochs, \n",
    "        steps_per_epoch=X_train2.shape[0]//32,\n",
    "        validation_data=(X_val2, y_val2), \n",
    "        callbacks=[annealer], \n",
    "        verbose=0\n",
    "    )\n",
    "    #-------------------------------------\n",
    "    end = datetime.datetime.now()\n",
    "    time_delta = end - start\n",
    "    print(idx,'s time : ',time_delta,' ACC : ',history.history['accuracy'][-1])\n",
    "    acc_list.append((history.history['accuracy'],time_delta)) # 각 α, β, γ조합에 따른 accuracy, time 저장\n",
    "  return acc_list\n",
    "\n",
    "acc = makemodel(list1,1,train,test)\n"
   ]
  },
  {
   "cell_type": "code",
   "execution_count": null,
   "metadata": {},
   "outputs": [],
   "source": [
    "# Residual block with bottleneck architecture\n",
    "def Residual_block(x,a):\n",
    "  short = x\n",
    "  x = Conv2D(int(64*a), (1, 1), strides=(1, 1), padding='valid')(x)\n",
    "  x = BatchNormalization()(x)\n",
    "  x = Activation('relu')(x)\n",
    "            \n",
    "  x = Conv2D(int(64*a), (3, 3), strides=(1, 1), padding='same')(x)\n",
    "  x = BatchNormalization()(x)\n",
    "  x = Activation('relu')(x)\n",
    " \n",
    "  x = Conv2D(int(256*a), (1, 1), strides=(1, 1), padding='valid')(x)\n",
    "  short = Conv2D(int(256*a), (1, 1), strides=(1, 1), padding='valid')(short) \n",
    "  x = BatchNormalization()(x)\n",
    "  short = BatchNormalization()(short)\n",
    "  x = Add()([x, short])\n",
    "  x = Activation('relu')(x)\n",
    "  return x\n",
    "\n",
    "def makemodel(ls,pi,train,test): \n",
    "  ls = np.array(ls)\n",
    "  ls =ls**pi\n",
    "  idx = 0\n",
    "  acc_list=[]\n",
    "  annealer = LearningRateScheduler(lambda x: 1e-3 * 0.95 ** x)\n",
    "  for x in ls: #ls =[α, β, γ] α = depth, β = width, γ = resolution\n",
    "    idx +=1\n",
    "    #-------------------------------------\n",
    "    input_1 = layers.Input(shape = (28,28,1), name = 'Input1')\n",
    "    img_size = int(28*x[2]) #resolution\n",
    "    Resolution_1 = Sequential([tf.keras.layers.experimental.preprocessing.Resizing(img_size,img_size)])\n",
    "    input_2 = Resolution_1(input_1)\n",
    "\n",
    "    #main = Sequential()\n",
    "    for y in range(int(5*x[0])) : # depth\n",
    "      input_2 = Residual_block(input_2,x[1]) #width\n",
    "      if y%3 == 2: # 3번째 conv 추가 될 때마다 normalization layer를 추가\n",
    "        #main.add(tf.keras.layers.BatchNormalization())\n",
    "        input_2 = BatchNormalization()(input_2)\n",
    "        #main.add(Dropout(0.5))\n",
    "        input_2 = Dropout(0.5)(input_2)\n",
    "    #main.add(Flatten())\n",
    "    input_2 = Flatten()(input_2)\n",
    "    #main.add(Dense(10, activation='softmax'))\n",
    "    output = Dense(10,activation='softmax')(input_2)\n",
    "    #output = main(input_2)\n",
    "    #-------------------------------------\n",
    "    model = Model(inputs = input_1, outputs = output)\n",
    "    model.compile(optimizer=\"adam\", loss=\"categorical_crossentropy\", metrics=[\"accuracy\"])\n",
    "\n",
    "    epochs = 10\n",
    "\n",
    "    X_train2, X_val2, y_train2, y_val2 = train_test_split(\n",
    "        train, test, test_size = 0.1)\n",
    "    start = datetime.datetime.now()\n",
    "    #-------------------------------------\n",
    "    history = model.fit_generator(\n",
    "        datagen.flow(X_train2, y_train2, batch_size=32),\n",
    "        epochs=epochs, \n",
    "        steps_per_epoch=X_train2.shape[0]//32,\n",
    "        validation_data=(X_val2, y_val2), \n",
    "        callbacks=[annealer], \n",
    "        verbose=0\n",
    "    )\n",
    "    #-------------------------------------\n",
    "    end = datetime.datetime.now()\n",
    "    time_delta = end - start\n",
    "    print(idx,'s time : ',time_delta,' ACC : ',history.history['accuracy'][-1])\n",
    "    acc_list.append((history.history['accuracy'],time_delta)) # 각 α, β, γ조합에 따른 accuracy, time 저장\n",
    "  return acc_list,model\n",
    "\n",
    "acc, model = makemodel(list1,1,train,test) # list1 = grid , 1= ∅\n"
   ]
  },
  {
   "cell_type": "markdown",
   "metadata": {
    "id": "Ql1wOHp2H-Nh"
   },
   "source": [
    "시간이 date자료형 이므로 실수 자료형으로 변환, min-max scaler"
   ]
  },
  {
   "cell_type": "code",
   "execution_count": null,
   "metadata": {
    "id": "ocr0SDSpKSP3"
   },
   "outputs": [],
   "source": [
    "def timedelta2int(td):\n",
    "  res = td.microseconds/float(1000000) + (td.seconds + td.days * 24 * 3600)\n",
    "  return res \n",
    "\n",
    "def min_max_scaler(lst):\n",
    "  tmp =[]\n",
    "  Max = max(lst)\n",
    "  Min = min(lst)\n",
    "  for x in lst:\n",
    "    tmp.append((x-Min)/(Max-Min))\n",
    "  return tmp"
   ]
  },
  {
   "cell_type": "code",
   "execution_count": null,
   "metadata": {
    "colab": {
     "base_uri": "https://localhost:8080/"
    },
    "id": "qCBpzxImv9-6",
    "outputId": "4cb69833-cc90-4219-a9df-002fe06654fa"
   },
   "outputs": [
    {
     "name": "stdout",
     "output_type": "stream",
     "text": [
      "a , b , r , acc , time , score\n",
      "1.0  ,  1.0  ,  1.0  ,  0.935520350933075  ,  0:00:30.926543  ,  0.030249755070687175\n",
      "1.0  ,  1.0  ,  1.1  ,  0.9270362257957458  ,  0:00:23.884623  ,  0.03881309852769063\n",
      "1.0  ,  1.0  ,  1.2  ,  0.9315611124038696  ,  0:00:24.056337  ,  0.038724146257340414\n",
      "1.0  ,  1.0  ,  1.3  ,  0.915723979473114  ,  0:00:24.259115  ,  0.03774762514927334\n",
      "1.0  ,  1.0  ,  1.4  ,  0.9242081642150879  ,  0:00:24.944435  ,  0.037050675399747\n",
      "1.0  ,  1.1  ,  1.0  ,  0.9352678656578064  ,  0:00:23.830246  ,  0.03924709235724241\n",
      "1.0  ,  1.1  ,  1.1  ,  0.9292986392974854  ,  0:00:24.282831  ,  0.038269781612262806\n",
      "1.0  ,  1.1  ,  1.2  ,  0.9330357313156128  ,  0:00:24.922064  ,  0.037438140409061335\n",
      "1.0  ,  1.2  ,  1.0  ,  0.9383484125137329  ,  0:00:24.179282  ,  0.03880795188681504\n",
      "1.0  ,  1.2  ,  1.1  ,  0.9202008843421936  ,  0:00:24.211273  ,  0.03800712520742687\n",
      "1.0  ,  1.3  ,  1.0  ,  0.9309954643249512  ,  0:00:24.578037  ,  0.03787916277955604\n",
      "1.0  ,  1.4  ,  1.0  ,  0.9485294222831726  ,  0:00:24.533323  ,  0.038662900345100934\n",
      "1.1  ,  1.0  ,  1.0  ,  0.9304298758506775  ,  0:00:24.020962  ,  0.03873408050229951\n",
      "1.1  ,  1.0  ,  1.1  ,  0.9343891143798828  ,  0:00:24.093342  ,  0.0387820466907365\n",
      "1.1  ,  1.0  ,  1.2  ,  0.9536198973655701  ,  0:00:24.968435  ,  0.03819301839965421\n",
      "1.1  ,  1.0  ,  1.3  ,  0.9406108856201172  ,  0:00:24.816317  ,  0.037902920309251256\n",
      "1.1  ,  1.1  ,  1.0  ,  0.9462669491767883  ,  0:00:24.284275  ,  0.038966242524299706\n",
      "1.1  ,  1.1  ,  1.1  ,  0.9513574838638306  ,  0:00:24.644184  ,  0.03860373238017662\n",
      "1.1  ,  1.1  ,  1.2  ,  0.9440045356750488  ,  0:00:25.358475  ,  0.037226392189398175\n",
      "1.1  ,  1.2  ,  1.0  ,  0.9440045356750488  ,  0:00:24.279769  ,  0.03888029312284844\n",
      "1.1  ,  1.2  ,  1.1  ,  0.9440045356750488  ,  0:00:24.992482  ,  0.037771540084536176\n",
      "1.1  ,  1.3  ,  1.0  ,  0.9502262473106384  ,  0:00:24.317777  ,  0.03907537466564639\n",
      "1.2  ,  1.0  ,  1.0  ,  0.8693438768386841  ,  0:00:24.619365  ,  0.035311385035263265\n",
      "1.2  ,  1.0  ,  1.1  ,  0.8716063499450684  ,  0:00:24.649715  ,  0.035359692797465134\n",
      "1.2  ,  1.0  ,  1.2  ,  0.8800904750823975  ,  0:00:24.960570  ,  0.03525922986063209\n",
      "1.2  ,  1.1  ,  1.0  ,  0.8642534017562866  ,  0:00:24.690351  ,  0.035003690379139876\n",
      "1.2  ,  1.1  ,  1.1  ,  0.8936651349067688  ,  0:00:25.481519  ,  0.03507110917943192\n",
      "1.2  ,  1.2  ,  1.0  ,  0.8670814633369446  ,  0:00:24.990609  ,  0.03469629184854777\n",
      "1.3  ,  1.0  ,  1.0  ,  0.8908371329307556  ,  0:00:24.903831  ,  0.03577108810812102\n",
      "1.3  ,  1.0  ,  1.1  ,  0.9061086177825928  ,  0:00:24.846133  ,  0.03646879849603126\n",
      "1.3  ,  1.0  ,  1.2  ,  0.891968309879303  ,  0:00:25.390009  ,  0.03513068112261414\n",
      "1.3  ,  1.1  ,  1.0  ,  0.9151583909988403  ,  0:00:24.958948  ,  0.036666545040233284\n",
      "1.3  ,  1.1  ,  1.1  ,  0.9038461446762085  ,  0:00:25.734438  ,  0.035122047144616426\n",
      "1.3  ,  1.2  ,  1.0  ,  0.9049773812294006  ,  0:00:26.362706  ,  0.03432793967468289\n",
      "1.4  ,  1.0  ,  1.0  ,  0.918552041053772  ,  0:00:25.034481  ,  0.03669147529176946\n",
      "1.4  ,  1.0  ,  1.1  ,  0.918552041053772  ,  0:00:25.041851  ,  0.03668067672209103\n",
      "1.4  ,  1.1  ,  1.0  ,  0.9134615659713745  ,  0:00:25.345191  ,  0.03604082391690694\n",
      "1.5  ,  1.0  ,  1.0  ,  0.8257918357849121  ,  0:00:25.706674  ,  0.032123635900346816\n",
      "1.5  ,  1.0  ,  1.1  ,  0.8252262473106384  ,  0:00:25.862590  ,  0.03190810538738148\n",
      "1.5  ,  1.1  ,  1.0  ,  0.8546379804611206  ,  0:00:26.011839  ,  0.03285573082553374\n",
      "1.6  ,  1.0  ,  1.0  ,  0.851244330406189  ,  0:00:26.407642  ,  0.0322347724346683\n",
      "1.6  ,  1.0  ,  1.1  ,  0.8501130938529968  ,  0:00:25.992472  ,  0.0327061271376188\n",
      "1.6  ,  1.1  ,  1.0  ,  0.8591628670692444  ,  0:00:26.421495  ,  0.03251757204008495\n",
      "1.7  ,  1.0  ,  1.0  ,  0.8467194437980652  ,  0:00:26.660912  ,  0.03175883269852379\n",
      "1.8  ,  1.0  ,  1.0  ,  0.6968325972557068  ,  0:00:27.536614  ,  0.025305674737486124\n",
      "1.9  ,  1.0  ,  1.0  ,  0.7222850918769836  ,  0:00:27.475829  ,  0.026288018165966296\n"
     ]
    }
   ],
   "source": [
    "score = []\n",
    "time = []\n",
    "accuracy = []\n",
    "\n",
    "for x in acc:\n",
    "  score.append(x[0][-1]/(timedelta2int(x[1])))\n",
    "  accuracy.append(x[0][-1])\n",
    "  time.append(timedelta2int(x[1]))\n",
    "\n",
    "min_max_time = min_max_scaler(time)\n",
    "for x in range(46):\n",
    "  if x==0:\n",
    "    print('a , b , r , acc , time , score')\n",
    "  print(list1[x][0],' , ', list1[x][1],' , ',list1[x][2],' , ', acc[x][0][-1],' , ',acc[x][1],' , ',score[x])"
   ]
  },
  {
   "cell_type": "markdown",
   "metadata": {
    "id": "DRXTgTNFIBh1"
   },
   "source": [
    "각 α, β, γ조합의 acc, time 시각화 "
   ]
  },
  {
   "cell_type": "code",
   "execution_count": null,
   "metadata": {
    "colab": {
     "base_uri": "https://localhost:8080/",
     "height": 265
    },
    "id": "U8nM3baP00Mm",
    "outputId": "96a8be81-8301-4cc7-b012-05a6049a6a6d"
   },
   "outputs": [
    {
     "data": {
      "image/png": "[encoded data removed]",
      "text/plain": [
       "<Figure size 432x288 with 1 Axes>"
      ]
     },
     "metadata": {
      "needs_background": "light",
      "tags": []
     },
     "output_type": "display_data"
    }
   ],
   "source": [
    "%matplotlib inline\n",
    "import matplotlib.pyplot as plt\n",
    "\n",
    "accuracy\n",
    "x = range(len(accuracy))\n",
    "y1= min_max_time\n",
    "y2 = accuracy\n",
    "plt.plot(x, y1)\n",
    "plt.plot(x, y2)\n",
    "plt.show()"
   ]
  },
  {
   "cell_type": "markdown",
   "metadata": {
    "id": "we9D6oLJIE_N"
   },
   "source": [
    "가장 높은 acc, 가장 적게 걸린 시간의 α, β, γ값"
   ]
  },
  {
   "cell_type": "code",
   "execution_count": null,
   "metadata": {
    "id": "8RvPLSbMT3lY"
   },
   "outputs": [],
   "source": [
    "accuracy2 = np.array(accuracy)\n",
    "min_max_time2 = np.array(min_max_time)\n",
    "a = np.argmax(accuracy2)\n",
    "b = np.argmin(min_max_time2)"
   ]
  },
  {
   "cell_type": "code",
   "execution_count": null,
   "metadata": {
    "colab": {
     "base_uri": "https://localhost:8080/"
    },
    "id": "BVv6ttMqT6kk",
    "outputId": "cf44ae0d-f121-41f8-9748-a82772a0b789"
   },
   "outputs": [
    {
     "data": {
      "text/plain": [
       "[1.1, 1.0, 1.2]"
      ]
     },
     "execution_count": 52,
     "metadata": {
      "tags": []
     },
     "output_type": "execute_result"
    }
   ],
   "source": [
    "list1[a]"
   ]
  },
  {
   "cell_type": "markdown",
   "metadata": {
    "id": "thRARPsEIGfj"
   },
   "source": [
    "# Conclusion\n",
    "EfficientNet의 실험대로 compound scaling을 진행한 결과, width,resolution 없이 depth만 scaling 한 경우 가장 낮은 acc,  시간도 가장 오래 걸렸음을 확인할 수 있었는데 이는 layer가 깊어짐에 따른 gradient vanishing,gradation현상이 일어난걸로 추측되며 이를 보완하기 위한 resnet의 shortcut을 사용해서 실험을 했다면 다른 결과가 나왔을 수도 있다고 생각한다. 가장 높은 acc일때의 α, β, γ조합은  α=1.1, β=1.0, γ=1.2 로 논문에서의 결과인α=1.2, β=1.1, γ=1.15를 확인할 수 있다. 하지만 이 실험에서는 base line model을 간단하게 구현함과, grid search 당시 간격을 0.1로 해서 논문과의 실험 결과의 차이가 있을 것이다."
   ]
  }
 ],
 "metadata": {
  "accelerator": "GPU",
  "colab": {
   "collapsed_sections": [],
   "name": "EfficientNet_mnist.ipynb의 사본",
   "provenance": []
  },
  "kernelspec": {
   "display_name": "Python 3",
   "language": "python",
   "name": "python3"
  },
  "language_info": {
   "codemirror_mode": {
    "name": "ipython",
    "version": 3
   },
   "file_extension": ".py",
   "mimetype": "text/x-python",
   "name": "python",
   "nbconvert_exporter": "python",
   "pygments_lexer": "ipython3",
   "version": "3.7.1"
  }
 },
 "nbformat": 4,
 "nbformat_minor": 1
}
