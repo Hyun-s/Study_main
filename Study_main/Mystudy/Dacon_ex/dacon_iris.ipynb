{
  "nbformat": 4,
  "nbformat_minor": 0,
  "metadata": {
    "accelerator": "GPU",
    "colab": {
      "name": "dacon_iris.ipynb",
      "provenance": []
    },
    "kernelspec": {
      "display_name": "Python 3",
      "name": "python3"
    },
    "language_info": {
      "name": "python"
    }
  },
  "cells": [
    {
      "cell_type": "code",
      "metadata": {
        "colab": {
          "background_save": true,
          "base_uri": "https://localhost:8080/"
        },
        "id": "Yed2r0HPYwgQ",
        "outputId": "a0de6dfe-5a57-49ce-ab17-9bac5c9ee8cd"
      },
      "source": [
        "!pip install kaggle --upgrade\n",
        "!mkdir -p ~/.kaggle\n",
        "!cp /content/drive/MyDrive/기존드라이브/kaggletoken/kaggle.json ~/.kaggle/\n",
        "!chmod 600 ~/.kaggle/kaggle.json\n",
        "\n",
        "#!kaggle competitions download -c wikipedia-image-caption\n",
        "!nvidia-smi"
      ],
      "execution_count": null,
      "outputs": [
        {
          "name": "stdout",
          "output_type": "stream",
          "text": [
            "Requirement already satisfied: kaggle in /usr/local/lib/python3.7/dist-packages (1.5.12)\n",
            "Requirement already satisfied: python-dateutil in /usr/local/lib/python3.7/dist-packages (from kaggle) (2.8.2)\n",
            "Requirement already satisfied: urllib3 in /usr/local/lib/python3.7/dist-packages (from kaggle) (1.24.3)\n",
            "Requirement already satisfied: tqdm in /usr/local/lib/python3.7/dist-packages (from kaggle) (4.62.3)\n",
            "Requirement already satisfied: certifi in /usr/local/lib/python3.7/dist-packages (from kaggle) (2021.5.30)\n",
            "Requirement already satisfied: requests in /usr/local/lib/python3.7/dist-packages (from kaggle) (2.23.0)\n",
            "Requirement already satisfied: six>=1.10 in /usr/local/lib/python3.7/dist-packages (from kaggle) (1.15.0)\n",
            "Requirement already satisfied: python-slugify in /usr/local/lib/python3.7/dist-packages (from kaggle) (5.0.2)\n",
            "Requirement already satisfied: text-unidecode>=1.3 in /usr/local/lib/python3.7/dist-packages (from python-slugify->kaggle) (1.3)\n",
            "Requirement already satisfied: idna<3,>=2.5 in /usr/local/lib/python3.7/dist-packages (from requests->kaggle) (2.10)\n",
            "Requirement already satisfied: chardet<4,>=3.0.2 in /usr/local/lib/python3.7/dist-packages (from requests->kaggle) (3.0.4)\n",
            "cp: cannot stat '/content/drive/MyDrive/기존드라이브/kaggletoken/kaggle.json': No such file or directory\n",
            "chmod: cannot access '/root/.kaggle/kaggle.json': No such file or directory\n",
            "NVIDIA-SMI has failed because it couldn't communicate with the NVIDIA driver. Make sure that the latest NVIDIA driver is installed and running.\n",
            "\n"
          ]
        }
      ]
    },
    {
      "cell_type": "code",
      "metadata": {
        "id": "vqGY7jjEFrM0"
      },
      "source": [
        "from google.colab import drive\n",
        "drive.mount('/content/drive')"
      ],
      "execution_count": null,
      "outputs": []
    },
    {
      "cell_type": "code",
      "metadata": {
        "id": "DR79-Vu4YxeL"
      },
      "source": [
        "!mkdir data"
      ],
      "execution_count": null,
      "outputs": []
    },
    {
      "cell_type": "code",
      "metadata": {
        "id": "LZ7L34TUY_1F",
        "colab": {
          "base_uri": "https://localhost:8080/"
        },
        "outputId": "fb1002e9-daec-4312-dc0c-fe775235bb95"
      },
      "source": [
        "!unzip /content/drive/MyDrive/kaggle_data/iris_dataset.zip -d /content/data"
      ],
      "execution_count": null,
      "outputs": [
        {
          "output_type": "stream",
          "name": "stdout",
          "text": [
            "Archive:  /content/drive/MyDrive/kaggle_data/iris_dataset.zip\n",
            "  inflating: /content/data/iris_test.csv  \n",
            "  inflating: /content/data/iris_train.csv  \n",
            "  inflating: /content/data/sample_submission.csv  \n"
          ]
        }
      ]
    },
    {
      "cell_type": "code",
      "metadata": {
        "id": "sBSBkHbWF1i3"
      },
      "source": [
        "import pandas as pd\n",
        "import numpy as np"
      ],
      "execution_count": null,
      "outputs": []
    },
    {
      "cell_type": "code",
      "metadata": {
        "id": "q_-lK8WGF42S"
      },
      "source": [
        "train = pd.read_csv('/content/data/iris_train.csv')\n",
        "test = pd.read_csv('/content/data/iris_test.csv')\n",
        "sample = pd.read_csv('/content/data/sample_submission.csv')"
      ],
      "execution_count": null,
      "outputs": []
    },
    {
      "cell_type": "code",
      "metadata": {
        "colab": {
          "base_uri": "https://localhost:8080/",
          "height": 423
        },
        "id": "YeIsnn6y41TU",
        "outputId": "92468afd-b56f-464e-c8a6-83ff6991765b"
      },
      "source": [
        "train"
      ],
      "execution_count": null,
      "outputs": [
        {
          "output_type": "execute_result",
          "data": {
            "text/html": [
              "<div>\n",
              "<style scoped>\n",
              "    .dataframe tbody tr th:only-of-type {\n",
              "        vertical-align: middle;\n",
              "    }\n",
              "\n",
              "    .dataframe tbody tr th {\n",
              "        vertical-align: top;\n",
              "    }\n",
              "\n",
              "    .dataframe thead th {\n",
              "        text-align: right;\n",
              "    }\n",
              "</style>\n",
              "<table border=\"1\" class=\"dataframe\">\n",
              "  <thead>\n",
              "    <tr style=\"text-align: right;\">\n",
              "      <th></th>\n",
              "      <th>id</th>\n",
              "      <th>species</th>\n",
              "      <th>sepal length (cm)</th>\n",
              "      <th>petal length (cm)</th>\n",
              "      <th>sepal width (cm)</th>\n",
              "      <th>petal width (cm)</th>\n",
              "    </tr>\n",
              "  </thead>\n",
              "  <tbody>\n",
              "    <tr>\n",
              "      <th>0</th>\n",
              "      <td>0</td>\n",
              "      <td>setosa</td>\n",
              "      <td>4.4</td>\n",
              "      <td>1.4</td>\n",
              "      <td>2.9</td>\n",
              "      <td>0.2</td>\n",
              "    </tr>\n",
              "    <tr>\n",
              "      <th>1</th>\n",
              "      <td>1</td>\n",
              "      <td>versicolor</td>\n",
              "      <td>6.4</td>\n",
              "      <td>4.5</td>\n",
              "      <td>3.2</td>\n",
              "      <td>1.5</td>\n",
              "    </tr>\n",
              "    <tr>\n",
              "      <th>2</th>\n",
              "      <td>2</td>\n",
              "      <td>virginica</td>\n",
              "      <td>6.2</td>\n",
              "      <td>4.8</td>\n",
              "      <td>2.8</td>\n",
              "      <td>1.8</td>\n",
              "    </tr>\n",
              "    <tr>\n",
              "      <th>3</th>\n",
              "      <td>3</td>\n",
              "      <td>virginica</td>\n",
              "      <td>7.2</td>\n",
              "      <td>6.1</td>\n",
              "      <td>3.6</td>\n",
              "      <td>2.5</td>\n",
              "    </tr>\n",
              "    <tr>\n",
              "      <th>4</th>\n",
              "      <td>4</td>\n",
              "      <td>setosa</td>\n",
              "      <td>4.9</td>\n",
              "      <td>1.4</td>\n",
              "      <td>3.0</td>\n",
              "      <td>0.2</td>\n",
              "    </tr>\n",
              "    <tr>\n",
              "      <th>...</th>\n",
              "      <td>...</td>\n",
              "      <td>...</td>\n",
              "      <td>...</td>\n",
              "      <td>...</td>\n",
              "      <td>...</td>\n",
              "      <td>...</td>\n",
              "    </tr>\n",
              "    <tr>\n",
              "      <th>70</th>\n",
              "      <td>70</td>\n",
              "      <td>versicolor</td>\n",
              "      <td>6.5</td>\n",
              "      <td>4.6</td>\n",
              "      <td>2.8</td>\n",
              "      <td>1.5</td>\n",
              "    </tr>\n",
              "    <tr>\n",
              "      <th>71</th>\n",
              "      <td>71</td>\n",
              "      <td>versicolor</td>\n",
              "      <td>5.6</td>\n",
              "      <td>3.6</td>\n",
              "      <td>2.9</td>\n",
              "      <td>1.3</td>\n",
              "    </tr>\n",
              "    <tr>\n",
              "      <th>72</th>\n",
              "      <td>72</td>\n",
              "      <td>versicolor</td>\n",
              "      <td>6.2</td>\n",
              "      <td>4.5</td>\n",
              "      <td>2.2</td>\n",
              "      <td>1.5</td>\n",
              "    </tr>\n",
              "    <tr>\n",
              "      <th>73</th>\n",
              "      <td>73</td>\n",
              "      <td>versicolor</td>\n",
              "      <td>4.9</td>\n",
              "      <td>3.3</td>\n",
              "      <td>2.4</td>\n",
              "      <td>1.0</td>\n",
              "    </tr>\n",
              "    <tr>\n",
              "      <th>74</th>\n",
              "      <td>74</td>\n",
              "      <td>versicolor</td>\n",
              "      <td>6.9</td>\n",
              "      <td>4.9</td>\n",
              "      <td>3.1</td>\n",
              "      <td>1.5</td>\n",
              "    </tr>\n",
              "  </tbody>\n",
              "</table>\n",
              "<p>75 rows × 6 columns</p>\n",
              "</div>"
            ],
            "text/plain": [
              "    id     species  ...  sepal width (cm)  petal width (cm)\n",
              "0    0      setosa  ...               2.9               0.2\n",
              "1    1  versicolor  ...               3.2               1.5\n",
              "2    2   virginica  ...               2.8               1.8\n",
              "3    3   virginica  ...               3.6               2.5\n",
              "4    4      setosa  ...               3.0               0.2\n",
              "..  ..         ...  ...               ...               ...\n",
              "70  70  versicolor  ...               2.8               1.5\n",
              "71  71  versicolor  ...               2.9               1.3\n",
              "72  72  versicolor  ...               2.2               1.5\n",
              "73  73  versicolor  ...               2.4               1.0\n",
              "74  74  versicolor  ...               3.1               1.5\n",
              "\n",
              "[75 rows x 6 columns]"
            ]
          },
          "metadata": {},
          "execution_count": 54
        }
      ]
    },
    {
      "cell_type": "code",
      "metadata": {
        "id": "yjJyI6QTWDCs"
      },
      "source": [
        "# def up_noise(x):\n",
        "#   return x +np.random.randn(1)[0]/10\n",
        "# tmp = train.copy()\n",
        "# tmp['sepal length (cm)'] =  tmp['sepal length (cm)'].apply(lambda x: up_noise(x))\n",
        "# tmp['petal length (cm)'] =  tmp['petal length (cm)'].apply(lambda x: up_noise(x))\n",
        "# train = train.append(tmp)\n",
        "# train"
      ],
      "execution_count": null,
      "outputs": []
    },
    {
      "cell_type": "code",
      "metadata": {
        "id": "h74J-bKzauOj"
      },
      "source": [
        "train['sep'] = train['sepal length (cm)'].apply(lambda x: x**2)\n",
        "train['pet'] = train['petal length (cm)'].apply(lambda x: x**2)\n",
        "test['sep'] = test['sepal length (cm)'].apply(lambda x: x**2)\n",
        "test['pet'] = test['petal length (cm)'].apply(lambda x: x**2)"
      ],
      "execution_count": null,
      "outputs": []
    },
    {
      "cell_type": "code",
      "metadata": {
        "id": "VzPFMcUK31xu"
      },
      "source": [
        "y = train[['sepal width (cm)','petal width (cm)']]\n",
        "x = train.drop(['id','sepal width (cm)','petal width (cm)'],axis=1)"
      ],
      "execution_count": null,
      "outputs": []
    },
    {
      "cell_type": "code",
      "metadata": {
        "colab": {
          "base_uri": "https://localhost:8080/",
          "height": 441
        },
        "id": "hMJ-krNI5FoL",
        "outputId": "25aafe6c-81ef-4923-ab2d-6ed9eead1ab0"
      },
      "source": [
        "train"
      ],
      "execution_count": null,
      "outputs": [
        {
          "output_type": "execute_result",
          "data": {
            "text/html": [
              "<div>\n",
              "<style scoped>\n",
              "    .dataframe tbody tr th:only-of-type {\n",
              "        vertical-align: middle;\n",
              "    }\n",
              "\n",
              "    .dataframe tbody tr th {\n",
              "        vertical-align: top;\n",
              "    }\n",
              "\n",
              "    .dataframe thead th {\n",
              "        text-align: right;\n",
              "    }\n",
              "</style>\n",
              "<table border=\"1\" class=\"dataframe\">\n",
              "  <thead>\n",
              "    <tr style=\"text-align: right;\">\n",
              "      <th></th>\n",
              "      <th>id</th>\n",
              "      <th>species</th>\n",
              "      <th>sepal length (cm)</th>\n",
              "      <th>petal length (cm)</th>\n",
              "      <th>sepal width (cm)</th>\n",
              "      <th>petal width (cm)</th>\n",
              "      <th>sep</th>\n",
              "      <th>pet</th>\n",
              "    </tr>\n",
              "  </thead>\n",
              "  <tbody>\n",
              "    <tr>\n",
              "      <th>0</th>\n",
              "      <td>0</td>\n",
              "      <td>0</td>\n",
              "      <td>4.4</td>\n",
              "      <td>1.4</td>\n",
              "      <td>2.9</td>\n",
              "      <td>0.2</td>\n",
              "      <td>19.36</td>\n",
              "      <td>1.96</td>\n",
              "    </tr>\n",
              "    <tr>\n",
              "      <th>1</th>\n",
              "      <td>1</td>\n",
              "      <td>1</td>\n",
              "      <td>6.4</td>\n",
              "      <td>4.5</td>\n",
              "      <td>3.2</td>\n",
              "      <td>1.5</td>\n",
              "      <td>40.96</td>\n",
              "      <td>20.25</td>\n",
              "    </tr>\n",
              "    <tr>\n",
              "      <th>2</th>\n",
              "      <td>2</td>\n",
              "      <td>2</td>\n",
              "      <td>6.2</td>\n",
              "      <td>4.8</td>\n",
              "      <td>2.8</td>\n",
              "      <td>1.8</td>\n",
              "      <td>38.44</td>\n",
              "      <td>23.04</td>\n",
              "    </tr>\n",
              "    <tr>\n",
              "      <th>3</th>\n",
              "      <td>3</td>\n",
              "      <td>2</td>\n",
              "      <td>7.2</td>\n",
              "      <td>6.1</td>\n",
              "      <td>3.6</td>\n",
              "      <td>2.5</td>\n",
              "      <td>51.84</td>\n",
              "      <td>37.21</td>\n",
              "    </tr>\n",
              "    <tr>\n",
              "      <th>4</th>\n",
              "      <td>4</td>\n",
              "      <td>0</td>\n",
              "      <td>4.9</td>\n",
              "      <td>1.4</td>\n",
              "      <td>3.0</td>\n",
              "      <td>0.2</td>\n",
              "      <td>24.01</td>\n",
              "      <td>1.96</td>\n",
              "    </tr>\n",
              "    <tr>\n",
              "      <th>...</th>\n",
              "      <td>...</td>\n",
              "      <td>...</td>\n",
              "      <td>...</td>\n",
              "      <td>...</td>\n",
              "      <td>...</td>\n",
              "      <td>...</td>\n",
              "      <td>...</td>\n",
              "      <td>...</td>\n",
              "    </tr>\n",
              "    <tr>\n",
              "      <th>70</th>\n",
              "      <td>70</td>\n",
              "      <td>1</td>\n",
              "      <td>6.5</td>\n",
              "      <td>4.6</td>\n",
              "      <td>2.8</td>\n",
              "      <td>1.5</td>\n",
              "      <td>42.25</td>\n",
              "      <td>21.16</td>\n",
              "    </tr>\n",
              "    <tr>\n",
              "      <th>71</th>\n",
              "      <td>71</td>\n",
              "      <td>1</td>\n",
              "      <td>5.6</td>\n",
              "      <td>3.6</td>\n",
              "      <td>2.9</td>\n",
              "      <td>1.3</td>\n",
              "      <td>31.36</td>\n",
              "      <td>12.96</td>\n",
              "    </tr>\n",
              "    <tr>\n",
              "      <th>72</th>\n",
              "      <td>72</td>\n",
              "      <td>1</td>\n",
              "      <td>6.2</td>\n",
              "      <td>4.5</td>\n",
              "      <td>2.2</td>\n",
              "      <td>1.5</td>\n",
              "      <td>38.44</td>\n",
              "      <td>20.25</td>\n",
              "    </tr>\n",
              "    <tr>\n",
              "      <th>73</th>\n",
              "      <td>73</td>\n",
              "      <td>1</td>\n",
              "      <td>4.9</td>\n",
              "      <td>3.3</td>\n",
              "      <td>2.4</td>\n",
              "      <td>1.0</td>\n",
              "      <td>24.01</td>\n",
              "      <td>10.89</td>\n",
              "    </tr>\n",
              "    <tr>\n",
              "      <th>74</th>\n",
              "      <td>74</td>\n",
              "      <td>1</td>\n",
              "      <td>6.9</td>\n",
              "      <td>4.9</td>\n",
              "      <td>3.1</td>\n",
              "      <td>1.5</td>\n",
              "      <td>47.61</td>\n",
              "      <td>24.01</td>\n",
              "    </tr>\n",
              "  </tbody>\n",
              "</table>\n",
              "<p>75 rows × 8 columns</p>\n",
              "</div>"
            ],
            "text/plain": [
              "    id  species  sepal length (cm)  ...  petal width (cm)    sep    pet\n",
              "0    0        0                4.4  ...               0.2  19.36   1.96\n",
              "1    1        1                6.4  ...               1.5  40.96  20.25\n",
              "2    2        2                6.2  ...               1.8  38.44  23.04\n",
              "3    3        2                7.2  ...               2.5  51.84  37.21\n",
              "4    4        0                4.9  ...               0.2  24.01   1.96\n",
              "..  ..      ...                ...  ...               ...    ...    ...\n",
              "70  70        1                6.5  ...               1.5  42.25  21.16\n",
              "71  71        1                5.6  ...               1.3  31.36  12.96\n",
              "72  72        1                6.2  ...               1.5  38.44  20.25\n",
              "73  73        1                4.9  ...               1.0  24.01  10.89\n",
              "74  74        1                6.9  ...               1.5  47.61  24.01\n",
              "\n",
              "[75 rows x 8 columns]"
            ]
          },
          "metadata": {},
          "execution_count": 67
        }
      ]
    },
    {
      "cell_type": "code",
      "metadata": {
        "id": "xO2hhPcKGDS3"
      },
      "source": [
        "from lightgbm import LGBMRegressor\n",
        "\n",
        "import pandas as pd\n",
        "import numpy as np\n",
        "from sklearn.model_selection import train_test_split\n",
        "from lightgbm import plot_importance\n",
        "import matplotlib.pyplot as plt"
      ],
      "execution_count": null,
      "outputs": []
    },
    {
      "cell_type": "code",
      "metadata": {
        "id": "7Z5I9gqjXX-C"
      },
      "source": [
        "from sklearn.preprocessing import LabelEncoder\n",
        "\n",
        "le =LabelEncoder()\n",
        "\n",
        "le = le.fit(train['species'])\n",
        "train['species'] = le.transform(train['species'])\n",
        "test['species'] = le.transform(test['species'])"
      ],
      "execution_count": null,
      "outputs": []
    },
    {
      "cell_type": "code",
      "metadata": {
        "id": "LGDSzwXaV7Ua"
      },
      "source": [
        "train_x, test_x, train_y, test_y = train_test_split(x,y,test_size=0.2)"
      ],
      "execution_count": null,
      "outputs": []
    },
    {
      "cell_type": "code",
      "metadata": {
        "colab": {
          "base_uri": "https://localhost:8080/",
          "height": 143
        },
        "id": "z_kUZ2wgbA5-",
        "outputId": "84a1ab7e-eb78-4f18-bbef-b0b288d73e7f"
      },
      "source": [
        "train_x.head(3)"
      ],
      "execution_count": null,
      "outputs": [
        {
          "output_type": "execute_result",
          "data": {
            "text/html": [
              "<div>\n",
              "<style scoped>\n",
              "    .dataframe tbody tr th:only-of-type {\n",
              "        vertical-align: middle;\n",
              "    }\n",
              "\n",
              "    .dataframe tbody tr th {\n",
              "        vertical-align: top;\n",
              "    }\n",
              "\n",
              "    .dataframe thead th {\n",
              "        text-align: right;\n",
              "    }\n",
              "</style>\n",
              "<table border=\"1\" class=\"dataframe\">\n",
              "  <thead>\n",
              "    <tr style=\"text-align: right;\">\n",
              "      <th></th>\n",
              "      <th>species</th>\n",
              "      <th>sepal length (cm)</th>\n",
              "      <th>petal length (cm)</th>\n",
              "      <th>sep</th>\n",
              "      <th>pet</th>\n",
              "    </tr>\n",
              "  </thead>\n",
              "  <tbody>\n",
              "    <tr>\n",
              "      <th>36</th>\n",
              "      <td>2</td>\n",
              "      <td>7.2</td>\n",
              "      <td>6.0</td>\n",
              "      <td>51.84</td>\n",
              "      <td>36.00</td>\n",
              "    </tr>\n",
              "    <tr>\n",
              "      <th>21</th>\n",
              "      <td>0</td>\n",
              "      <td>5.4</td>\n",
              "      <td>1.7</td>\n",
              "      <td>29.16</td>\n",
              "      <td>2.89</td>\n",
              "    </tr>\n",
              "    <tr>\n",
              "      <th>47</th>\n",
              "      <td>1</td>\n",
              "      <td>6.1</td>\n",
              "      <td>4.7</td>\n",
              "      <td>37.21</td>\n",
              "      <td>22.09</td>\n",
              "    </tr>\n",
              "  </tbody>\n",
              "</table>\n",
              "</div>"
            ],
            "text/plain": [
              "    species  sepal length (cm)  petal length (cm)    sep    pet\n",
              "36        2                7.2                6.0  51.84  36.00\n",
              "21        0                5.4                1.7  29.16   2.89\n",
              "47        1                6.1                4.7  37.21  22.09"
            ]
          },
          "metadata": {},
          "execution_count": 71
        }
      ]
    },
    {
      "cell_type": "code",
      "metadata": {
        "id": "QM106DZxW-BN",
        "colab": {
          "base_uri": "https://localhost:8080/"
        },
        "outputId": "2e8553c6-267f-434d-c263-a5ea85c940fb"
      },
      "source": [
        "lgbm_sepal = LGBMRegressor()\n",
        "lgbm_petal = LGBMRegressor()\n",
        "eval_set_s=[(test_x, test_y['sepal width (cm)']), (train_x, train_y['sepal width (cm)'])]\n",
        "eval_set_p=[(test_x, test_y['petal width (cm)']), (train_x, train_y['petal width (cm)'])]\n",
        "lgbm_sepal.fit(train_x,train_y['sepal width (cm)'],eval_set=eval_set_s,eval_metric=['MAE'])\n",
        "\n",
        "lgbm_petal.fit(train_x,train_y['petal width (cm)'],eval_set=eval_set_p,eval_metric=['MAE'])"
      ],
      "execution_count": null,
      "outputs": [
        {
          "output_type": "stream",
          "name": "stdout",
          "text": [
            "[1]\ttraining's l1: 0.288106\ttraining's l2: 0.146575\tvalid_0's l1: 0.278414\tvalid_0's l2: 0.156984\n",
            "[2]\ttraining's l1: 0.287002\ttraining's l2: 0.146015\tvalid_0's l1: 0.276987\tvalid_0's l2: 0.156733\n",
            "[3]\ttraining's l1: 0.28618\ttraining's l2: 0.145561\tvalid_0's l1: 0.275801\tvalid_0's l2: 0.156559\n",
            "[4]\ttraining's l1: 0.285719\ttraining's l2: 0.145079\tvalid_0's l1: 0.275122\tvalid_0's l2: 0.156188\n",
            "[5]\ttraining's l1: 0.285528\ttraining's l2: 0.144672\tvalid_0's l1: 0.274276\tvalid_0's l2: 0.156044\n",
            "[6]\ttraining's l1: 0.284678\ttraining's l2: 0.144244\tvalid_0's l1: 0.273359\tvalid_0's l2: 0.155724\n",
            "[7]\ttraining's l1: 0.284916\ttraining's l2: 0.143879\tvalid_0's l1: 0.272837\tvalid_0's l2: 0.155607\n",
            "[8]\ttraining's l1: 0.283278\ttraining's l2: 0.142545\tvalid_0's l1: 0.271968\tvalid_0's l2: 0.154948\n",
            "[9]\ttraining's l1: 0.282467\ttraining's l2: 0.142195\tvalid_0's l1: 0.271037\tvalid_0's l2: 0.154681\n",
            "[10]\ttraining's l1: 0.282672\ttraining's l2: 0.14188\tvalid_0's l1: 0.270656\tvalid_0's l2: 0.154579\n",
            "[11]\ttraining's l1: 0.281363\ttraining's l2: 0.140835\tvalid_0's l1: 0.269888\tvalid_0's l2: 0.154148\n",
            "[12]\ttraining's l1: 0.280627\ttraining's l2: 0.140547\tvalid_0's l1: 0.269044\tvalid_0's l2: 0.153924\n",
            "[13]\ttraining's l1: 0.280817\ttraining's l2: 0.140274\tvalid_0's l1: 0.26869\tvalid_0's l2: 0.153835\n",
            "[14]\ttraining's l1: 0.280122\ttraining's l2: 0.140018\tvalid_0's l1: 0.267893\tvalid_0's l2: 0.15364\n",
            "[15]\ttraining's l1: 0.280302\ttraining's l2: 0.139775\tvalid_0's l1: 0.267558\tvalid_0's l2: 0.15357\n",
            "[16]\ttraining's l1: 0.279164\ttraining's l2: 0.138983\tvalid_0's l1: 0.266891\tvalid_0's l2: 0.153303\n",
            "[17]\ttraining's l1: 0.278402\ttraining's l2: 0.138734\tvalid_0's l1: 0.26642\tvalid_0's l2: 0.153363\n",
            "[18]\ttraining's l1: 0.27857\ttraining's l2: 0.138522\tvalid_0's l1: 0.266107\tvalid_0's l2: 0.153312\n",
            "[19]\ttraining's l1: 0.277864\ttraining's l2: 0.1383\tvalid_0's l1: 0.265693\tvalid_0's l2: 0.153387\n",
            "[20]\ttraining's l1: 0.278009\ttraining's l2: 0.138108\tvalid_0's l1: 0.265365\tvalid_0's l2: 0.153358\n",
            "[21]\ttraining's l1: 0.277365\ttraining's l2: 0.13791\tvalid_0's l1: 0.265018\tvalid_0's l2: 0.153447\n",
            "[22]\ttraining's l1: 0.276755\ttraining's l2: 0.137211\tvalid_0's l1: 0.265018\tvalid_0's l2: 0.153223\n",
            "[23]\ttraining's l1: 0.276172\ttraining's l2: 0.137028\tvalid_0's l1: 0.264976\tvalid_0's l2: 0.153304\n",
            "[24]\ttraining's l1: 0.276255\ttraining's l2: 0.136846\tvalid_0's l1: 0.264361\tvalid_0's l2: 0.153286\n",
            "[25]\ttraining's l1: 0.275716\ttraining's l2: 0.136681\tvalid_0's l1: 0.264322\tvalid_0's l2: 0.153378\n",
            "[26]\ttraining's l1: 0.275526\ttraining's l2: 0.13608\tvalid_0's l1: 0.264322\tvalid_0's l2: 0.15322\n",
            "[27]\ttraining's l1: 0.274924\ttraining's l2: 0.135925\tvalid_0's l1: 0.264283\tvalid_0's l2: 0.153304\n",
            "[28]\ttraining's l1: 0.275074\ttraining's l2: 0.135755\tvalid_0's l1: 0.26369\tvalid_0's l2: 0.153297\n",
            "[29]\ttraining's l1: 0.274502\ttraining's l2: 0.135615\tvalid_0's l1: 0.263653\tvalid_0's l2: 0.153389\n",
            "[30]\ttraining's l1: 0.274426\ttraining's l2: 0.135097\tvalid_0's l1: 0.263653\tvalid_0's l2: 0.153284\n",
            "[31]\ttraining's l1: 0.274563\ttraining's l2: 0.134956\tvalid_0's l1: 0.263111\tvalid_0's l2: 0.153289\n",
            "[32]\ttraining's l1: 0.273978\ttraining's l2: 0.134809\tvalid_0's l1: 0.263074\tvalid_0's l2: 0.153377\n",
            "[33]\ttraining's l1: 0.273909\ttraining's l2: 0.134379\tvalid_0's l1: 0.263074\tvalid_0's l2: 0.153328\n",
            "[34]\ttraining's l1: 0.273343\ttraining's l2: 0.134242\tvalid_0's l1: 0.263037\tvalid_0's l2: 0.153411\n",
            "[35]\ttraining's l1: 0.273476\ttraining's l2: 0.134109\tvalid_0's l1: 0.262513\tvalid_0's l2: 0.153425\n",
            "[36]\ttraining's l1: 0.27294\ttraining's l2: 0.133986\tvalid_0's l1: 0.262479\tvalid_0's l2: 0.153514\n",
            "[37]\ttraining's l1: 0.272899\ttraining's l2: 0.133611\tvalid_0's l1: 0.262479\tvalid_0's l2: 0.153494\n",
            "[38]\ttraining's l1: 0.272377\ttraining's l2: 0.133495\tvalid_0's l1: 0.262445\tvalid_0's l2: 0.153578\n",
            "[39]\ttraining's l1: 0.272361\ttraining's l2: 0.133174\tvalid_0's l1: 0.262445\tvalid_0's l2: 0.153595\n",
            "[40]\ttraining's l1: 0.272439\ttraining's l2: 0.133055\tvalid_0's l1: 0.262562\tvalid_0's l2: 0.153759\n",
            "[41]\ttraining's l1: 0.271908\ttraining's l2: 0.132934\tvalid_0's l1: 0.262529\tvalid_0's l2: 0.153838\n",
            "[42]\ttraining's l1: 0.271891\ttraining's l2: 0.132656\tvalid_0's l1: 0.262529\tvalid_0's l2: 0.153879\n",
            "[43]\ttraining's l1: 0.271377\ttraining's l2: 0.132543\tvalid_0's l1: 0.262496\tvalid_0's l2: 0.153954\n",
            "[44]\ttraining's l1: 0.271454\ttraining's l2: 0.132424\tvalid_0's l1: 0.262613\tvalid_0's l2: 0.154117\n",
            "[45]\ttraining's l1: 0.270969\ttraining's l2: 0.132323\tvalid_0's l1: 0.262582\tvalid_0's l2: 0.154194\n",
            "[46]\ttraining's l1: 0.270969\ttraining's l2: 0.132066\tvalid_0's l1: 0.263192\tvalid_0's l2: 0.154244\n",
            "[47]\ttraining's l1: 0.271043\ttraining's l2: 0.131959\tvalid_0's l1: 0.262997\tvalid_0's l2: 0.154404\n",
            "[48]\ttraining's l1: 0.270547\ttraining's l2: 0.131854\tvalid_0's l1: 0.263324\tvalid_0's l2: 0.154476\n",
            "[49]\ttraining's l1: 0.270617\ttraining's l2: 0.131759\tvalid_0's l1: 0.26314\tvalid_0's l2: 0.154633\n",
            "[50]\ttraining's l1: 0.27015\ttraining's l2: 0.131666\tvalid_0's l1: 0.263448\tvalid_0's l2: 0.154706\n",
            "[51]\ttraining's l1: 0.270144\ttraining's l2: 0.131428\tvalid_0's l1: 0.264105\tvalid_0's l2: 0.154763\n",
            "[52]\ttraining's l1: 0.26969\ttraining's l2: 0.131339\tvalid_0's l1: 0.264405\tvalid_0's l2: 0.154833\n",
            "[53]\ttraining's l1: 0.269703\ttraining's l2: 0.131134\tvalid_0's l1: 0.26501\tvalid_0's l2: 0.154906\n",
            "[54]\ttraining's l1: 0.269772\ttraining's l2: 0.131039\tvalid_0's l1: 0.264826\tvalid_0's l2: 0.15506\n",
            "[55]\ttraining's l1: 0.269309\ttraining's l2: 0.130947\tvalid_0's l1: 0.265132\tvalid_0's l2: 0.155126\n",
            "[56]\ttraining's l1: 0.269374\ttraining's l2: 0.130862\tvalid_0's l1: 0.264959\tvalid_0's l2: 0.155277\n",
            "[57]\ttraining's l1: 0.268937\ttraining's l2: 0.130781\tvalid_0's l1: 0.265247\tvalid_0's l2: 0.155345\n",
            "[58]\ttraining's l1: 0.268943\ttraining's l2: 0.130588\tvalid_0's l1: 0.265834\tvalid_0's l2: 0.155421\n",
            "[59]\ttraining's l1: 0.268518\ttraining's l2: 0.130511\tvalid_0's l1: 0.266114\tvalid_0's l2: 0.155486\n",
            "[60]\ttraining's l1: 0.268583\ttraining's l2: 0.130428\tvalid_0's l1: 0.265942\tvalid_0's l2: 0.155635\n",
            "[61]\ttraining's l1: 0.268586\ttraining's l2: 0.130261\tvalid_0's l1: 0.266491\tvalid_0's l2: 0.155722\n",
            "[62]\ttraining's l1: 0.268154\ttraining's l2: 0.130181\tvalid_0's l1: 0.266776\tvalid_0's l2: 0.155783\n",
            "[63]\ttraining's l1: 0.268216\ttraining's l2: 0.130107\tvalid_0's l1: 0.266612\tvalid_0's l2: 0.155928\n",
            "[64]\ttraining's l1: 0.267809\ttraining's l2: 0.130036\tvalid_0's l1: 0.266881\tvalid_0's l2: 0.15599\n",
            "[65]\ttraining's l1: 0.267825\ttraining's l2: 0.12988\tvalid_0's l1: 0.267406\tvalid_0's l2: 0.156078\n",
            "[66]\ttraining's l1: 0.267429\ttraining's l2: 0.129813\tvalid_0's l1: 0.267668\tvalid_0's l2: 0.156138\n",
            "[67]\ttraining's l1: 0.267554\ttraining's l2: 0.129737\tvalid_0's l1: 0.267205\tvalid_0's l2: 0.156149\n",
            "[68]\ttraining's l1: 0.267165\ttraining's l2: 0.129672\tvalid_0's l1: 0.267461\tvalid_0's l2: 0.156209\n",
            "[69]\ttraining's l1: 0.267192\ttraining's l2: 0.12953\tvalid_0's l1: 0.267958\tvalid_0's l2: 0.156303\n",
            "[70]\ttraining's l1: 0.267105\ttraining's l2: 0.129459\tvalid_0's l1: 0.267936\tvalid_0's l2: 0.156759\n",
            "[71]\ttraining's l1: 0.266709\ttraining's l2: 0.129392\tvalid_0's l1: 0.268197\tvalid_0's l2: 0.156816\n",
            "[72]\ttraining's l1: 0.266829\ttraining's l2: 0.129323\tvalid_0's l1: 0.267756\tvalid_0's l2: 0.156832\n",
            "[73]\ttraining's l1: 0.266496\ttraining's l2: 0.129259\tvalid_0's l1: 0.26801\tvalid_0's l2: 0.156889\n",
            "[74]\ttraining's l1: 0.26667\ttraining's l2: 0.129194\tvalid_0's l1: 0.267581\tvalid_0's l2: 0.156908\n",
            "[75]\ttraining's l1: 0.266345\ttraining's l2: 0.129133\tvalid_0's l1: 0.26783\tvalid_0's l2: 0.156964\n",
            "[76]\ttraining's l1: 0.266235\ttraining's l2: 0.128994\tvalid_0's l1: 0.268327\tvalid_0's l2: 0.157064\n",
            "[77]\ttraining's l1: 0.266205\ttraining's l2: 0.128934\tvalid_0's l1: 0.268307\tvalid_0's l2: 0.157487\n",
            "[78]\ttraining's l1: 0.265875\ttraining's l2: 0.128871\tvalid_0's l1: 0.26856\tvalid_0's l2: 0.157542\n",
            "[79]\ttraining's l1: 0.266042\ttraining's l2: 0.128811\tvalid_0's l1: 0.268147\tvalid_0's l2: 0.157564\n",
            "[80]\ttraining's l1: 0.265721\ttraining's l2: 0.128751\tvalid_0's l1: 0.268392\tvalid_0's l2: 0.157618\n",
            "[81]\ttraining's l1: 0.265608\ttraining's l2: 0.12862\tvalid_0's l1: 0.268876\tvalid_0's l2: 0.157723\n",
            "[82]\ttraining's l1: 0.265342\ttraining's l2: 0.128564\tvalid_0's l1: 0.269115\tvalid_0's l2: 0.157775\n",
            "[83]\ttraining's l1: 0.265467\ttraining's l2: 0.128501\tvalid_0's l1: 0.268691\tvalid_0's l2: 0.157799\n",
            "[84]\ttraining's l1: 0.265191\ttraining's l2: 0.128447\tvalid_0's l1: 0.268925\tvalid_0's l2: 0.157851\n",
            "[85]\ttraining's l1: 0.265327\ttraining's l2: 0.128387\tvalid_0's l1: 0.268514\tvalid_0's l2: 0.157876\n",
            "[86]\ttraining's l1: 0.265043\ttraining's l2: 0.128336\tvalid_0's l1: 0.268743\tvalid_0's l2: 0.157928\n",
            "[87]\ttraining's l1: 0.264974\ttraining's l2: 0.128212\tvalid_0's l1: 0.269212\tvalid_0's l2: 0.158038\n",
            "[88]\ttraining's l1: 0.264896\ttraining's l2: 0.128156\tvalid_0's l1: 0.269193\tvalid_0's l2: 0.158445\n",
            "[89]\ttraining's l1: 0.264622\ttraining's l2: 0.128103\tvalid_0's l1: 0.269426\tvalid_0's l2: 0.158495\n",
            "[90]\ttraining's l1: 0.26475\ttraining's l2: 0.128048\tvalid_0's l1: 0.269033\tvalid_0's l2: 0.158524\n",
            "[91]\ttraining's l1: 0.264518\ttraining's l2: 0.127997\tvalid_0's l1: 0.26926\tvalid_0's l2: 0.158573\n",
            "[92]\ttraining's l1: 0.264399\ttraining's l2: 0.127881\tvalid_0's l1: 0.269716\tvalid_0's l2: 0.158687\n",
            "[93]\ttraining's l1: 0.264319\ttraining's l2: 0.127831\tvalid_0's l1: 0.269698\tvalid_0's l2: 0.159075\n",
            "[94]\ttraining's l1: 0.264083\ttraining's l2: 0.127779\tvalid_0's l1: 0.269928\tvalid_0's l2: 0.159123\n",
            "[95]\ttraining's l1: 0.26425\ttraining's l2: 0.127728\tvalid_0's l1: 0.269549\tvalid_0's l2: 0.159154\n",
            "[96]\ttraining's l1: 0.26403\ttraining's l2: 0.127679\tvalid_0's l1: 0.269773\tvalid_0's l2: 0.159201\n",
            "[97]\ttraining's l1: 0.264202\ttraining's l2: 0.127631\tvalid_0's l1: 0.269404\tvalid_0's l2: 0.159234\n",
            "[98]\ttraining's l1: 0.263978\ttraining's l2: 0.127584\tvalid_0's l1: 0.269623\tvalid_0's l2: 0.159281\n",
            "[99]\ttraining's l1: 0.263789\ttraining's l2: 0.12747\tvalid_0's l1: 0.270076\tvalid_0's l2: 0.159399\n",
            "[100]\ttraining's l1: 0.2636\ttraining's l2: 0.127425\tvalid_0's l1: 0.270289\tvalid_0's l2: 0.159444\n",
            "[1]\ttraining's l1: 0.519111\ttraining's l2: 0.43329\tvalid_0's l1: 0.445789\tvalid_0's l2: 0.367093\n",
            "[2]\ttraining's l1: 0.485052\ttraining's l2: 0.383656\tvalid_0's l1: 0.416798\tvalid_0's l2: 0.323376\n",
            "[3]\ttraining's l1: 0.463159\ttraining's l2: 0.343453\tvalid_0's l1: 0.401547\tvalid_0's l2: 0.28901\n",
            "[4]\ttraining's l1: 0.43622\ttraining's l2: 0.309567\tvalid_0's l1: 0.384013\tvalid_0's l2: 0.262275\n",
            "[5]\ttraining's l1: 0.41053\ttraining's l2: 0.274131\tvalid_0's l1: 0.371508\tvalid_0's l2: 0.241835\n",
            "[6]\ttraining's l1: 0.389484\ttraining's l2: 0.245428\tvalid_0's l1: 0.360253\tvalid_0's l2: 0.225376\n",
            "[7]\ttraining's l1: 0.372982\ttraining's l2: 0.22528\tvalid_0's l1: 0.340831\tvalid_0's l2: 0.208417\n",
            "[8]\ttraining's l1: 0.356249\ttraining's l2: 0.204957\tvalid_0's l1: 0.331899\tvalid_0's l2: 0.19722\n",
            "[9]\ttraining's l1: 0.345351\ttraining's l2: 0.190269\tvalid_0's l1: 0.32177\tvalid_0's l2: 0.18488\n",
            "[10]\ttraining's l1: 0.333466\ttraining's l2: 0.176017\tvalid_0's l1: 0.314517\tvalid_0's l2: 0.177222\n",
            "[11]\ttraining's l1: 0.325353\ttraining's l2: 0.165701\tvalid_0's l1: 0.302878\tvalid_0's l2: 0.168193\n",
            "[12]\ttraining's l1: 0.318584\ttraining's l2: 0.155602\tvalid_0's l1: 0.30027\tvalid_0's l2: 0.16312\n",
            "[13]\ttraining's l1: 0.313094\ttraining's l2: 0.148188\tvalid_0's l1: 0.295411\tvalid_0's l2: 0.156929\n",
            "[14]\ttraining's l1: 0.307487\ttraining's l2: 0.141962\tvalid_0's l1: 0.287041\tvalid_0's l2: 0.151342\n",
            "[15]\ttraining's l1: 0.302166\ttraining's l2: 0.135748\tvalid_0's l1: 0.28522\tvalid_0's l2: 0.148577\n",
            "[16]\ttraining's l1: 0.298455\ttraining's l2: 0.130716\tvalid_0's l1: 0.283582\tvalid_0's l2: 0.146444\n",
            "[17]\ttraining's l1: 0.29537\ttraining's l2: 0.126971\tvalid_0's l1: 0.277349\tvalid_0's l2: 0.142869\n",
            "[18]\ttraining's l1: 0.292243\ttraining's l2: 0.123382\tvalid_0's l1: 0.276176\tvalid_0's l2: 0.141603\n",
            "[19]\ttraining's l1: 0.289346\ttraining's l2: 0.120609\tvalid_0's l1: 0.273001\tvalid_0's l2: 0.139265\n",
            "[20]\ttraining's l1: 0.287023\ttraining's l2: 0.118107\tvalid_0's l1: 0.272415\tvalid_0's l2: 0.138533\n",
            "[21]\ttraining's l1: 0.284483\ttraining's l2: 0.116114\tvalid_0's l1: 0.267483\tvalid_0's l2: 0.136466\n",
            "[22]\ttraining's l1: 0.282247\ttraining's l2: 0.114328\tvalid_0's l1: 0.266828\tvalid_0's l2: 0.136148\n",
            "[23]\ttraining's l1: 0.28035\ttraining's l2: 0.112912\tvalid_0's l1: 0.262996\tvalid_0's l2: 0.134602\n",
            "[24]\ttraining's l1: 0.278746\ttraining's l2: 0.111627\tvalid_0's l1: 0.262593\tvalid_0's l2: 0.134561\n",
            "[25]\ttraining's l1: 0.277452\ttraining's l2: 0.110573\tvalid_0's l1: 0.260827\tvalid_0's l2: 0.133652\n",
            "[26]\ttraining's l1: 0.276939\ttraining's l2: 0.109693\tvalid_0's l1: 0.25877\tvalid_0's l2: 0.132616\n",
            "[27]\ttraining's l1: 0.276025\ttraining's l2: 0.108894\tvalid_0's l1: 0.259132\tvalid_0's l2: 0.1328\n",
            "[28]\ttraining's l1: 0.275413\ttraining's l2: 0.108247\tvalid_0's l1: 0.25974\tvalid_0's l2: 0.13302\n",
            "[29]\ttraining's l1: 0.274834\ttraining's l2: 0.107677\tvalid_0's l1: 0.257861\tvalid_0's l2: 0.132273\n",
            "[30]\ttraining's l1: 0.274255\ttraining's l2: 0.107203\tvalid_0's l1: 0.257205\tvalid_0's l2: 0.131859\n",
            "[31]\ttraining's l1: 0.273935\ttraining's l2: 0.106797\tvalid_0's l1: 0.258114\tvalid_0's l2: 0.13217\n",
            "[32]\ttraining's l1: 0.273257\ttraining's l2: 0.106432\tvalid_0's l1: 0.256326\tvalid_0's l2: 0.131643\n",
            "[33]\ttraining's l1: 0.27302\ttraining's l2: 0.106134\tvalid_0's l1: 0.257294\tvalid_0's l2: 0.131989\n",
            "[34]\ttraining's l1: 0.272435\ttraining's l2: 0.105862\tvalid_0's l1: 0.255752\tvalid_0's l2: 0.131564\n",
            "[35]\ttraining's l1: 0.272153\ttraining's l2: 0.105643\tvalid_0's l1: 0.254689\tvalid_0's l2: 0.131205\n",
            "[36]\ttraining's l1: 0.271777\ttraining's l2: 0.105435\tvalid_0's l1: 0.25548\tvalid_0's l2: 0.131589\n",
            "[37]\ttraining's l1: 0.271499\ttraining's l2: 0.105268\tvalid_0's l1: 0.254512\tvalid_0's l2: 0.131292\n",
            "[38]\ttraining's l1: 0.271235\ttraining's l2: 0.105109\tvalid_0's l1: 0.255378\tvalid_0's l2: 0.131674\n",
            "[39]\ttraining's l1: 0.270936\ttraining's l2: 0.104982\tvalid_0's l1: 0.254456\tvalid_0's l2: 0.131425\n",
            "[40]\ttraining's l1: 0.270686\ttraining's l2: 0.104875\tvalid_0's l1: 0.254178\tvalid_0's l2: 0.131321\n",
            "[41]\ttraining's l1: 0.270658\ttraining's l2: 0.104764\tvalid_0's l1: 0.255262\tvalid_0's l2: 0.131688\n",
            "[42]\ttraining's l1: 0.270327\ttraining's l2: 0.104677\tvalid_0's l1: 0.254389\tvalid_0's l2: 0.131496\n",
            "[43]\ttraining's l1: 0.270029\ttraining's l2: 0.104607\tvalid_0's l1: 0.253604\tvalid_0's l2: 0.13133\n",
            "[44]\ttraining's l1: 0.27005\ttraining's l2: 0.10452\tvalid_0's l1: 0.254718\tvalid_0's l2: 0.13169\n",
            "[45]\ttraining's l1: 0.269783\ttraining's l2: 0.104463\tvalid_0's l1: 0.254013\tvalid_0's l2: 0.131545\n",
            "[46]\ttraining's l1: 0.269554\ttraining's l2: 0.104417\tvalid_0's l1: 0.253394\tvalid_0's l2: 0.131419\n",
            "[47]\ttraining's l1: 0.269599\ttraining's l2: 0.104346\tvalid_0's l1: 0.254494\tvalid_0's l2: 0.131765\n",
            "[48]\ttraining's l1: 0.26938\ttraining's l2: 0.104308\tvalid_0's l1: 0.253916\tvalid_0's l2: 0.131652\n",
            "[49]\ttraining's l1: 0.269183\ttraining's l2: 0.104278\tvalid_0's l1: 0.253396\tvalid_0's l2: 0.131553\n",
            "[50]\ttraining's l1: 0.269264\ttraining's l2: 0.104218\tvalid_0's l1: 0.254491\tvalid_0's l2: 0.131883\n",
            "[51]\ttraining's l1: 0.269082\ttraining's l2: 0.104191\tvalid_0's l1: 0.25401\tvalid_0's l2: 0.131792\n",
            "[52]\ttraining's l1: 0.269286\ttraining's l2: 0.104167\tvalid_0's l1: 0.254577\tvalid_0's l2: 0.131892\n",
            "[53]\ttraining's l1: 0.269107\ttraining's l2: 0.104142\tvalid_0's l1: 0.254106\tvalid_0's l2: 0.131804\n",
            "[54]\ttraining's l1: 0.269308\ttraining's l2: 0.104119\tvalid_0's l1: 0.254664\tvalid_0's l2: 0.131902\n",
            "[55]\ttraining's l1: 0.269133\ttraining's l2: 0.104094\tvalid_0's l1: 0.254203\tvalid_0's l2: 0.131816\n",
            "[56]\ttraining's l1: 0.269331\ttraining's l2: 0.104072\tvalid_0's l1: 0.254753\tvalid_0's l2: 0.131912\n",
            "[57]\ttraining's l1: 0.269159\ttraining's l2: 0.104048\tvalid_0's l1: 0.254301\tvalid_0's l2: 0.131829\n",
            "[58]\ttraining's l1: 0.269354\ttraining's l2: 0.104027\tvalid_0's l1: 0.254843\tvalid_0's l2: 0.131924\n",
            "[59]\ttraining's l1: 0.269186\ttraining's l2: 0.104004\tvalid_0's l1: 0.254399\tvalid_0's l2: 0.131842\n",
            "[60]\ttraining's l1: 0.269378\ttraining's l2: 0.103983\tvalid_0's l1: 0.254932\tvalid_0's l2: 0.131936\n",
            "[61]\ttraining's l1: 0.269447\ttraining's l2: 0.103934\tvalid_0's l1: 0.255914\tvalid_0's l2: 0.132244\n",
            "[62]\ttraining's l1: 0.269278\ttraining's l2: 0.103911\tvalid_0's l1: 0.255468\tvalid_0's l2: 0.132161\n",
            "[63]\ttraining's l1: 0.269391\ttraining's l2: 0.103889\tvalid_0's l1: 0.255714\tvalid_0's l2: 0.132218\n",
            "[64]\ttraining's l1: 0.269227\ttraining's l2: 0.103868\tvalid_0's l1: 0.25528\tvalid_0's l2: 0.132138\n",
            "[65]\ttraining's l1: 0.269338\ttraining's l2: 0.103848\tvalid_0's l1: 0.25552\tvalid_0's l2: 0.132194\n",
            "[66]\ttraining's l1: 0.269178\ttraining's l2: 0.103827\tvalid_0's l1: 0.255097\tvalid_0's l2: 0.132116\n",
            "[67]\ttraining's l1: 0.269366\ttraining's l2: 0.103807\tvalid_0's l1: 0.255621\tvalid_0's l2: 0.13221\n",
            "[68]\ttraining's l1: 0.269432\ttraining's l2: 0.103763\tvalid_0's l1: 0.256553\tvalid_0's l2: 0.132507\n",
            "[69]\ttraining's l1: 0.26927\ttraining's l2: 0.103742\tvalid_0's l1: 0.256127\tvalid_0's l2: 0.132427\n",
            "[70]\ttraining's l1: 0.269382\ttraining's l2: 0.103721\tvalid_0's l1: 0.256368\tvalid_0's l2: 0.132485\n",
            "[71]\ttraining's l1: 0.269224\ttraining's l2: 0.103702\tvalid_0's l1: 0.255953\tvalid_0's l2: 0.132408\n",
            "[72]\ttraining's l1: 0.269333\ttraining's l2: 0.103682\tvalid_0's l1: 0.256187\tvalid_0's l2: 0.132465\n",
            "[73]\ttraining's l1: 0.26927\ttraining's l2: 0.103663\tvalid_0's l1: 0.256127\tvalid_0's l2: 0.132439\n",
            "[74]\ttraining's l1: 0.269376\ttraining's l2: 0.103644\tvalid_0's l1: 0.256357\tvalid_0's l2: 0.132496\n",
            "[75]\ttraining's l1: 0.269222\ttraining's l2: 0.103625\tvalid_0's l1: 0.25595\tvalid_0's l2: 0.132419\n",
            "[76]\ttraining's l1: 0.269403\ttraining's l2: 0.103606\tvalid_0's l1: 0.256455\tvalid_0's l2: 0.132512\n",
            "[77]\ttraining's l1: 0.269251\ttraining's l2: 0.103588\tvalid_0's l1: 0.256054\tvalid_0's l2: 0.132437\n",
            "[78]\ttraining's l1: 0.26943\ttraining's l2: 0.10357\tvalid_0's l1: 0.25655\tvalid_0's l2: 0.132528\n",
            "[79]\ttraining's l1: 0.269489\ttraining's l2: 0.10353\tvalid_0's l1: 0.25742\tvalid_0's l2: 0.132813\n",
            "[80]\ttraining's l1: 0.269336\ttraining's l2: 0.103512\tvalid_0's l1: 0.257017\tvalid_0's l2: 0.132737\n",
            "[81]\ttraining's l1: 0.269443\ttraining's l2: 0.103493\tvalid_0's l1: 0.257248\tvalid_0's l2: 0.132794\n",
            "[82]\ttraining's l1: 0.269294\ttraining's l2: 0.103475\tvalid_0's l1: 0.256855\tvalid_0's l2: 0.132721\n",
            "[83]\ttraining's l1: 0.269398\ttraining's l2: 0.103457\tvalid_0's l1: 0.25708\tvalid_0's l2: 0.132777\n",
            "[84]\ttraining's l1: 0.269338\ttraining's l2: 0.10344\tvalid_0's l1: 0.257023\tvalid_0's l2: 0.132753\n",
            "[85]\ttraining's l1: 0.26944\ttraining's l2: 0.103423\tvalid_0's l1: 0.257243\tvalid_0's l2: 0.132808\n",
            "[86]\ttraining's l1: 0.269293\ttraining's l2: 0.103406\tvalid_0's l1: 0.256856\tvalid_0's l2: 0.132736\n",
            "[87]\ttraining's l1: 0.269465\ttraining's l2: 0.103388\tvalid_0's l1: 0.257334\tvalid_0's l2: 0.132825\n",
            "[88]\ttraining's l1: 0.269321\ttraining's l2: 0.103372\tvalid_0's l1: 0.256953\tvalid_0's l2: 0.132754\n",
            "[89]\ttraining's l1: 0.26949\ttraining's l2: 0.103356\tvalid_0's l1: 0.257423\tvalid_0's l2: 0.132841\n",
            "[90]\ttraining's l1: 0.269543\ttraining's l2: 0.103321\tvalid_0's l1: 0.258237\tvalid_0's l2: 0.133114\n",
            "[91]\ttraining's l1: 0.269398\ttraining's l2: 0.103304\tvalid_0's l1: 0.257855\tvalid_0's l2: 0.133042\n",
            "[92]\ttraining's l1: 0.269501\ttraining's l2: 0.103287\tvalid_0's l1: 0.258077\tvalid_0's l2: 0.133099\n",
            "[93]\ttraining's l1: 0.269359\ttraining's l2: 0.103271\tvalid_0's l1: 0.257703\tvalid_0's l2: 0.133028\n",
            "[94]\ttraining's l1: 0.269458\ttraining's l2: 0.103254\tvalid_0's l1: 0.257919\tvalid_0's l2: 0.133084\n",
            "[95]\ttraining's l1: 0.269402\ttraining's l2: 0.103239\tvalid_0's l1: 0.257865\tvalid_0's l2: 0.133061\n",
            "[96]\ttraining's l1: 0.269499\ttraining's l2: 0.103223\tvalid_0's l1: 0.258076\tvalid_0's l2: 0.133116\n",
            "[97]\ttraining's l1: 0.26936\ttraining's l2: 0.103207\tvalid_0's l1: 0.257708\tvalid_0's l2: 0.133046\n",
            "[98]\ttraining's l1: 0.269523\ttraining's l2: 0.103192\tvalid_0's l1: 0.258161\tvalid_0's l2: 0.133132\n",
            "[99]\ttraining's l1: 0.269572\ttraining's l2: 0.103161\tvalid_0's l1: 0.258925\tvalid_0's l2: 0.133393\n",
            "[100]\ttraining's l1: 0.269432\ttraining's l2: 0.103146\tvalid_0's l1: 0.258556\tvalid_0's l2: 0.133323\n"
          ]
        },
        {
          "output_type": "execute_result",
          "data": {
            "text/plain": [
              "LGBMRegressor(boosting_type='gbdt', class_weight=None, colsample_bytree=1.0,\n",
              "              importance_type='split', learning_rate=0.1, max_depth=-1,\n",
              "              min_child_samples=20, min_child_weight=0.001, min_split_gain=0.0,\n",
              "              n_estimators=100, n_jobs=-1, num_leaves=31, objective=None,\n",
              "              random_state=None, reg_alpha=0.0, reg_lambda=0.0, silent=True,\n",
              "              subsample=1.0, subsample_for_bin=200000, subsample_freq=0)"
            ]
          },
          "metadata": {},
          "execution_count": 72
        }
      ]
    },
    {
      "cell_type": "code",
      "metadata": {
        "id": "SFZGQN2KYgnn"
      },
      "source": [
        "test.drop(['id'],inplace=True,axis=1)\n",
        "sepal = lgbm_sepal.predict(test)\n",
        "petal = lgbm_petal.predict(test)"
      ],
      "execution_count": null,
      "outputs": []
    },
    {
      "cell_type": "code",
      "metadata": {
        "id": "OII2OgjpXIVZ"
      },
      "source": [
        "sample['sepal width (cm)'] = sepal\n",
        "sample['petal width (cm)'] = petal"
      ],
      "execution_count": null,
      "outputs": []
    },
    {
      "cell_type": "code",
      "metadata": {
        "id": "tqNKQpx6ZUlz"
      },
      "source": [
        "sample.to_csv('/content/drive/MyDrive/sam.csv',index=None)"
      ],
      "execution_count": null,
      "outputs": []
    },
    {
      "cell_type": "code",
      "metadata": {
        "colab": {
          "base_uri": "https://localhost:8080/",
          "height": 649
        },
        "id": "wTjzOCs52dy8",
        "outputId": "41c8c6bc-48ed-4e4b-d344-9d6272fb5edc"
      },
      "source": [
        "import lightgbm as lgb\n",
        "lgb.plot_metric(lgbm_petal)\n",
        "lgb.plot_importance(lgbm_sepal)"
      ],
      "execution_count": null,
      "outputs": [
        {
          "output_type": "stream",
          "name": "stderr",
          "text": [
            "/usr/local/lib/python3.7/dist-packages/ipykernel_launcher.py:2: UserWarning: more than one metric available, picking one to plot.\n",
            "  \n"
          ]
        },
        {
          "output_type": "execute_result",
          "data": {
            "text/plain": [
              "<matplotlib.axes._subplots.AxesSubplot at 0x7ff4df88d310>"
            ]
          },
          "metadata": {},
          "execution_count": 75
        },
        {
          "output_type": "display_data",
          "data": {
            "image/png": "[encoded data removed]",
            "text/plain": [
              "<Figure size 432x288 with 1 Axes>"
            ]
          },
          "metadata": {
            "needs_background": "light"
          }
        },
        {
          "output_type": "display_data",
          "data": {
            "image/png": "[encoded data removed]",
            "text/plain": [
              "<Figure size 432x288 with 1 Axes>"
            ]
          },
          "metadata": {
            "needs_background": "light"
          }
        }
      ]
    },
    {
      "cell_type": "code",
      "metadata": {
        "colab": {
          "base_uri": "https://localhost:8080/",
          "height": 371
        },
        "id": "hb6L2S4YZgxD",
        "outputId": "23964c27-987d-4c97-9cb0-5837b237da3a"
      },
      "source": [
        "import lightgbm as lgb\n",
        "lgb.plot_metric(lgbm_sepal)"
      ],
      "execution_count": null,
      "outputs": [
        {
          "output_type": "stream",
          "name": "stderr",
          "text": [
            "/usr/local/lib/python3.7/dist-packages/ipykernel_launcher.py:2: UserWarning: more than one metric available, picking one to plot.\n",
            "  \n"
          ]
        },
        {
          "output_type": "execute_result",
          "data": {
            "text/plain": [
              "<matplotlib.axes._subplots.AxesSubplot at 0x7fd2befd2b10>"
            ]
          },
          "metadata": {},
          "execution_count": 91
        },
        {
          "output_type": "display_data",
          "data": {
            "image/png": "[encoded data removed]",
            "text/plain": [
              "<Figure size 432x288 with 1 Axes>"
            ]
          },
          "metadata": {
            "needs_background": "light"
          }
        }
      ]
    },
    {
      "cell_type": "code",
      "metadata": {
        "id": "IYCZ5cAPbgub"
      },
      "source": [
        ""
      ],
      "execution_count": null,
      "outputs": []
    }
  ]
}