{
  "nbformat": 4,
  "nbformat_minor": 0,
  "metadata": {
    "colab": {
      "name": "regression.ipynb",
      "provenance": [],
      "collapsed_sections": [],
      "authorship_tag": "ABX9TyPcK0sMkXhbMQ5YD2BGWx6u",
      "include_colab_link": true
    },
    "kernelspec": {
      "name": "python3",
      "display_name": "Python 3"
    }
  },
  "cells": [
    {
      "cell_type": "markdown",
      "metadata": {
        "id": "view-in-github",
        "colab_type": "text"
      },
      "source": [
        "<a href=\"https://colab.research.google.com/github/Hyun-s/MLstudy/blob/master/regression.ipynb\" target=\"_parent\"><img src=\"https://colab.research.google.com/assets/colab-badge.svg\" alt=\"Open In Colab\"/></a>"
      ]
    },
    {
      "cell_type": "code",
      "metadata": {
        "id": "94vbQRc2RS-j",
        "colab_type": "code",
        "colab": {
          "base_uri": "https://localhost:8080/",
          "height": 35
        },
        "outputId": "f4854ec1-735e-4d64-979a-bfe9782c13a2"
      },
      "source": [
        "import pathlib\n",
        "\n",
        "import matplotlib.pyplot as plt\n",
        "import pandas as pd\n",
        "import seaborn as sns\n",
        "\n",
        "import tensorflow as tf\n",
        "from tensorflow import keras\n",
        "from tensorflow.keras import layers\n",
        "\n",
        "print(tf.__version__)"
      ],
      "execution_count": null,
      "outputs": [
        {
          "output_type": "stream",
          "text": [
            "2.2.0\n"
          ],
          "name": "stdout"
        }
      ]
    },
    {
      "cell_type": "markdown",
      "metadata": {
        "id": "3j5I92sgpxNg",
        "colab_type": "text"
      },
      "source": [
        "## Data preprocessing"
      ]
    },
    {
      "cell_type": "code",
      "metadata": {
        "id": "PPAbaJlhRVxK",
        "colab_type": "code",
        "colab": {
          "base_uri": "https://localhost:8080/",
          "height": 35
        },
        "outputId": "b7b103a2-49a9-426c-8b08-1e53ec83a732"
      },
      "source": [
        "dataset_path = keras.utils.get_file(\"auto-mpg.data\", \"http://archive.ics.uci.edu/ml/machine-learning-databases/auto-mpg/auto-mpg.data\")\n",
        "dataset_path"
      ],
      "execution_count": null,
      "outputs": [
        {
          "output_type": "execute_result",
          "data": {
            "application/vnd.google.colaboratory.intrinsic": {
              "type": "string"
            },
            "text/plain": [
              "'/root/.keras/datasets/auto-mpg.data'"
            ]
          },
          "metadata": {
            "tags": []
          },
          "execution_count": 33
        }
      ]
    },
    {
      "cell_type": "code",
      "metadata": {
        "id": "qUIoCDJwRbOZ",
        "colab_type": "code",
        "colab": {
          "base_uri": "https://localhost:8080/",
          "height": 204
        },
        "outputId": "1394db6c-a939-44f5-dd9e-01b455285673"
      },
      "source": [
        "column_names = ['MPG','Cylinders','Displacement','Horsepower','Weight',\n",
        "                'Acceleration', 'Model Year', 'Origin']\n",
        "raw_dataset = pd.read_csv(dataset_path, names=column_names,\n",
        "                      na_values = \"?\", comment='\\t',\n",
        "                      sep=\" \", skipinitialspace=True)\n",
        "\n",
        "dataset = raw_dataset.copy()\n",
        "dataset.tail()"
      ],
      "execution_count": null,
      "outputs": [
        {
          "output_type": "execute_result",
          "data": {
            "text/html": [
              "<div>\n",
              "<style scoped>\n",
              "    .dataframe tbody tr th:only-of-type {\n",
              "        vertical-align: middle;\n",
              "    }\n",
              "\n",
              "    .dataframe tbody tr th {\n",
              "        vertical-align: top;\n",
              "    }\n",
              "\n",
              "    .dataframe thead th {\n",
              "        text-align: right;\n",
              "    }\n",
              "</style>\n",
              "<table border=\"1\" class=\"dataframe\">\n",
              "  <thead>\n",
              "    <tr style=\"text-align: right;\">\n",
              "      <th></th>\n",
              "      <th>MPG</th>\n",
              "      <th>Cylinders</th>\n",
              "      <th>Displacement</th>\n",
              "      <th>Horsepower</th>\n",
              "      <th>Weight</th>\n",
              "      <th>Acceleration</th>\n",
              "      <th>Model Year</th>\n",
              "      <th>Origin</th>\n",
              "    </tr>\n",
              "  </thead>\n",
              "  <tbody>\n",
              "    <tr>\n",
              "      <th>393</th>\n",
              "      <td>27.0</td>\n",
              "      <td>4</td>\n",
              "      <td>140.0</td>\n",
              "      <td>86.0</td>\n",
              "      <td>2790.0</td>\n",
              "      <td>15.6</td>\n",
              "      <td>82</td>\n",
              "      <td>1</td>\n",
              "    </tr>\n",
              "    <tr>\n",
              "      <th>394</th>\n",
              "      <td>44.0</td>\n",
              "      <td>4</td>\n",
              "      <td>97.0</td>\n",
              "      <td>52.0</td>\n",
              "      <td>2130.0</td>\n",
              "      <td>24.6</td>\n",
              "      <td>82</td>\n",
              "      <td>2</td>\n",
              "    </tr>\n",
              "    <tr>\n",
              "      <th>395</th>\n",
              "      <td>32.0</td>\n",
              "      <td>4</td>\n",
              "      <td>135.0</td>\n",
              "      <td>84.0</td>\n",
              "      <td>2295.0</td>\n",
              "      <td>11.6</td>\n",
              "      <td>82</td>\n",
              "      <td>1</td>\n",
              "    </tr>\n",
              "    <tr>\n",
              "      <th>396</th>\n",
              "      <td>28.0</td>\n",
              "      <td>4</td>\n",
              "      <td>120.0</td>\n",
              "      <td>79.0</td>\n",
              "      <td>2625.0</td>\n",
              "      <td>18.6</td>\n",
              "      <td>82</td>\n",
              "      <td>1</td>\n",
              "    </tr>\n",
              "    <tr>\n",
              "      <th>397</th>\n",
              "      <td>31.0</td>\n",
              "      <td>4</td>\n",
              "      <td>119.0</td>\n",
              "      <td>82.0</td>\n",
              "      <td>2720.0</td>\n",
              "      <td>19.4</td>\n",
              "      <td>82</td>\n",
              "      <td>1</td>\n",
              "    </tr>\n",
              "  </tbody>\n",
              "</table>\n",
              "</div>"
            ],
            "text/plain": [
              "      MPG  Cylinders  Displacement  ...  Acceleration  Model Year  Origin\n",
              "393  27.0          4         140.0  ...          15.6          82       1\n",
              "394  44.0          4          97.0  ...          24.6          82       2\n",
              "395  32.0          4         135.0  ...          11.6          82       1\n",
              "396  28.0          4         120.0  ...          18.6          82       1\n",
              "397  31.0          4         119.0  ...          19.4          82       1\n",
              "\n",
              "[5 rows x 8 columns]"
            ]
          },
          "metadata": {
            "tags": []
          },
          "execution_count": 43
        }
      ]
    },
    {
      "cell_type": "code",
      "metadata": {
        "id": "oP0TVWRcRgDQ",
        "colab_type": "code",
        "colab": {
          "base_uri": "https://localhost:8080/",
          "height": 179
        },
        "outputId": "689ec18b-56d4-4799-d45a-bde19bd27991"
      },
      "source": [
        "dataset.isna().sum()"
      ],
      "execution_count": null,
      "outputs": [
        {
          "output_type": "execute_result",
          "data": {
            "text/plain": [
              "MPG             0\n",
              "Cylinders       0\n",
              "Displacement    0\n",
              "Horsepower      6\n",
              "Weight          0\n",
              "Acceleration    0\n",
              "Model Year      0\n",
              "Origin          0\n",
              "dtype: int64"
            ]
          },
          "metadata": {
            "tags": []
          },
          "execution_count": 44
        }
      ]
    },
    {
      "cell_type": "code",
      "metadata": {
        "id": "uQQAm1w6RrgB",
        "colab_type": "code",
        "colab": {}
      },
      "source": [
        "dataset =dataset.dropna()"
      ],
      "execution_count": null,
      "outputs": []
    },
    {
      "cell_type": "code",
      "metadata": {
        "id": "YOphXzu2RxEx",
        "colab_type": "code",
        "colab": {}
      },
      "source": [
        "origin = dataset.pop('Origin')"
      ],
      "execution_count": null,
      "outputs": []
    },
    {
      "cell_type": "code",
      "metadata": {
        "id": "GRUBqhrxR-Eh",
        "colab_type": "code",
        "colab": {
          "base_uri": "https://localhost:8080/",
          "height": 204
        },
        "outputId": "59374d93-265e-4ee5-915e-2d25f162f2bf"
      },
      "source": [
        "dataset.head(5)"
      ],
      "execution_count": null,
      "outputs": [
        {
          "output_type": "execute_result",
          "data": {
            "text/html": [
              "<div>\n",
              "<style scoped>\n",
              "    .dataframe tbody tr th:only-of-type {\n",
              "        vertical-align: middle;\n",
              "    }\n",
              "\n",
              "    .dataframe tbody tr th {\n",
              "        vertical-align: top;\n",
              "    }\n",
              "\n",
              "    .dataframe thead th {\n",
              "        text-align: right;\n",
              "    }\n",
              "</style>\n",
              "<table border=\"1\" class=\"dataframe\">\n",
              "  <thead>\n",
              "    <tr style=\"text-align: right;\">\n",
              "      <th></th>\n",
              "      <th>MPG</th>\n",
              "      <th>Cylinders</th>\n",
              "      <th>Displacement</th>\n",
              "      <th>Horsepower</th>\n",
              "      <th>Weight</th>\n",
              "      <th>Acceleration</th>\n",
              "      <th>Model Year</th>\n",
              "    </tr>\n",
              "  </thead>\n",
              "  <tbody>\n",
              "    <tr>\n",
              "      <th>0</th>\n",
              "      <td>18.0</td>\n",
              "      <td>8</td>\n",
              "      <td>307.0</td>\n",
              "      <td>130.0</td>\n",
              "      <td>3504.0</td>\n",
              "      <td>12.0</td>\n",
              "      <td>70</td>\n",
              "    </tr>\n",
              "    <tr>\n",
              "      <th>1</th>\n",
              "      <td>15.0</td>\n",
              "      <td>8</td>\n",
              "      <td>350.0</td>\n",
              "      <td>165.0</td>\n",
              "      <td>3693.0</td>\n",
              "      <td>11.5</td>\n",
              "      <td>70</td>\n",
              "    </tr>\n",
              "    <tr>\n",
              "      <th>2</th>\n",
              "      <td>18.0</td>\n",
              "      <td>8</td>\n",
              "      <td>318.0</td>\n",
              "      <td>150.0</td>\n",
              "      <td>3436.0</td>\n",
              "      <td>11.0</td>\n",
              "      <td>70</td>\n",
              "    </tr>\n",
              "    <tr>\n",
              "      <th>3</th>\n",
              "      <td>16.0</td>\n",
              "      <td>8</td>\n",
              "      <td>304.0</td>\n",
              "      <td>150.0</td>\n",
              "      <td>3433.0</td>\n",
              "      <td>12.0</td>\n",
              "      <td>70</td>\n",
              "    </tr>\n",
              "    <tr>\n",
              "      <th>4</th>\n",
              "      <td>17.0</td>\n",
              "      <td>8</td>\n",
              "      <td>302.0</td>\n",
              "      <td>140.0</td>\n",
              "      <td>3449.0</td>\n",
              "      <td>10.5</td>\n",
              "      <td>70</td>\n",
              "    </tr>\n",
              "  </tbody>\n",
              "</table>\n",
              "</div>"
            ],
            "text/plain": [
              "    MPG  Cylinders  Displacement  Horsepower  Weight  Acceleration  Model Year\n",
              "0  18.0          8         307.0       130.0  3504.0          12.0          70\n",
              "1  15.0          8         350.0       165.0  3693.0          11.5          70\n",
              "2  18.0          8         318.0       150.0  3436.0          11.0          70\n",
              "3  16.0          8         304.0       150.0  3433.0          12.0          70\n",
              "4  17.0          8         302.0       140.0  3449.0          10.5          70"
            ]
          },
          "metadata": {
            "tags": []
          },
          "execution_count": 47
        }
      ]
    },
    {
      "cell_type": "code",
      "metadata": {
        "id": "DBb4tNzSSAto",
        "colab_type": "code",
        "colab": {}
      },
      "source": [
        "train_dataset = dataset.sample(frac = 0.8,random_state= 0)\n",
        "test_dataset = dataset.drop(train_dataset.index)\n"
      ],
      "execution_count": null,
      "outputs": []
    },
    {
      "cell_type": "code",
      "metadata": {
        "id": "Z1-C2cJDiroj",
        "colab_type": "code",
        "colab": {}
      },
      "source": [
        "def norm(x):\n",
        "  return (x-train_stats['mean'])/train_stats['std']\n",
        "train_stats = train_dataset.describe()\n",
        "train_stats.pop(\"MPG\")\n",
        "train_stats = train_stats.transpose()\n",
        "train_labels = train_dataset.pop('MPG')\n",
        "test_labels = test_dataset.pop('MPG')\n",
        "normed_train_data =norm(train_dataset)\n",
        "normed_test_data = norm(test_dataset)\n"
      ],
      "execution_count": null,
      "outputs": []
    },
    {
      "cell_type": "markdown",
      "metadata": {
        "id": "yW8RTNIEp582",
        "colab_type": "text"
      },
      "source": [
        "# Make Model"
      ]
    },
    {
      "cell_type": "code",
      "metadata": {
        "id": "MFAO8iiOldNV",
        "colab_type": "code",
        "colab": {}
      },
      "source": [
        "inputs = keras.Input(shape=(train_dataset.shape[1],))\n",
        "h = layers.Dense(64)(inputs)\n",
        "h = layers.Dense(64)(h)\n",
        "outputs = layers.Dense(1)(h)"
      ],
      "execution_count": null,
      "outputs": []
    },
    {
      "cell_type": "code",
      "metadata": {
        "id": "WQdIsyNpmKrE",
        "colab_type": "code",
        "colab": {}
      },
      "source": [
        "model = keras.Model(inputs = inputs,outputs = outputs)"
      ],
      "execution_count": null,
      "outputs": []
    },
    {
      "cell_type": "code",
      "metadata": {
        "id": "BF7cB9aPmSmU",
        "colab_type": "code",
        "colab": {}
      },
      "source": [
        "model.compile(loss='mse',\n",
        "              optimizer = tf.keras.optimizers.RMSprop(0.001),\n",
        "              metrics=['mse'])"
      ],
      "execution_count": null,
      "outputs": []
    },
    {
      "cell_type": "code",
      "metadata": {
        "id": "QFw_PjL-mbXN",
        "colab_type": "code",
        "colab": {
          "base_uri": "https://localhost:8080/",
          "height": 305
        },
        "outputId": "29aaa82d-7f91-4be8-9947-bfc401eda4e9"
      },
      "source": [
        "model.summary()\n"
      ],
      "execution_count": null,
      "outputs": [
        {
          "output_type": "stream",
          "text": [
            "Model: \"model_3\"\n",
            "_________________________________________________________________\n",
            "Layer (type)                 Output Shape              Param #   \n",
            "=================================================================\n",
            "input_4 (InputLayer)         [(None, 6)]               0         \n",
            "_________________________________________________________________\n",
            "dense_9 (Dense)              (None, 64)                448       \n",
            "_________________________________________________________________\n",
            "dense_10 (Dense)             (None, 64)                4160      \n",
            "_________________________________________________________________\n",
            "dense_11 (Dense)             (None, 1)                 65        \n",
            "=================================================================\n",
            "Total params: 4,673\n",
            "Trainable params: 4,673\n",
            "Non-trainable params: 0\n",
            "_________________________________________________________________\n"
          ],
          "name": "stdout"
        }
      ]
    },
    {
      "cell_type": "code",
      "metadata": {
        "id": "Yt9fhOv_mhnc",
        "colab_type": "code",
        "colab": {
          "base_uri": "https://localhost:8080/",
          "height": 422
        },
        "outputId": "de1cd7da-7b37-4802-ee5e-75aa1c4ea981"
      },
      "source": [
        "keras.utils.plot_model(model,\"my_first_model.png\",show_shapes=True)"
      ],
      "execution_count": null,
      "outputs": [
        {
          "output_type": "execute_result",
          "data": {
            "image/png": "[encoded data removed]",
            "text/plain": [
              "<IPython.core.display.Image object>"
            ]
          },
          "metadata": {
            "tags": []
          },
          "execution_count": 54
        }
      ]
    },
    {
      "cell_type": "markdown",
      "metadata": {
        "id": "I1QDPM_JpGj3",
        "colab_type": "text"
      },
      "source": [
        "# Learning"
      ]
    },
    {
      "cell_type": "code",
      "metadata": {
        "id": "ltWwiQDTmpzG",
        "colab_type": "code",
        "colab": {
          "base_uri": "https://localhost:8080/",
          "height": 1000
        },
        "outputId": "5d6c7af9-da82-43bc-b477-9bcfee32a420"
      },
      "source": [
        "EPOCHS = 100\n",
        "\n",
        "history = model.fit(\n",
        "    normed_train_data,train_labels,\n",
        "    epochs = EPOCHS , validation_split=0.2\n",
        ")"
      ],
      "execution_count": null,
      "outputs": [
        {
          "output_type": "stream",
          "text": [
            "Epoch 1/100\n",
            "8/8 [==============================] - 0s 14ms/step - loss: 13.2654 - mse: 13.2654 - val_loss: 11.7078 - val_mse: 11.7078\n",
            "Epoch 2/100\n",
            "8/8 [==============================] - 0s 5ms/step - loss: 12.6382 - mse: 12.6382 - val_loss: 11.9344 - val_mse: 11.9344\n",
            "Epoch 3/100\n",
            "8/8 [==============================] - 0s 5ms/step - loss: 12.3436 - mse: 12.3436 - val_loss: 11.8661 - val_mse: 11.8661\n",
            "Epoch 4/100\n",
            "8/8 [==============================] - 0s 5ms/step - loss: 12.6355 - mse: 12.6355 - val_loss: 12.1242 - val_mse: 12.1242\n",
            "Epoch 5/100\n",
            "8/8 [==============================] - 0s 5ms/step - loss: 12.5513 - mse: 12.5513 - val_loss: 11.8574 - val_mse: 11.8574\n",
            "Epoch 6/100\n",
            "8/8 [==============================] - 0s 5ms/step - loss: 12.7011 - mse: 12.7011 - val_loss: 11.8960 - val_mse: 11.8960\n",
            "Epoch 7/100\n",
            "8/8 [==============================] - 0s 6ms/step - loss: 12.5200 - mse: 12.5200 - val_loss: 11.5353 - val_mse: 11.5353\n",
            "Epoch 8/100\n",
            "8/8 [==============================] - 0s 6ms/step - loss: 12.4774 - mse: 12.4774 - val_loss: 12.3649 - val_mse: 12.3649\n",
            "Epoch 9/100\n",
            "8/8 [==============================] - 0s 5ms/step - loss: 12.6976 - mse: 12.6976 - val_loss: 11.8027 - val_mse: 11.8027\n",
            "Epoch 10/100\n",
            "8/8 [==============================] - 0s 6ms/step - loss: 12.4922 - mse: 12.4922 - val_loss: 11.7188 - val_mse: 11.7188\n",
            "Epoch 11/100\n",
            "8/8 [==============================] - 0s 6ms/step - loss: 12.5941 - mse: 12.5941 - val_loss: 12.1965 - val_mse: 12.1965\n",
            "Epoch 12/100\n",
            "8/8 [==============================] - 0s 5ms/step - loss: 12.3626 - mse: 12.3626 - val_loss: 11.7842 - val_mse: 11.7842\n",
            "Epoch 13/100\n",
            "8/8 [==============================] - 0s 5ms/step - loss: 12.3914 - mse: 12.3914 - val_loss: 11.7707 - val_mse: 11.7707\n",
            "Epoch 14/100\n",
            "8/8 [==============================] - 0s 6ms/step - loss: 12.3494 - mse: 12.3494 - val_loss: 12.3731 - val_mse: 12.3731\n",
            "Epoch 15/100\n",
            "8/8 [==============================] - 0s 5ms/step - loss: 12.7321 - mse: 12.7321 - val_loss: 11.8104 - val_mse: 11.8104\n",
            "Epoch 16/100\n",
            "8/8 [==============================] - 0s 5ms/step - loss: 12.3323 - mse: 12.3323 - val_loss: 12.4513 - val_mse: 12.4513\n",
            "Epoch 17/100\n",
            "8/8 [==============================] - 0s 5ms/step - loss: 12.6112 - mse: 12.6112 - val_loss: 11.9116 - val_mse: 11.9116\n",
            "Epoch 18/100\n",
            "8/8 [==============================] - 0s 6ms/step - loss: 12.7452 - mse: 12.7452 - val_loss: 11.8650 - val_mse: 11.8650\n",
            "Epoch 19/100\n",
            "8/8 [==============================] - 0s 5ms/step - loss: 12.3052 - mse: 12.3052 - val_loss: 11.8401 - val_mse: 11.8401\n",
            "Epoch 20/100\n",
            "8/8 [==============================] - 0s 5ms/step - loss: 12.2255 - mse: 12.2255 - val_loss: 11.7986 - val_mse: 11.7986\n",
            "Epoch 21/100\n",
            "8/8 [==============================] - 0s 5ms/step - loss: 12.5799 - mse: 12.5799 - val_loss: 12.1659 - val_mse: 12.1659\n",
            "Epoch 22/100\n",
            "8/8 [==============================] - 0s 5ms/step - loss: 12.9295 - mse: 12.9295 - val_loss: 11.9297 - val_mse: 11.9297\n",
            "Epoch 23/100\n",
            "8/8 [==============================] - 0s 5ms/step - loss: 12.4923 - mse: 12.4923 - val_loss: 11.7312 - val_mse: 11.7312\n",
            "Epoch 24/100\n",
            "8/8 [==============================] - 0s 5ms/step - loss: 12.5671 - mse: 12.5671 - val_loss: 12.1544 - val_mse: 12.1544\n",
            "Epoch 25/100\n",
            "8/8 [==============================] - 0s 5ms/step - loss: 12.4961 - mse: 12.4961 - val_loss: 11.6907 - val_mse: 11.6907\n",
            "Epoch 26/100\n",
            "8/8 [==============================] - 0s 5ms/step - loss: 12.1969 - mse: 12.1969 - val_loss: 13.0149 - val_mse: 13.0149\n",
            "Epoch 27/100\n",
            "8/8 [==============================] - 0s 6ms/step - loss: 12.4984 - mse: 12.4984 - val_loss: 11.8755 - val_mse: 11.8755\n",
            "Epoch 28/100\n",
            "8/8 [==============================] - 0s 5ms/step - loss: 12.6273 - mse: 12.6273 - val_loss: 11.7900 - val_mse: 11.7900\n",
            "Epoch 29/100\n",
            "8/8 [==============================] - 0s 5ms/step - loss: 12.5090 - mse: 12.5090 - val_loss: 12.6540 - val_mse: 12.6540\n",
            "Epoch 30/100\n",
            "8/8 [==============================] - 0s 5ms/step - loss: 12.6033 - mse: 12.6033 - val_loss: 12.0764 - val_mse: 12.0764\n",
            "Epoch 31/100\n",
            "8/8 [==============================] - 0s 6ms/step - loss: 12.5442 - mse: 12.5442 - val_loss: 11.7543 - val_mse: 11.7543\n",
            "Epoch 32/100\n",
            "8/8 [==============================] - 0s 6ms/step - loss: 12.2502 - mse: 12.2502 - val_loss: 12.3897 - val_mse: 12.3897\n",
            "Epoch 33/100\n",
            "8/8 [==============================] - 0s 5ms/step - loss: 12.5290 - mse: 12.5290 - val_loss: 11.7904 - val_mse: 11.7904\n",
            "Epoch 34/100\n",
            "8/8 [==============================] - 0s 5ms/step - loss: 12.5016 - mse: 12.5016 - val_loss: 11.7596 - val_mse: 11.7596\n",
            "Epoch 35/100\n",
            "8/8 [==============================] - 0s 5ms/step - loss: 12.4513 - mse: 12.4513 - val_loss: 12.5105 - val_mse: 12.5105\n",
            "Epoch 36/100\n",
            "8/8 [==============================] - 0s 5ms/step - loss: 12.5361 - mse: 12.5361 - val_loss: 12.1975 - val_mse: 12.1975\n",
            "Epoch 37/100\n",
            "8/8 [==============================] - 0s 6ms/step - loss: 13.0437 - mse: 13.0437 - val_loss: 12.0392 - val_mse: 12.0392\n",
            "Epoch 38/100\n",
            "8/8 [==============================] - 0s 5ms/step - loss: 12.6385 - mse: 12.6385 - val_loss: 11.8155 - val_mse: 11.8155\n",
            "Epoch 39/100\n",
            "8/8 [==============================] - 0s 5ms/step - loss: 12.3734 - mse: 12.3734 - val_loss: 11.8791 - val_mse: 11.8791\n",
            "Epoch 40/100\n",
            "8/8 [==============================] - 0s 5ms/step - loss: 12.6810 - mse: 12.6810 - val_loss: 12.1408 - val_mse: 12.1408\n",
            "Epoch 41/100\n",
            "8/8 [==============================] - 0s 6ms/step - loss: 12.3385 - mse: 12.3385 - val_loss: 12.0138 - val_mse: 12.0138\n",
            "Epoch 42/100\n",
            "8/8 [==============================] - 0s 5ms/step - loss: 12.6277 - mse: 12.6277 - val_loss: 12.0026 - val_mse: 12.0026\n",
            "Epoch 43/100\n",
            "8/8 [==============================] - 0s 5ms/step - loss: 12.5187 - mse: 12.5187 - val_loss: 11.7596 - val_mse: 11.7596\n",
            "Epoch 44/100\n",
            "8/8 [==============================] - 0s 5ms/step - loss: 12.1858 - mse: 12.1858 - val_loss: 13.1344 - val_mse: 13.1344\n",
            "Epoch 45/100\n",
            "8/8 [==============================] - 0s 5ms/step - loss: 12.3457 - mse: 12.3457 - val_loss: 11.7551 - val_mse: 11.7551\n",
            "Epoch 46/100\n",
            "8/8 [==============================] - 0s 5ms/step - loss: 12.5963 - mse: 12.5963 - val_loss: 12.1414 - val_mse: 12.1414\n",
            "Epoch 47/100\n",
            "8/8 [==============================] - 0s 6ms/step - loss: 12.6040 - mse: 12.6040 - val_loss: 12.2292 - val_mse: 12.2292\n",
            "Epoch 48/100\n",
            "8/8 [==============================] - 0s 5ms/step - loss: 12.5405 - mse: 12.5405 - val_loss: 12.3198 - val_mse: 12.3198\n",
            "Epoch 49/100\n",
            "8/8 [==============================] - 0s 6ms/step - loss: 12.5190 - mse: 12.5190 - val_loss: 12.1556 - val_mse: 12.1556\n",
            "Epoch 50/100\n",
            "8/8 [==============================] - 0s 5ms/step - loss: 12.6653 - mse: 12.6653 - val_loss: 11.6373 - val_mse: 11.6373\n",
            "Epoch 51/100\n",
            "8/8 [==============================] - 0s 5ms/step - loss: 12.4623 - mse: 12.4623 - val_loss: 12.3837 - val_mse: 12.3837\n",
            "Epoch 52/100\n",
            "8/8 [==============================] - 0s 5ms/step - loss: 12.4542 - mse: 12.4542 - val_loss: 11.7099 - val_mse: 11.7099\n",
            "Epoch 53/100\n",
            "8/8 [==============================] - 0s 5ms/step - loss: 12.2148 - mse: 12.2148 - val_loss: 13.5245 - val_mse: 13.5245\n",
            "Epoch 54/100\n",
            "8/8 [==============================] - 0s 5ms/step - loss: 12.5145 - mse: 12.5145 - val_loss: 11.8668 - val_mse: 11.8668\n",
            "Epoch 55/100\n",
            "8/8 [==============================] - 0s 5ms/step - loss: 12.5171 - mse: 12.5171 - val_loss: 11.9666 - val_mse: 11.9666\n",
            "Epoch 56/100\n",
            "8/8 [==============================] - 0s 6ms/step - loss: 12.2318 - mse: 12.2318 - val_loss: 12.6177 - val_mse: 12.6177\n",
            "Epoch 57/100\n",
            "8/8 [==============================] - 0s 5ms/step - loss: 12.3620 - mse: 12.3620 - val_loss: 11.8437 - val_mse: 11.8437\n",
            "Epoch 58/100\n",
            "8/8 [==============================] - 0s 5ms/step - loss: 12.5309 - mse: 12.5309 - val_loss: 12.5276 - val_mse: 12.5276\n",
            "Epoch 59/100\n",
            "8/8 [==============================] - 0s 6ms/step - loss: 12.5762 - mse: 12.5762 - val_loss: 12.1562 - val_mse: 12.1562\n",
            "Epoch 60/100\n",
            "8/8 [==============================] - 0s 5ms/step - loss: 12.6565 - mse: 12.6565 - val_loss: 11.6670 - val_mse: 11.6670\n",
            "Epoch 61/100\n",
            "8/8 [==============================] - 0s 5ms/step - loss: 12.3542 - mse: 12.3542 - val_loss: 11.8546 - val_mse: 11.8546\n",
            "Epoch 62/100\n",
            "8/8 [==============================] - 0s 5ms/step - loss: 12.4897 - mse: 12.4897 - val_loss: 12.1099 - val_mse: 12.1099\n",
            "Epoch 63/100\n",
            "8/8 [==============================] - 0s 5ms/step - loss: 12.7727 - mse: 12.7727 - val_loss: 12.2692 - val_mse: 12.2692\n",
            "Epoch 64/100\n",
            "8/8 [==============================] - 0s 5ms/step - loss: 12.6913 - mse: 12.6913 - val_loss: 12.0764 - val_mse: 12.0764\n",
            "Epoch 65/100\n",
            "8/8 [==============================] - 0s 6ms/step - loss: 12.4512 - mse: 12.4512 - val_loss: 12.5057 - val_mse: 12.5057\n",
            "Epoch 66/100\n",
            "8/8 [==============================] - 0s 6ms/step - loss: 12.6324 - mse: 12.6324 - val_loss: 12.2533 - val_mse: 12.2533\n",
            "Epoch 67/100\n",
            "8/8 [==============================] - 0s 5ms/step - loss: 12.5432 - mse: 12.5432 - val_loss: 11.7522 - val_mse: 11.7522\n",
            "Epoch 68/100\n",
            "8/8 [==============================] - 0s 5ms/step - loss: 12.3344 - mse: 12.3344 - val_loss: 11.9973 - val_mse: 11.9973\n",
            "Epoch 69/100\n",
            "8/8 [==============================] - 0s 5ms/step - loss: 12.6354 - mse: 12.6354 - val_loss: 12.1872 - val_mse: 12.1872\n",
            "Epoch 70/100\n",
            "8/8 [==============================] - 0s 5ms/step - loss: 12.4536 - mse: 12.4536 - val_loss: 12.1614 - val_mse: 12.1614\n",
            "Epoch 71/100\n",
            "8/8 [==============================] - 0s 6ms/step - loss: 12.7528 - mse: 12.7528 - val_loss: 11.7676 - val_mse: 11.7676\n",
            "Epoch 72/100\n",
            "8/8 [==============================] - 0s 5ms/step - loss: 12.5389 - mse: 12.5389 - val_loss: 12.3792 - val_mse: 12.3792\n",
            "Epoch 73/100\n",
            "8/8 [==============================] - 0s 5ms/step - loss: 12.5383 - mse: 12.5383 - val_loss: 12.0789 - val_mse: 12.0789\n",
            "Epoch 74/100\n",
            "8/8 [==============================] - 0s 5ms/step - loss: 12.4397 - mse: 12.4397 - val_loss: 12.5036 - val_mse: 12.5036\n",
            "Epoch 75/100\n",
            "8/8 [==============================] - 0s 6ms/step - loss: 12.4728 - mse: 12.4728 - val_loss: 12.0986 - val_mse: 12.0986\n",
            "Epoch 76/100\n",
            "8/8 [==============================] - 0s 5ms/step - loss: 12.4678 - mse: 12.4678 - val_loss: 12.7026 - val_mse: 12.7026\n",
            "Epoch 77/100\n",
            "8/8 [==============================] - 0s 5ms/step - loss: 12.4550 - mse: 12.4550 - val_loss: 12.3490 - val_mse: 12.3490\n",
            "Epoch 78/100\n",
            "8/8 [==============================] - 0s 5ms/step - loss: 12.8553 - mse: 12.8553 - val_loss: 12.2629 - val_mse: 12.2629\n",
            "Epoch 79/100\n",
            "8/8 [==============================] - 0s 5ms/step - loss: 12.4210 - mse: 12.4210 - val_loss: 12.3275 - val_mse: 12.3275\n",
            "Epoch 80/100\n",
            "8/8 [==============================] - 0s 5ms/step - loss: 12.5285 - mse: 12.5285 - val_loss: 12.0781 - val_mse: 12.0781\n",
            "Epoch 81/100\n",
            "8/8 [==============================] - 0s 6ms/step - loss: 12.5098 - mse: 12.5098 - val_loss: 12.8893 - val_mse: 12.8893\n",
            "Epoch 82/100\n",
            "8/8 [==============================] - 0s 5ms/step - loss: 12.5245 - mse: 12.5245 - val_loss: 12.5018 - val_mse: 12.5018\n",
            "Epoch 83/100\n",
            "8/8 [==============================] - 0s 6ms/step - loss: 12.8799 - mse: 12.8799 - val_loss: 11.9025 - val_mse: 11.9025\n",
            "Epoch 84/100\n",
            "8/8 [==============================] - 0s 6ms/step - loss: 12.2432 - mse: 12.2432 - val_loss: 12.1940 - val_mse: 12.1940\n",
            "Epoch 85/100\n",
            "8/8 [==============================] - 0s 6ms/step - loss: 12.5657 - mse: 12.5657 - val_loss: 12.2955 - val_mse: 12.2955\n",
            "Epoch 86/100\n",
            "8/8 [==============================] - 0s 5ms/step - loss: 12.3410 - mse: 12.3410 - val_loss: 11.5654 - val_mse: 11.5654\n",
            "Epoch 87/100\n",
            "8/8 [==============================] - 0s 6ms/step - loss: 12.5449 - mse: 12.5449 - val_loss: 11.8130 - val_mse: 11.8130\n",
            "Epoch 88/100\n",
            "8/8 [==============================] - 0s 5ms/step - loss: 12.5207 - mse: 12.5207 - val_loss: 12.1870 - val_mse: 12.1870\n",
            "Epoch 89/100\n",
            "8/8 [==============================] - 0s 5ms/step - loss: 12.4497 - mse: 12.4497 - val_loss: 11.6087 - val_mse: 11.6087\n",
            "Epoch 90/100\n",
            "8/8 [==============================] - 0s 5ms/step - loss: 12.4855 - mse: 12.4855 - val_loss: 11.8312 - val_mse: 11.8312\n",
            "Epoch 91/100\n",
            "8/8 [==============================] - 0s 6ms/step - loss: 12.4859 - mse: 12.4859 - val_loss: 11.7223 - val_mse: 11.7223\n",
            "Epoch 92/100\n",
            "8/8 [==============================] - 0s 5ms/step - loss: 12.3563 - mse: 12.3563 - val_loss: 12.3667 - val_mse: 12.3667\n",
            "Epoch 93/100\n",
            "8/8 [==============================] - 0s 5ms/step - loss: 12.7022 - mse: 12.7022 - val_loss: 11.6803 - val_mse: 11.6803\n",
            "Epoch 94/100\n",
            "8/8 [==============================] - 0s 5ms/step - loss: 12.6534 - mse: 12.6534 - val_loss: 12.4382 - val_mse: 12.4382\n",
            "Epoch 95/100\n",
            "8/8 [==============================] - 0s 6ms/step - loss: 12.5701 - mse: 12.5701 - val_loss: 11.9530 - val_mse: 11.9530\n",
            "Epoch 96/100\n",
            "8/8 [==============================] - 0s 6ms/step - loss: 12.6862 - mse: 12.6862 - val_loss: 11.7626 - val_mse: 11.7626\n",
            "Epoch 97/100\n",
            "8/8 [==============================] - 0s 5ms/step - loss: 12.3431 - mse: 12.3431 - val_loss: 12.1579 - val_mse: 12.1579\n",
            "Epoch 98/100\n",
            "8/8 [==============================] - 0s 5ms/step - loss: 12.6489 - mse: 12.6489 - val_loss: 12.5353 - val_mse: 12.5353\n",
            "Epoch 99/100\n",
            "8/8 [==============================] - 0s 5ms/step - loss: 12.5862 - mse: 12.5862 - val_loss: 12.1561 - val_mse: 12.1561\n",
            "Epoch 100/100\n",
            "8/8 [==============================] - 0s 5ms/step - loss: 12.4631 - mse: 12.4631 - val_loss: 12.0265 - val_mse: 12.0265\n"
          ],
          "name": "stdout"
        }
      ]
    },
    {
      "cell_type": "code",
      "metadata": {
        "id": "ysA_HZaonKYz",
        "colab_type": "code",
        "colab": {
          "base_uri": "https://localhost:8080/",
          "height": 53
        },
        "outputId": "755e11f4-039e-4042-e671-3b0d37fecf95"
      },
      "source": [
        "loss = model.evaluate(normed_test_data,test_labels,verbose=2)\n",
        "\n",
        "print(\"{:5.5f} MPG\".format(loss))"
      ],
      "execution_count": null,
      "outputs": [
        {
          "output_type": "stream",
          "text": [
            "3/3 - 0s - loss: 11.0346\n",
            "11.03460 MPG\n"
          ],
          "name": "stdout"
        }
      ]
    },
    {
      "cell_type": "markdown",
      "metadata": {
        "id": "vmOgHsr3qCSR",
        "colab_type": "text"
      },
      "source": [
        "# Learning visualization"
      ]
    },
    {
      "cell_type": "code",
      "metadata": {
        "id": "3cuMuQaioISE",
        "colab_type": "code",
        "colab": {
          "base_uri": "https://localhost:8080/",
          "height": 279
        },
        "outputId": "d86b3e81-825a-4a68-be05-ab792e25cd6a"
      },
      "source": [
        "test_predictions = model.predict(normed_test_data).flatten()\n",
        "\n",
        "plt.scatter(test_labels, test_predictions)\n",
        "plt.xlabel('True Values [MPG]')\n",
        "plt.ylabel('Predictions [MPG]')\n",
        "plt.axis('equal')\n",
        "plt.axis('square')\n",
        "plt.xlim([0,plt.xlim()[1]])\n",
        "plt.ylim([0,plt.ylim()[1]])\n",
        "_ = plt.plot([-100, 100], [-100, 100])"
      ],
      "execution_count": null,
      "outputs": [
        {
          "output_type": "display_data",
          "data": {
            "image/png": "[encoded data removed]",
            "text/plain": [
              "<Figure size 432x288 with 1 Axes>"
            ]
          },
          "metadata": {
            "tags": [],
            "needs_background": "light"
          }
        }
      ]
    },
    {
      "cell_type": "code",
      "metadata": {
        "id": "wGvojh4VpALC",
        "colab_type": "code",
        "colab": {
          "base_uri": "https://localhost:8080/",
          "height": 279
        },
        "outputId": "b865768f-1c19-4588-c78d-faf0a7a750ed"
      },
      "source": [
        "error = test_predictions - test_labels\n",
        "plt.hist(error, bins = 25)\n",
        "plt.xlabel(\"Prediction Error [MPG]\")\n",
        "_ = plt.ylabel(\"Count\")"
      ],
      "execution_count": null,
      "outputs": [
        {
          "output_type": "display_data",
          "data": {
            "image/png": "[encoded data removed]",
            "text/plain": [
              "<Figure size 432x288 with 1 Axes>"
            ]
          },
          "metadata": {
            "tags": [],
            "needs_background": "light"
          }
        }
      ]
    },
    {
      "cell_type": "code",
      "metadata": {
        "id": "cgTi7tVfpCbF",
        "colab_type": "code",
        "colab": {
          "base_uri": "https://localhost:8080/",
          "height": 362
        },
        "outputId": "227fdf39-99e7-47b5-aa77-d04b2371f83e"
      },
      "source": [
        "def plot_history(history):\n",
        "  hist = pd.DataFrame(history.history)\n",
        "  hist['epoch'] = history.epoch\n",
        "\n",
        "  plt.figure(figsize=(8,12))\n",
        "\n",
        "\n",
        "  plt.subplot(2,1,2)\n",
        "  plt.xlabel('Epoch')\n",
        "  plt.ylabel('Mean Square Error [$MPG^2$]')\n",
        "  plt.plot(hist['epoch'], hist['mse'],\n",
        "           label='Train Error')\n",
        "  plt.plot(hist['epoch'], hist['val_mse'],\n",
        "           label = 'Val Error')\n",
        "  plt.ylim([0,20])\n",
        "  plt.legend()\n",
        "  plt.show()\n",
        "\n",
        "plot_history(history)"
      ],
      "execution_count": null,
      "outputs": [
        {
          "output_type": "display_data",
          "data": {
            "image/png": "[encoded data removed]",
            "text/plain": [
              "<Figure size 576x864 with 1 Axes>"
            ]
          },
          "metadata": {
            "tags": [],
            "needs_background": "light"
          }
        }
      ]
    },
    {
      "cell_type": "code",
      "metadata": {
        "id": "T0fAsb6rpPO2",
        "colab_type": "code",
        "colab": {}
      },
      "source": [
        ""
      ],
      "execution_count": null,
      "outputs": []
    }
  ]
}