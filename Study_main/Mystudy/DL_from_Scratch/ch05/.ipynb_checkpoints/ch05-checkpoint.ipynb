{
 "cells": [
  {
   "cell_type": "markdown",
   "id": "6c6745eb",
   "metadata": {},
   "source": [
    "# 5. 오차 역전파(Back Propagation)"
   ]
  },
  {
   "cell_type": "markdown",
   "id": "a699d8ff",
   "metadata": {},
   "source": [
    "## 5.1.1 계산 그래프  \n",
    "계산 과정을 그래프로 나타내자.  \n",
    "계산을 정방향으로 하게 되면 순전파, 역방향으로 하면 역전파"
   ]
  },
  {
   "cell_type": "markdown",
   "id": "ed725fea",
   "metadata": {},
   "source": [
    "## 5.1.2 국소적 계산  \n",
    "한 노드에서의 계산을 하기 때문에 간단한 계산을 모아 복잡한 계산가능  \n",
    "이는 Deep learning에서의 연산과 유사하다."
   ]
  },
  {
   "cell_type": "markdown",
   "id": "af793265",
   "metadata": {},
   "source": [
    "## 5.1.3 왜 계산 그래프로 푸는가?  \n",
    "위와 같은 계산 그래프를 사용하는 이유는 어느 한 지점(노드)에서의 변화율을 구할 수 있음. 역전파의 기본  \n",
    "- 궁금한 점   \n",
    "    그러면 순전파와 동시에 기울기를 구할 수 있어서 효율적? "
   ]
  },
  {
   "cell_type": "markdown",
   "id": "d8322fea",
   "metadata": {},
   "source": [
    "## 5.2 연쇄법칙(chain rule)  \n",
    "$z = \\left(x + y\\right)^2$ 이 함수는 아래와 같이 합성함수로 구성 가능하다.  \n",
    "$z = t^2$  \n",
    "$t = x + y$  \n",
    "  \n",
    "합성함수의 미분으로 설명하자면 위의 함수를 미분하면 아래와 같고  \n",
    "### **${\\delta z \\over \\delta x} = {\\delta z \\over \\delta t}{\\delta t \\over \\delta x}$**  \n",
    "이를 약분함으로써 아래와 같은 값을 구할 수 있다.  \n",
    "### **${\\delta z \\over \\delta x}$**  \n",
    "또한 맨 위의 식을 각각 미분해보자면 아래와 같고,  \n",
    "### ${\\delta z \\over \\delta t} = 2t, {\\delta t \\over \\delta x} = 1$  \n",
    "최종적으로는 아래 식과 같이 된다.  \n",
    "### ${\\delta z \\over \\delta x} = {\\delta z \\over \\delta t}{\\delta t \\over \\delta x} = 2t \\times 1 = 2\\left(x + y\\right)$  \n",
    "이를 이용하여 계산 그래프에서 각 노드에서의 미분값을 구할 수 있다."
   ]
  },
  {
   "cell_type": "markdown",
   "id": "2691d753",
   "metadata": {},
   "source": [
    "## 5.4.1 곱셈 계층, 덧셈 계층  \n",
    "모든 계층은 forward(), backword()라는 공통 메서드를 갖도록 구현  \n",
    "- 그럼 이 방식은 autograd와 다른 방식의 미분방식인지?"
   ]
  },
  {
   "cell_type": "code",
   "execution_count": 1,
   "id": "4367bf95",
   "metadata": {
    "ExecuteTime": {
     "end_time": "2021-08-12T07:42:02.964060Z",
     "start_time": "2021-08-12T07:42:02.958055Z"
    }
   },
   "outputs": [],
   "source": [
    "class MulLayer:\n",
    "    def __init__(self):\n",
    "        self.x = None\n",
    "        self.y = None\n",
    "    \n",
    "    def forward(self, x, y):\n",
    "        self.x = x\n",
    "        self.y = y\n",
    "        out = x * y\n",
    "\n",
    "        return out\n",
    "    \n",
    "    def backward(self, dout):\n",
    "        dx = dout * self.y\n",
    "        dy = dout * self.x\n",
    "        \n",
    "        return dx, dy"
   ]
  },
  {
   "cell_type": "code",
   "execution_count": 2,
   "id": "6af4b038",
   "metadata": {
    "ExecuteTime": {
     "end_time": "2021-08-12T07:50:50.109175Z",
     "start_time": "2021-08-12T07:50:50.102175Z"
    }
   },
   "outputs": [],
   "source": [
    "class AddLayer:\n",
    "    def __init__(self):\n",
    "        pass\n",
    "    \n",
    "    def forward(self):\n",
    "        out = x + y\n",
    "        return out\n",
    "    \n",
    "    def backward(self, dout):\n",
    "        dx = dout * 1\n",
    "        dy = dout * 1\n",
    "        return dx, dy"
   ]
  },
  {
   "cell_type": "markdown",
   "id": "4e9b50bc",
   "metadata": {},
   "source": [
    "## 5.5.1 ReLU Layer  \n",
    "  \n",
    "## $y = max(0,x)$\n",
    " ${\\delta y \\over \\delta x} = 1~ if~ x > 0$  \n",
    "$~~~~~~~~~~0~ else$"
   ]
  },
  {
   "cell_type": "code",
   "execution_count": 5,
   "id": "e81370b4",
   "metadata": {
    "ExecuteTime": {
     "end_time": "2021-08-12T07:59:16.249881Z",
     "start_time": "2021-08-12T07:59:16.240450Z"
    }
   },
   "outputs": [],
   "source": [
    "class Relu:\n",
    "    def __init__(self):\n",
    "        self.mask = None\n",
    "        \n",
    "    def forawrd(self, x):\n",
    "        self.mask = (x <= 0)\n",
    "        out = x.copy()\n",
    "        out[self.mask] = 0\n",
    "        return out\n",
    "    \n",
    "    def backward(self, dout):\n",
    "        dout[self.mask] = 0\n",
    "        dx = dout\n",
    "        return dx"
   ]
  },
  {
   "cell_type": "code",
   "execution_count": 12,
   "id": "c9e71256",
   "metadata": {
    "ExecuteTime": {
     "end_time": "2021-08-12T08:01:07.464347Z",
     "start_time": "2021-08-12T08:01:07.442843Z"
    }
   },
   "outputs": [
    {
     "data": {
      "text/plain": [
       "array([0, 0, 0, 0, 0, 0, 1, 2, 3, 4])"
      ]
     },
     "execution_count": 12,
     "metadata": {},
     "output_type": "execute_result"
    }
   ],
   "source": [
    "a = np.arange(-5,5)\n",
    "mask = a<=0 # mask는 0보다 작은 원소를 false로 큰 원소는 true\n",
    "a[mask] = 0\n",
    "a"
   ]
  }
 ],
 "metadata": {
  "kernelspec": {
   "display_name": "Python 3",
   "language": "python",
   "name": "python3"
  },
  "language_info": {
   "codemirror_mode": {
    "name": "ipython",
    "version": 3
   },
   "file_extension": ".py",
   "mimetype": "text/x-python",
   "name": "python",
   "nbconvert_exporter": "python",
   "pygments_lexer": "ipython3",
   "version": "3.8.8"
  },
  "toc": {
   "base_numbering": 1,
   "nav_menu": {},
   "number_sections": true,
   "sideBar": true,
   "skip_h1_title": false,
   "title_cell": "Table of Contents",
   "title_sidebar": "Contents",
   "toc_cell": false,
   "toc_position": {},
   "toc_section_display": true,
   "toc_window_display": false
  },
  "varInspector": {
   "cols": {
    "lenName": 16,
    "lenType": 16,
    "lenVar": 40
   },
   "kernels_config": {
    "python": {
     "delete_cmd_postfix": "",
     "delete_cmd_prefix": "del ",
     "library": "var_list.py",
     "varRefreshCmd": "print(var_dic_list())"
    },
    "r": {
     "delete_cmd_postfix": ") ",
     "delete_cmd_prefix": "rm(",
     "library": "var_list.r",
     "varRefreshCmd": "cat(var_dic_list()) "
    }
   },
   "types_to_exclude": [
    "module",
    "function",
    "builtin_function_or_method",
    "instance",
    "_Feature"
   ],
   "window_display": false
  }
 },
 "nbformat": 4,
 "nbformat_minor": 5
}
