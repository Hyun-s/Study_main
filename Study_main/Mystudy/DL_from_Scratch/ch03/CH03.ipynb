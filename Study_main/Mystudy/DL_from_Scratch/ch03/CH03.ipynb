{
 "cells": [
  {
   "cell_type": "code",
   "execution_count": 1,
   "id": "09673eb5",
   "metadata": {
    "ExecuteTime": {
     "end_time": "2021-07-29T09:28:21.844932Z",
     "start_time": "2021-07-29T09:28:19.973365Z"
    }
   },
   "outputs": [],
   "source": [
    "import numpy as np\n",
    "import pandas as pd\n",
    "import os,sys\n",
    "import matplotlib.pyplot as plt\n",
    "%matplotlib inline"
   ]
  },
  {
   "cell_type": "markdown",
   "id": "2d84d42e",
   "metadata": {},
   "source": [
    "# Activation func\n",
    "activation function은 비선형 함수 사용해야함  \n",
    "선형 함수 사용시 여러 층으로 구성하는 이점이 없다.(아무리 layer를 쌓아도 선형함수)"
   ]
  },
  {
   "cell_type": "markdown",
   "id": "e9cec873",
   "metadata": {},
   "source": [
    "## step_func"
   ]
  },
  {
   "cell_type": "code",
   "execution_count": 2,
   "id": "53ba2385",
   "metadata": {
    "ExecuteTime": {
     "end_time": "2021-07-29T09:28:22.046091Z",
     "start_time": "2021-07-29T09:28:22.036945Z"
    }
   },
   "outputs": [],
   "source": [
    "def step_function(x):\n",
    "    if x>0:\n",
    "        return 1\n",
    "    else:\n",
    "        return 0\n",
    "\n",
    "def step_function(x):\n",
    "    y = x > 0\n",
    "    return y.astype(np.int)\n",
    "\n",
    "def step_function(x):\n",
    "    return np.array(x>0, dtype=int)"
   ]
  },
  {
   "cell_type": "code",
   "execution_count": 3,
   "id": "d5d3417f",
   "metadata": {
    "ExecuteTime": {
     "end_time": "2021-07-29T09:28:22.265309Z",
     "start_time": "2021-07-29T09:28:22.256255Z"
    }
   },
   "outputs": [],
   "source": [
    "# x = np.arange(-5.0, 5.0, 0.1)\n",
    "# y= step_function(x)\n",
    "# plt.plot(x,y)\n",
    "# #plt.xlim(-0.1,1.1) # y축 범위\n",
    "# plt.show()"
   ]
  },
  {
   "cell_type": "markdown",
   "id": "b2eaace1",
   "metadata": {},
   "source": [
    "## sigmoid"
   ]
  },
  {
   "cell_type": "code",
   "execution_count": 4,
   "id": "f7deea86",
   "metadata": {
    "ExecuteTime": {
     "end_time": "2021-07-29T09:28:22.873062Z",
     "start_time": "2021-07-29T09:28:22.858621Z"
    }
   },
   "outputs": [],
   "source": [
    "def sigmoid(x):\n",
    "    return 1/(1+np.exp(-x))"
   ]
  },
  {
   "cell_type": "code",
   "execution_count": 5,
   "id": "db4055e1",
   "metadata": {
    "ExecuteTime": {
     "end_time": "2021-07-29T09:28:23.122476Z",
     "start_time": "2021-07-29T09:28:23.105423Z"
    }
   },
   "outputs": [],
   "source": [
    "# y= sigmoid(x)\n",
    "# plt.plot(x,y)\n",
    "# plt.ylim(-0.1,1.1)\n",
    "# plt.show()"
   ]
  },
  {
   "cell_type": "markdown",
   "id": "3a121288",
   "metadata": {},
   "source": [
    "## ReLU"
   ]
  },
  {
   "cell_type": "code",
   "execution_count": 6,
   "id": "f9b161bc",
   "metadata": {
    "ExecuteTime": {
     "end_time": "2021-07-29T09:28:23.525401Z",
     "start_time": "2021-07-29T09:28:23.507851Z"
    }
   },
   "outputs": [],
   "source": [
    "def relu(x):\n",
    "    return np.maximum(0,x)"
   ]
  },
  {
   "cell_type": "code",
   "execution_count": 7,
   "id": "19447779",
   "metadata": {
    "ExecuteTime": {
     "end_time": "2021-07-29T09:28:23.776061Z",
     "start_time": "2021-07-29T09:28:23.770017Z"
    }
   },
   "outputs": [],
   "source": [
    "# y = relu(x)\n",
    "# plt.plot(x,y)\n",
    "# plt.show()"
   ]
  },
  {
   "cell_type": "markdown",
   "id": "6cc41292",
   "metadata": {},
   "source": [
    "# 3-layer network"
   ]
  },
  {
   "cell_type": "code",
   "execution_count": 8,
   "id": "e981eb0e",
   "metadata": {
    "ExecuteTime": {
     "end_time": "2021-07-29T09:28:24.241182Z",
     "start_time": "2021-07-29T09:28:24.231183Z"
    }
   },
   "outputs": [],
   "source": [
    "def identitiy_function(x):\n",
    "    return x\n",
    "\n",
    "def init_network():\n",
    "    network = {}\n",
    "    network['W1'] = np.array([[0.1, 0.3, 0.5], [0.2, 0.4, 0.6]])\n",
    "    network['b1'] = np.array([0.1, 0.2, 0.3])\n",
    "    network['W2'] = np.array([[0.1, 0.4], [0.2, 0.5], [0.3, 0.6]])\n",
    "    network['b2'] = np.array([0.1, 0.2])\n",
    "    network['W3'] = np.array([[0.1, 0.3], [0.2, 0.4]])\n",
    "    network['b3'] = np.array([0.1, 0.2])\n",
    "    \n",
    "    return network\n",
    "    \n",
    "def forward(network, x):\n",
    "    W1, W2, W3 = network['W1'], network['W2'], network['W3']\n",
    "    b1, b2, b3 = network['b1'], network['b2'], network['b3']\n",
    "    \n",
    "    a1 = np.dot(x, W1) + b1\n",
    "    z1 = sigmoid(a1)\n",
    "    a2 = np.dot(z1, W2) + b2\n",
    "    z2 = sigmoid(a2)\n",
    "    a3 = np.dot(z2, W3) + b3\n",
    "    y = identitiy_function(a3)\n",
    "    \n",
    "    return y\n",
    "\n",
    "# network = init_network()\n",
    "# x = np.array([1.0, 0.5])\n",
    "# y = forward(network, x)\n",
    "# print(y)"
   ]
  },
  {
   "cell_type": "markdown",
   "id": "0177273e",
   "metadata": {},
   "source": [
    "# softmax\n",
    "exp 는 단조 증가 함수이기 때문에 각 원소의 대소 관계는 안 변함.  \n",
    "exp 연산은 자원 사용이 크기 때문에 생략 가능하다."
   ]
  },
  {
   "cell_type": "markdown",
   "id": "ec396b4f",
   "metadata": {},
   "source": [
    "## softmax_v1\n",
    "이는 exp(100) == inf 라는 문제 발생"
   ]
  },
  {
   "cell_type": "code",
   "execution_count": 9,
   "id": "59e3ab64",
   "metadata": {
    "ExecuteTime": {
     "end_time": "2021-06-26T14:07:10.967872Z",
     "start_time": "2021-06-26T14:07:10.952250Z"
    }
   },
   "outputs": [],
   "source": [
    "def softmax_v1(a):\n",
    "    exp_a = np.exp(a)\n",
    "    sum_exp_a = np.sum(exp_a)\n",
    "    y = exp_a / sum_exp_a\n",
    "    \n",
    "    return y"
   ]
  },
  {
   "cell_type": "markdown",
   "id": "a9403754",
   "metadata": {},
   "source": [
    "오버플로 문제"
   ]
  },
  {
   "cell_type": "code",
   "execution_count": 10,
   "id": "4ab71625",
   "metadata": {
    "ExecuteTime": {
     "end_time": "2021-06-26T14:07:11.395602Z",
     "start_time": "2021-06-26T14:07:11.389617Z"
    }
   },
   "outputs": [],
   "source": [
    "test = np.array([1000,1010,1010])\n",
    "#print(softmax_v1(test))"
   ]
  },
  {
   "cell_type": "markdown",
   "id": "05c8bd59",
   "metadata": {},
   "source": [
    "## 위의 오버플로 문제 해결방안\n",
    "exp(x)를 exp(x - max(x))로 바꾸자"
   ]
  },
  {
   "cell_type": "code",
   "execution_count": 11,
   "id": "7a833dd5",
   "metadata": {
    "ExecuteTime": {
     "end_time": "2021-06-26T14:07:11.808131Z",
     "start_time": "2021-06-26T14:07:11.795185Z"
    }
   },
   "outputs": [],
   "source": [
    "def softmax(a):\n",
    "    c = np.max(a)\n",
    "    exp_a = np.exp(a - c) ## 오버플로 해결방안\n",
    "    sum_exp_a = np.sum(exp_a)\n",
    "    y = exp_a / sum_exp_a\n",
    "    \n",
    "    return y\n",
    "\n",
    "#print(softmax(test))"
   ]
  },
  {
   "cell_type": "markdown",
   "id": "d6fa5121",
   "metadata": {},
   "source": [
    "# MNIST"
   ]
  },
  {
   "cell_type": "code",
   "execution_count": 12,
   "id": "ed2029a8",
   "metadata": {
    "ExecuteTime": {
     "end_time": "2021-07-29T09:29:37.454216Z",
     "start_time": "2021-07-29T09:29:37.413304Z"
    }
   },
   "outputs": [
    {
     "name": "stdout",
     "output_type": "stream",
     "text": [
      "(60000, 784)\n",
      "(60000,)\n",
      "(10000, 784)\n",
      "(10000,)\n"
     ]
    }
   ],
   "source": [
    "import sys, os\n",
    "sys.path.append(os.pardir)\n",
    "from dataset.mnist import load_mnist\n",
    "\n",
    "(x_train, t_train), (x_test, t_test) = load_mnist(flatten = True, normalize = False)\n",
    "\n",
    "print(x_train.shape)\n",
    "print(t_train.shape)\n",
    "print(x_test.shape)\n",
    "print(t_test.shape)"
   ]
  },
  {
   "cell_type": "code",
   "execution_count": null,
   "id": "42f62f31",
   "metadata": {},
   "outputs": [],
   "source": []
  },
  {
   "cell_type": "code",
   "execution_count": null,
   "id": "4550b643",
   "metadata": {},
   "outputs": [],
   "source": []
  }
 ],
 "metadata": {
  "kernelspec": {
   "display_name": "Python 3",
   "language": "python",
   "name": "python3"
  },
  "language_info": {
   "codemirror_mode": {
    "name": "ipython",
    "version": 3
   },
   "file_extension": ".py",
   "mimetype": "text/x-python",
   "name": "python",
   "nbconvert_exporter": "python",
   "pygments_lexer": "ipython3",
   "version": "3.8.8"
  },
  "toc": {
   "base_numbering": 1,
   "nav_menu": {},
   "number_sections": true,
   "sideBar": true,
   "skip_h1_title": false,
   "title_cell": "Table of Contents",
   "title_sidebar": "Contents",
   "toc_cell": false,
   "toc_position": {},
   "toc_section_display": true,
   "toc_window_display": false
  },
  "varInspector": {
   "cols": {
    "lenName": 16,
    "lenType": 16,
    "lenVar": 40
   },
   "kernels_config": {
    "python": {
     "delete_cmd_postfix": "",
     "delete_cmd_prefix": "del ",
     "library": "var_list.py",
     "varRefreshCmd": "print(var_dic_list())"
    },
    "r": {
     "delete_cmd_postfix": ") ",
     "delete_cmd_prefix": "rm(",
     "library": "var_list.r",
     "varRefreshCmd": "cat(var_dic_list()) "
    }
   },
   "types_to_exclude": [
    "module",
    "function",
    "builtin_function_or_method",
    "instance",
    "_Feature"
   ],
   "window_display": false
  }
 },
 "nbformat": 4,
 "nbformat_minor": 5
}
